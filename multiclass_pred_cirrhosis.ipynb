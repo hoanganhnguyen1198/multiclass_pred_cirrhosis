{
 "cells": [
  {
   "cell_type": "code",
   "execution_count": 1,
   "metadata": {},
   "outputs": [],
   "source": [
    "import pandas as pd\n",
    "import numpy as np\n",
    "import matplotlib.pyplot as plt\n",
    "from sklearn import preprocessing\n",
    "from sklearn.preprocessing import StandardScaler"
   ]
  },
  {
   "cell_type": "markdown",
   "metadata": {},
   "source": [
    "# Pre-process"
   ]
  },
  {
   "cell_type": "code",
   "execution_count": null,
   "metadata": {},
   "outputs": [],
   "source": [
    "def preprocess(df:  pd.DataFrame) -> pd.DataFrame:\n",
    "    X = df.drop(['id', 'Status'], axis=1)\n",
    "    y = df[['Status']]\n",
    "\n",
    "    # One-hot encoding\n",
    "    X_1h = pd.get_dummies(X,\n",
    "                          columns=['Drug', 'Sex', 'Ascites',\n",
    "                                   'Hepatomegaly', 'Spiders', 'Edema'],\n",
    "                          dtype=np.uint8)\n",
    "    X_1h.drop(['Drug_D-penicillamine', 'Sex_M', 'Ascites_N',\n",
    "              'Hepatomegaly_N', 'Spiders_N'], axis=1, inplace=True)\n",
    "\n",
    "    # Standard Scaler\n",
    "    X_encoded = X_1h[['Stage', 'Drug_Placebo', 'Sex_F', 'Ascites_Y',\n",
    "                      'Hepatomegaly_Y', 'Spiders_Y', 'Edema_N', 'Edema_S', 'Edema_Y']]\n",
    "    X_std = X_1h.drop(['Stage', 'Drug_Placebo', 'Sex_F', 'Ascites_Y',\n",
    "                       'Hepatomegaly_Y', 'Spiders_Y', 'Edema_N', 'Edema_S', 'Edema_Y'], axis=1)\n",
    "\n",
    "    std_scaler = StandardScaler()\n",
    "    std_scaled_data = std_scaler.fit_transform(X_std)\n",
    "    X_std = pd.DataFrame(\n",
    "        std_scaled_data, index=X_std.index, columns=X_std.columns)\n",
    "\n",
    "    processed_df = pd.concat([X_std, X_encoded, y], axis=1)\n",
    "\n",
    "    return processed_df"
   ]
  }
 ],
 "metadata": {
  "kernelspec": {
   "display_name": "base",
   "language": "python",
   "name": "python3"
  },
  "language_info": {
   "codemirror_mode": {
    "name": "ipython",
    "version": 3
   },
   "file_extension": ".py",
   "mimetype": "text/x-python",
   "name": "python",
   "nbconvert_exporter": "python",
   "pygments_lexer": "ipython3",
   "version": "3.10.9"
  }
 },
 "nbformat": 4,
 "nbformat_minor": 2
}
