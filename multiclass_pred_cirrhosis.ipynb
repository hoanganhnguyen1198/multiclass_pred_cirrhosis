{
 "cells": [
  {
   "cell_type": "code",
   "execution_count": 1,
   "metadata": {},
   "outputs": [],
   "source": [
    "import pandas as pd\n",
    "import numpy as np\n",
    "import matplotlib.pyplot as plt\n",
    "from sklearn import preprocessing\n",
    "from sklearn.preprocessing import StandardScaler"
   ]
  },
  {
   "cell_type": "code",
   "execution_count": 3,
   "metadata": {},
   "outputs": [],
   "source": [
    "from sklearn.preprocessing import OneHotEncoder\n",
    "from sklearn.model_selection import train_test_split\n",
    "import torch\n",
    "import torch.nn as nn\n",
    "import torch.optim as optim\n",
    "import tqdm\n",
    "import torch.nn.functional as F\n",
    "import copy"
   ]
  },
  {
   "cell_type": "markdown",
   "metadata": {},
   "source": [
    "# Pre-process"
   ]
  },
  {
   "cell_type": "code",
   "execution_count": 4,
   "metadata": {},
   "outputs": [],
   "source": [
    "def preprocess(df:  pd.DataFrame) -> pd.DataFrame:\n",
    "    X = df.drop(['id', 'Status'], axis=1)\n",
    "    y = df[['Status']]\n",
    "\n",
    "    # One-hot encoding\n",
    "    X_1h = pd.get_dummies(X,\n",
    "                          columns=['Drug', 'Sex', 'Ascites',\n",
    "                                   'Hepatomegaly', 'Spiders', 'Edema'],\n",
    "                          dtype=np.uint8)\n",
    "    X_1h.drop(['Drug_D-penicillamine', 'Sex_M', 'Ascites_N',\n",
    "              'Hepatomegaly_N', 'Spiders_N'], axis=1, inplace=True)\n",
    "\n",
    "    # Standard Scaler\n",
    "    X_encoded = X_1h[['Stage', 'Drug_Placebo', 'Sex_F', 'Ascites_Y',\n",
    "                      'Hepatomegaly_Y', 'Spiders_Y', 'Edema_N', 'Edema_S', 'Edema_Y']]\n",
    "    X_std = X_1h.drop(['Stage', 'Drug_Placebo', 'Sex_F', 'Ascites_Y',\n",
    "                       'Hepatomegaly_Y', 'Spiders_Y', 'Edema_N', 'Edema_S', 'Edema_Y'], axis=1)\n",
    "\n",
    "    std_scaler = StandardScaler()\n",
    "    std_scaled_data = std_scaler.fit_transform(X_std)\n",
    "    X_std = pd.DataFrame(\n",
    "        std_scaled_data, index=X_std.index, columns=X_std.columns)\n",
    "\n",
    "    processed_df = pd.concat([X_std, X_encoded, y], axis=1)\n",
    "\n",
    "    return processed_df"
   ]
  },
  {
   "cell_type": "markdown",
   "metadata": {},
   "source": [
    "## One-hot Encoding Target"
   ]
  },
  {
   "cell_type": "code",
   "execution_count": 5,
   "metadata": {},
   "outputs": [],
   "source": [
    "train_df = pd.read_csv('./data/train_ds_processed.csv')"
   ]
  },
  {
   "cell_type": "code",
   "execution_count": 6,
   "metadata": {},
   "outputs": [],
   "source": [
    "X = train_df.drop(['Status'], axis=1)\n",
    "y = train_df[['Status']]"
   ]
  },
  {
   "cell_type": "code",
   "execution_count": 7,
   "metadata": {},
   "outputs": [
    {
     "data": {
      "text/plain": [
       "[array(['C', 'CL', 'D'], dtype=object)]"
      ]
     },
     "execution_count": 7,
     "metadata": {},
     "output_type": "execute_result"
    }
   ],
   "source": [
    "onehot_enc = OneHotEncoder(sparse_output=False).fit(y)\n",
    "onehot_enc.categories_"
   ]
  },
  {
   "cell_type": "code",
   "execution_count": 8,
   "metadata": {},
   "outputs": [],
   "source": [
    "y = onehot_enc.transform(y)"
   ]
  },
  {
   "cell_type": "markdown",
   "metadata": {},
   "source": [
    "# Model Planning"
   ]
  },
  {
   "cell_type": "code",
   "execution_count": 9,
   "metadata": {},
   "outputs": [],
   "source": [
    "# convert pandas DataFrame (X) and numpy array (y) into PyTorch tensors\n",
    "X = torch.tensor(X.values, dtype=torch.float32)\n",
    "y = torch.tensor(y, dtype=torch.float32)"
   ]
  },
  {
   "cell_type": "code",
   "execution_count": 10,
   "metadata": {},
   "outputs": [
    {
     "name": "stdout",
     "output_type": "stream",
     "text": [
      "torch.Size([6324, 20])\n",
      "torch.Size([6324, 3])\n"
     ]
    }
   ],
   "source": [
    "print(X.shape)\n",
    "print(y.shape)"
   ]
  },
  {
   "cell_type": "code",
   "execution_count": 44,
   "metadata": {},
   "outputs": [],
   "source": [
    "# split\n",
    "X_train, X_valid, y_train, y_valid = train_test_split(X, y, train_size=0.7, shuffle=True)"
   ]
  },
  {
   "cell_type": "code",
   "execution_count": 65,
   "metadata": {},
   "outputs": [],
   "source": [
    "LEARNING_RATE = 0.0001\n",
    "N_EPOCHS = 50\n",
    "BATCH_SIZE = 20\n",
    "\n",
    "batches_per_epoch = len(X_train) // BATCH_SIZE"
   ]
  },
  {
   "cell_type": "code",
   "execution_count": 94,
   "metadata": {},
   "outputs": [],
   "source": [
    "# Multiclass-classifier with only Linear layers\n",
    "class MulticlassLO(nn.Module):\n",
    "    def __init__(self):\n",
    "        super().__init__()\n",
    "        self.fc1 = nn.Linear(20, 40)\n",
    "        self.fc2 = nn.Linear(40, 10)\n",
    "        self.output = nn.Linear(10, 3)\n",
    "        \n",
    "    def forward(self, x):\n",
    "        x = F.relu(self.fc1(x))\n",
    "        x = F.relu(self.fc2(x))\n",
    "        x = self.output(x)\n",
    "        return torch.softmax(x, dim=1)"
   ]
  },
  {
   "cell_type": "code",
   "execution_count": 95,
   "metadata": {},
   "outputs": [],
   "source": [
    "model = MulticlassLO()"
   ]
  },
  {
   "cell_type": "code",
   "execution_count": 96,
   "metadata": {},
   "outputs": [],
   "source": [
    "loss_fn = nn.CrossEntropyLoss()\n",
    "optimizer = optim.Adam(model.parameters(), lr=LEARNING_RATE)"
   ]
  },
  {
   "cell_type": "code",
   "execution_count": 97,
   "metadata": {},
   "outputs": [],
   "source": [
    "best_acc = - np.inf   # init to negative infinity\n",
    "best_weights = None\n",
    "train_loss_hist = []\n",
    "train_acc_hist = []\n",
    "valid_loss_hist = []\n",
    "valid_acc_hist = []"
   ]
  },
  {
   "cell_type": "markdown",
   "metadata": {},
   "source": [
    "# Model Training"
   ]
  },
  {
   "cell_type": "code",
   "execution_count": 98,
   "metadata": {},
   "outputs": [
    {
     "name": "stderr",
     "output_type": "stream",
     "text": [
      "Epoch 0: 100%|██████████| 221/221 [00:01<00:00, 143.98batch/s, acc=0.35, loss=1.07]\n"
     ]
    },
    {
     "name": "stdout",
     "output_type": "stream",
     "text": [
      "Epoch 0 validation: Cross-entropy=1.08, Accuracy=35.0%\n"
     ]
    },
    {
     "name": "stderr",
     "output_type": "stream",
     "text": [
      "Epoch 1: 100%|██████████| 221/221 [00:01<00:00, 146.49batch/s, acc=0.4, loss=1]     \n"
     ]
    },
    {
     "name": "stdout",
     "output_type": "stream",
     "text": [
      "Epoch 1 validation: Cross-entropy=1.02, Accuracy=41.1%\n"
     ]
    },
    {
     "name": "stderr",
     "output_type": "stream",
     "text": [
      "Epoch 2: 100%|██████████| 221/221 [00:01<00:00, 142.23batch/s, acc=0.9, loss=0.852] \n"
     ]
    },
    {
     "name": "stdout",
     "output_type": "stream",
     "text": [
      "Epoch 2 validation: Cross-entropy=0.90, Accuracy=77.9%\n"
     ]
    },
    {
     "name": "stderr",
     "output_type": "stream",
     "text": [
      "Epoch 3: 100%|██████████| 221/221 [00:01<00:00, 149.20batch/s, acc=0.9, loss=0.756] \n"
     ]
    },
    {
     "name": "stdout",
     "output_type": "stream",
     "text": [
      "Epoch 3 validation: Cross-entropy=0.82, Accuracy=78.1%\n"
     ]
    },
    {
     "name": "stderr",
     "output_type": "stream",
     "text": [
      "Epoch 4: 100%|██████████| 221/221 [00:01<00:00, 158.60batch/s, acc=0.9, loss=0.721] \n"
     ]
    },
    {
     "name": "stdout",
     "output_type": "stream",
     "text": [
      "Epoch 4 validation: Cross-entropy=0.79, Accuracy=78.7%\n"
     ]
    },
    {
     "name": "stderr",
     "output_type": "stream",
     "text": [
      "Epoch 5: 100%|██████████| 221/221 [00:01<00:00, 145.41batch/s, acc=0.9, loss=0.705] \n"
     ]
    },
    {
     "name": "stdout",
     "output_type": "stream",
     "text": [
      "Epoch 5 validation: Cross-entropy=0.77, Accuracy=79.0%\n"
     ]
    },
    {
     "name": "stderr",
     "output_type": "stream",
     "text": [
      "Epoch 6: 100%|██████████| 221/221 [00:01<00:00, 159.91batch/s, acc=0.9, loss=0.696] \n"
     ]
    },
    {
     "name": "stdout",
     "output_type": "stream",
     "text": [
      "Epoch 6 validation: Cross-entropy=0.77, Accuracy=79.1%\n"
     ]
    },
    {
     "name": "stderr",
     "output_type": "stream",
     "text": [
      "Epoch 7: 100%|██████████| 221/221 [00:01<00:00, 139.50batch/s, acc=0.9, loss=0.69]  \n"
     ]
    },
    {
     "name": "stdout",
     "output_type": "stream",
     "text": [
      "Epoch 7 validation: Cross-entropy=0.76, Accuracy=79.4%\n"
     ]
    },
    {
     "name": "stderr",
     "output_type": "stream",
     "text": [
      "Epoch 8: 100%|██████████| 221/221 [00:01<00:00, 149.09batch/s, acc=0.9, loss=0.687] \n"
     ]
    },
    {
     "name": "stdout",
     "output_type": "stream",
     "text": [
      "Epoch 8 validation: Cross-entropy=0.76, Accuracy=79.7%\n"
     ]
    },
    {
     "name": "stderr",
     "output_type": "stream",
     "text": [
      "Epoch 9: 100%|██████████| 221/221 [00:01<00:00, 139.61batch/s, acc=0.9, loss=0.684] \n"
     ]
    },
    {
     "name": "stdout",
     "output_type": "stream",
     "text": [
      "Epoch 9 validation: Cross-entropy=0.76, Accuracy=79.9%\n"
     ]
    },
    {
     "name": "stderr",
     "output_type": "stream",
     "text": [
      "Epoch 10: 100%|██████████| 221/221 [00:01<00:00, 140.77batch/s, acc=0.9, loss=0.682] \n"
     ]
    },
    {
     "name": "stdout",
     "output_type": "stream",
     "text": [
      "Epoch 10 validation: Cross-entropy=0.76, Accuracy=80.0%\n"
     ]
    },
    {
     "name": "stderr",
     "output_type": "stream",
     "text": [
      "Epoch 11: 100%|██████████| 221/221 [00:01<00:00, 140.87batch/s, acc=0.9, loss=0.681] \n"
     ]
    },
    {
     "name": "stdout",
     "output_type": "stream",
     "text": [
      "Epoch 11 validation: Cross-entropy=0.75, Accuracy=80.0%\n"
     ]
    },
    {
     "name": "stderr",
     "output_type": "stream",
     "text": [
      "Epoch 12: 100%|██████████| 221/221 [00:01<00:00, 131.55batch/s, acc=0.9, loss=0.679] \n"
     ]
    },
    {
     "name": "stdout",
     "output_type": "stream",
     "text": [
      "Epoch 12 validation: Cross-entropy=0.75, Accuracy=80.2%\n"
     ]
    },
    {
     "name": "stderr",
     "output_type": "stream",
     "text": [
      "Epoch 13: 100%|██████████| 221/221 [00:01<00:00, 136.40batch/s, acc=0.9, loss=0.679] \n"
     ]
    },
    {
     "name": "stdout",
     "output_type": "stream",
     "text": [
      "Epoch 13 validation: Cross-entropy=0.75, Accuracy=80.3%\n"
     ]
    },
    {
     "name": "stderr",
     "output_type": "stream",
     "text": [
      "Epoch 14: 100%|██████████| 221/221 [00:01<00:00, 122.45batch/s, acc=0.9, loss=0.678] \n"
     ]
    },
    {
     "name": "stdout",
     "output_type": "stream",
     "text": [
      "Epoch 14 validation: Cross-entropy=0.75, Accuracy=80.3%\n"
     ]
    },
    {
     "name": "stderr",
     "output_type": "stream",
     "text": [
      "Epoch 15: 100%|██████████| 221/221 [00:01<00:00, 137.75batch/s, acc=0.9, loss=0.677] \n"
     ]
    },
    {
     "name": "stdout",
     "output_type": "stream",
     "text": [
      "Epoch 15 validation: Cross-entropy=0.75, Accuracy=80.4%\n"
     ]
    },
    {
     "name": "stderr",
     "output_type": "stream",
     "text": [
      "Epoch 16: 100%|██████████| 221/221 [00:01<00:00, 147.19batch/s, acc=0.9, loss=0.677] \n"
     ]
    },
    {
     "name": "stdout",
     "output_type": "stream",
     "text": [
      "Epoch 16 validation: Cross-entropy=0.75, Accuracy=80.5%\n"
     ]
    },
    {
     "name": "stderr",
     "output_type": "stream",
     "text": [
      "Epoch 17: 100%|██████████| 221/221 [00:01<00:00, 130.19batch/s, acc=0.9, loss=0.677] \n"
     ]
    },
    {
     "name": "stdout",
     "output_type": "stream",
     "text": [
      "Epoch 17 validation: Cross-entropy=0.75, Accuracy=80.5%\n"
     ]
    },
    {
     "name": "stderr",
     "output_type": "stream",
     "text": [
      "Epoch 18: 100%|██████████| 221/221 [00:01<00:00, 136.59batch/s, acc=0.9, loss=0.676] \n"
     ]
    },
    {
     "name": "stdout",
     "output_type": "stream",
     "text": [
      "Epoch 18 validation: Cross-entropy=0.75, Accuracy=80.5%\n"
     ]
    },
    {
     "name": "stderr",
     "output_type": "stream",
     "text": [
      "Epoch 19: 100%|██████████| 221/221 [00:01<00:00, 148.29batch/s, acc=0.9, loss=0.676] \n"
     ]
    },
    {
     "name": "stdout",
     "output_type": "stream",
     "text": [
      "Epoch 19 validation: Cross-entropy=0.75, Accuracy=80.5%\n"
     ]
    },
    {
     "name": "stderr",
     "output_type": "stream",
     "text": [
      "Epoch 20: 100%|██████████| 221/221 [00:01<00:00, 139.62batch/s, acc=0.9, loss=0.676] \n"
     ]
    },
    {
     "name": "stdout",
     "output_type": "stream",
     "text": [
      "Epoch 20 validation: Cross-entropy=0.75, Accuracy=80.5%\n"
     ]
    },
    {
     "name": "stderr",
     "output_type": "stream",
     "text": [
      "Epoch 21: 100%|██████████| 221/221 [00:01<00:00, 145.35batch/s, acc=0.9, loss=0.676] \n"
     ]
    },
    {
     "name": "stdout",
     "output_type": "stream",
     "text": [
      "Epoch 21 validation: Cross-entropy=0.75, Accuracy=80.5%\n"
     ]
    },
    {
     "name": "stderr",
     "output_type": "stream",
     "text": [
      "Epoch 22: 100%|██████████| 221/221 [00:01<00:00, 137.72batch/s, acc=0.9, loss=0.676] \n"
     ]
    },
    {
     "name": "stdout",
     "output_type": "stream",
     "text": [
      "Epoch 22 validation: Cross-entropy=0.75, Accuracy=80.5%\n"
     ]
    },
    {
     "name": "stderr",
     "output_type": "stream",
     "text": [
      "Epoch 23: 100%|██████████| 221/221 [00:01<00:00, 140.10batch/s, acc=0.9, loss=0.676] \n"
     ]
    },
    {
     "name": "stdout",
     "output_type": "stream",
     "text": [
      "Epoch 23 validation: Cross-entropy=0.75, Accuracy=80.5%\n"
     ]
    },
    {
     "name": "stderr",
     "output_type": "stream",
     "text": [
      "Epoch 24: 100%|██████████| 221/221 [00:01<00:00, 146.41batch/s, acc=0.9, loss=0.676] \n"
     ]
    },
    {
     "name": "stdout",
     "output_type": "stream",
     "text": [
      "Epoch 24 validation: Cross-entropy=0.75, Accuracy=80.4%\n"
     ]
    },
    {
     "name": "stderr",
     "output_type": "stream",
     "text": [
      "Epoch 25: 100%|██████████| 221/221 [00:01<00:00, 139.42batch/s, acc=0.9, loss=0.676] \n"
     ]
    },
    {
     "name": "stdout",
     "output_type": "stream",
     "text": [
      "Epoch 25 validation: Cross-entropy=0.75, Accuracy=80.3%\n"
     ]
    },
    {
     "name": "stderr",
     "output_type": "stream",
     "text": [
      "Epoch 26: 100%|██████████| 221/221 [00:01<00:00, 144.84batch/s, acc=0.9, loss=0.676] \n"
     ]
    },
    {
     "name": "stdout",
     "output_type": "stream",
     "text": [
      "Epoch 26 validation: Cross-entropy=0.75, Accuracy=80.3%\n"
     ]
    },
    {
     "name": "stderr",
     "output_type": "stream",
     "text": [
      "Epoch 27: 100%|██████████| 221/221 [00:01<00:00, 128.85batch/s, acc=0.9, loss=0.676] \n"
     ]
    },
    {
     "name": "stdout",
     "output_type": "stream",
     "text": [
      "Epoch 27 validation: Cross-entropy=0.75, Accuracy=80.4%\n"
     ]
    },
    {
     "name": "stderr",
     "output_type": "stream",
     "text": [
      "Epoch 28: 100%|██████████| 221/221 [00:01<00:00, 128.68batch/s, acc=0.9, loss=0.676] \n"
     ]
    },
    {
     "name": "stdout",
     "output_type": "stream",
     "text": [
      "Epoch 28 validation: Cross-entropy=0.75, Accuracy=80.3%\n"
     ]
    },
    {
     "name": "stderr",
     "output_type": "stream",
     "text": [
      "Epoch 29: 100%|██████████| 221/221 [00:01<00:00, 128.53batch/s, acc=0.9, loss=0.676] \n"
     ]
    },
    {
     "name": "stdout",
     "output_type": "stream",
     "text": [
      "Epoch 29 validation: Cross-entropy=0.75, Accuracy=80.4%\n"
     ]
    },
    {
     "name": "stderr",
     "output_type": "stream",
     "text": [
      "Epoch 30: 100%|██████████| 221/221 [00:01<00:00, 134.05batch/s, acc=0.9, loss=0.676] \n"
     ]
    },
    {
     "name": "stdout",
     "output_type": "stream",
     "text": [
      "Epoch 30 validation: Cross-entropy=0.75, Accuracy=80.3%\n"
     ]
    },
    {
     "name": "stderr",
     "output_type": "stream",
     "text": [
      "Epoch 31: 100%|██████████| 221/221 [00:01<00:00, 146.97batch/s, acc=0.9, loss=0.676] \n"
     ]
    },
    {
     "name": "stdout",
     "output_type": "stream",
     "text": [
      "Epoch 31 validation: Cross-entropy=0.75, Accuracy=80.4%\n"
     ]
    },
    {
     "name": "stderr",
     "output_type": "stream",
     "text": [
      "Epoch 32: 100%|██████████| 221/221 [00:01<00:00, 142.30batch/s, acc=0.9, loss=0.676] \n"
     ]
    },
    {
     "name": "stdout",
     "output_type": "stream",
     "text": [
      "Epoch 32 validation: Cross-entropy=0.75, Accuracy=80.4%\n"
     ]
    },
    {
     "name": "stderr",
     "output_type": "stream",
     "text": [
      "Epoch 33: 100%|██████████| 221/221 [00:01<00:00, 141.68batch/s, acc=0.9, loss=0.676] \n"
     ]
    },
    {
     "name": "stdout",
     "output_type": "stream",
     "text": [
      "Epoch 33 validation: Cross-entropy=0.75, Accuracy=80.5%\n"
     ]
    },
    {
     "name": "stderr",
     "output_type": "stream",
     "text": [
      "Epoch 34: 100%|██████████| 221/221 [00:01<00:00, 146.70batch/s, acc=0.9, loss=0.676] \n"
     ]
    },
    {
     "name": "stdout",
     "output_type": "stream",
     "text": [
      "Epoch 34 validation: Cross-entropy=0.75, Accuracy=80.5%\n"
     ]
    },
    {
     "name": "stderr",
     "output_type": "stream",
     "text": [
      "Epoch 35: 100%|██████████| 221/221 [00:01<00:00, 136.42batch/s, acc=0.9, loss=0.676] \n"
     ]
    },
    {
     "name": "stdout",
     "output_type": "stream",
     "text": [
      "Epoch 35 validation: Cross-entropy=0.75, Accuracy=80.6%\n"
     ]
    },
    {
     "name": "stderr",
     "output_type": "stream",
     "text": [
      "Epoch 36: 100%|██████████| 221/221 [00:01<00:00, 137.30batch/s, acc=0.9, loss=0.676] \n"
     ]
    },
    {
     "name": "stdout",
     "output_type": "stream",
     "text": [
      "Epoch 36 validation: Cross-entropy=0.75, Accuracy=80.6%\n"
     ]
    },
    {
     "name": "stderr",
     "output_type": "stream",
     "text": [
      "Epoch 37: 100%|██████████| 221/221 [00:01<00:00, 146.62batch/s, acc=0.9, loss=0.676] \n"
     ]
    },
    {
     "name": "stdout",
     "output_type": "stream",
     "text": [
      "Epoch 37 validation: Cross-entropy=0.75, Accuracy=80.4%\n"
     ]
    },
    {
     "name": "stderr",
     "output_type": "stream",
     "text": [
      "Epoch 38: 100%|██████████| 221/221 [00:01<00:00, 133.81batch/s, acc=0.9, loss=0.676] \n"
     ]
    },
    {
     "name": "stdout",
     "output_type": "stream",
     "text": [
      "Epoch 38 validation: Cross-entropy=0.75, Accuracy=80.5%\n"
     ]
    },
    {
     "name": "stderr",
     "output_type": "stream",
     "text": [
      "Epoch 39: 100%|██████████| 221/221 [00:01<00:00, 146.60batch/s, acc=0.9, loss=0.676] \n"
     ]
    },
    {
     "name": "stdout",
     "output_type": "stream",
     "text": [
      "Epoch 39 validation: Cross-entropy=0.75, Accuracy=80.3%\n"
     ]
    },
    {
     "name": "stderr",
     "output_type": "stream",
     "text": [
      "Epoch 40: 100%|██████████| 221/221 [00:01<00:00, 135.79batch/s, acc=0.9, loss=0.676] \n"
     ]
    },
    {
     "name": "stdout",
     "output_type": "stream",
     "text": [
      "Epoch 40 validation: Cross-entropy=0.75, Accuracy=80.2%\n"
     ]
    },
    {
     "name": "stderr",
     "output_type": "stream",
     "text": [
      "Epoch 41: 100%|██████████| 221/221 [00:01<00:00, 137.09batch/s, acc=0.9, loss=0.676] \n"
     ]
    },
    {
     "name": "stdout",
     "output_type": "stream",
     "text": [
      "Epoch 41 validation: Cross-entropy=0.75, Accuracy=80.3%\n"
     ]
    },
    {
     "name": "stderr",
     "output_type": "stream",
     "text": [
      "Epoch 42: 100%|██████████| 221/221 [00:01<00:00, 146.99batch/s, acc=0.9, loss=0.676] \n"
     ]
    },
    {
     "name": "stdout",
     "output_type": "stream",
     "text": [
      "Epoch 42 validation: Cross-entropy=0.75, Accuracy=80.2%\n"
     ]
    },
    {
     "name": "stderr",
     "output_type": "stream",
     "text": [
      "Epoch 43: 100%|██████████| 221/221 [00:01<00:00, 141.27batch/s, acc=0.9, loss=0.675] \n"
     ]
    },
    {
     "name": "stdout",
     "output_type": "stream",
     "text": [
      "Epoch 43 validation: Cross-entropy=0.75, Accuracy=80.2%\n"
     ]
    },
    {
     "name": "stderr",
     "output_type": "stream",
     "text": [
      "Epoch 44: 100%|██████████| 221/221 [00:01<00:00, 149.23batch/s, acc=0.9, loss=0.675] \n"
     ]
    },
    {
     "name": "stdout",
     "output_type": "stream",
     "text": [
      "Epoch 44 validation: Cross-entropy=0.75, Accuracy=80.1%\n"
     ]
    },
    {
     "name": "stderr",
     "output_type": "stream",
     "text": [
      "Epoch 45: 100%|██████████| 221/221 [00:01<00:00, 140.25batch/s, acc=0.9, loss=0.675] \n"
     ]
    },
    {
     "name": "stdout",
     "output_type": "stream",
     "text": [
      "Epoch 45 validation: Cross-entropy=0.75, Accuracy=80.1%\n"
     ]
    },
    {
     "name": "stderr",
     "output_type": "stream",
     "text": [
      "Epoch 46: 100%|██████████| 221/221 [00:01<00:00, 141.41batch/s, acc=0.9, loss=0.674] \n"
     ]
    },
    {
     "name": "stdout",
     "output_type": "stream",
     "text": [
      "Epoch 46 validation: Cross-entropy=0.75, Accuracy=80.2%\n"
     ]
    },
    {
     "name": "stderr",
     "output_type": "stream",
     "text": [
      "Epoch 47: 100%|██████████| 221/221 [00:01<00:00, 149.68batch/s, acc=0.9, loss=0.674] \n"
     ]
    },
    {
     "name": "stdout",
     "output_type": "stream",
     "text": [
      "Epoch 47 validation: Cross-entropy=0.75, Accuracy=80.3%\n"
     ]
    },
    {
     "name": "stderr",
     "output_type": "stream",
     "text": [
      "Epoch 48: 100%|██████████| 221/221 [00:01<00:00, 144.04batch/s, acc=0.9, loss=0.673] \n"
     ]
    },
    {
     "name": "stdout",
     "output_type": "stream",
     "text": [
      "Epoch 48 validation: Cross-entropy=0.75, Accuracy=80.3%\n"
     ]
    },
    {
     "name": "stderr",
     "output_type": "stream",
     "text": [
      "Epoch 49: 100%|██████████| 221/221 [00:01<00:00, 122.38batch/s, acc=0.9, loss=0.673] "
     ]
    },
    {
     "name": "stdout",
     "output_type": "stream",
     "text": [
      "Epoch 49 validation: Cross-entropy=0.75, Accuracy=80.3%\n"
     ]
    },
    {
     "name": "stderr",
     "output_type": "stream",
     "text": [
      "\n"
     ]
    }
   ],
   "source": [
    "for epoch in range(N_EPOCHS):\n",
    "    epoch_loss = []\n",
    "    epoch_acc = []\n",
    "    \n",
    "    # Set model in training mode and run through each batch\n",
    "    model.train()\n",
    "    with tqdm.trange(batches_per_epoch, unit=\"batch\", mininterval=0) as bar:\n",
    "        bar.set_description(f\"Epoch {epoch}\")\n",
    "        for i in bar:\n",
    "            # Take a batch\n",
    "            start = i * BATCH_SIZE\n",
    "            X_batch = X_train[start:start+BATCH_SIZE]\n",
    "            y_batch = y_train[start:start+BATCH_SIZE]\n",
    "            # Forward pass\n",
    "            y_pred = model(X_batch)\n",
    "            loss = loss_fn(y_pred, y_batch)\n",
    "            # Backward pass\n",
    "            optimizer.zero_grad()\n",
    "            loss.backward()\n",
    "            # Update weights\n",
    "            optimizer.step()\n",
    "            # Compute and store metrics\n",
    "            acc = (torch.argmax(y_pred, 1) == torch.argmax(y_batch, 1)).float().mean()\n",
    "            epoch_loss.append(float(loss))\n",
    "            epoch_acc.append(float(acc))\n",
    "            bar.set_postfix(\n",
    "                loss=float(loss),\n",
    "                acc=float(acc)\n",
    "            )\n",
    "    \n",
    "    # Set model in evaluation mode and run through the test set\n",
    "    model.eval()\n",
    "    y_pred = model(X_valid)\n",
    "    ce = loss_fn(y_pred, y_valid)\n",
    "    acc = (torch.argmax(y_pred, 1) == torch.argmax(y_valid, 1)).float().mean()\n",
    "    ce = float(ce)\n",
    "    acc = float(acc)\n",
    "    train_loss_hist.append(np.mean(epoch_loss))\n",
    "    train_acc_hist.append(np.mean(epoch_acc))\n",
    "    valid_loss_hist.append(ce)\n",
    "    valid_acc_hist.append(acc)\n",
    "    if acc > best_acc:\n",
    "        best_acc = acc\n",
    "        best_weights = copy.deepcopy(model.state_dict())\n",
    "    print(f\"Epoch {epoch} validation: Cross-entropy={ce:.2f}, Accuracy={acc*100:.1f}%\")"
   ]
  },
  {
   "cell_type": "code",
   "execution_count": 99,
   "metadata": {},
   "outputs": [
    {
     "data": {
      "image/png": "[encoded data removed]",
      "text/plain": [
       "<Figure size 640x480 with 1 Axes>"
      ]
     },
     "metadata": {},
     "output_type": "display_data"
    },
    {
     "data": {
      "image/png": "[encoded data removed]",
      "text/plain": [
       "<Figure size 640x480 with 1 Axes>"
      ]
     },
     "metadata": {},
     "output_type": "display_data"
    }
   ],
   "source": [
    "# Restore best model\n",
    "model.load_state_dict(best_weights)\n",
    " \n",
    "# Plot the loss and accuracy\n",
    "plt.plot(train_loss_hist, label=\"train\")\n",
    "plt.plot(valid_loss_hist, label=\"valid\")\n",
    "plt.xlabel(\"epochs\")\n",
    "plt.ylabel(\"cross entropy\")\n",
    "plt.legend()\n",
    "plt.show()\n",
    " \n",
    "plt.plot(train_acc_hist, label=\"train\")\n",
    "plt.plot(valid_acc_hist, label=\"valid\")\n",
    "plt.xlabel(\"epochs\")\n",
    "plt.ylabel(\"accuracy\")\n",
    "plt.legend()\n",
    "plt.show()"
   ]
  },
  {
   "cell_type": "markdown",
   "metadata": {},
   "source": [
    "## Save Model"
   ]
  },
  {
   "cell_type": "code",
   "execution_count": 100,
   "metadata": {},
   "outputs": [],
   "source": [
    "# Restore best model\n",
    "model.load_state_dict(best_weights)\n",
    "\n",
    "torch.save(model.state_dict(), './models/multiclass_lo.pth')"
   ]
  },
  {
   "cell_type": "markdown",
   "metadata": {},
   "source": [
    "# Test Model"
   ]
  },
  {
   "cell_type": "code",
   "execution_count": 101,
   "metadata": {},
   "outputs": [
    {
     "data": {
      "text/html": [
       "<div>\n",
       "<style scoped>\n",
       "    .dataframe tbody tr th:only-of-type {\n",
       "        vertical-align: middle;\n",
       "    }\n",
       "\n",
       "    .dataframe tbody tr th {\n",
       "        vertical-align: top;\n",
       "    }\n",
       "\n",
       "    .dataframe thead th {\n",
       "        text-align: right;\n",
       "    }\n",
       "</style>\n",
       "<table border=\"1\" class=\"dataframe\">\n",
       "  <thead>\n",
       "    <tr style=\"text-align: right;\">\n",
       "      <th></th>\n",
       "      <th>N_Days</th>\n",
       "      <th>Age</th>\n",
       "      <th>Bilirubin</th>\n",
       "      <th>Cholesterol</th>\n",
       "      <th>Albumin</th>\n",
       "      <th>Copper</th>\n",
       "      <th>Alk_Phos</th>\n",
       "      <th>SGOT</th>\n",
       "      <th>Tryglicerides</th>\n",
       "      <th>Platelets</th>\n",
       "      <th>...</th>\n",
       "      <th>Stage</th>\n",
       "      <th>Drug_Placebo</th>\n",
       "      <th>Sex_F</th>\n",
       "      <th>Ascites_Y</th>\n",
       "      <th>Hepatomegaly_Y</th>\n",
       "      <th>Spiders_Y</th>\n",
       "      <th>Edema_N</th>\n",
       "      <th>Edema_S</th>\n",
       "      <th>Edema_Y</th>\n",
       "      <th>Status</th>\n",
       "    </tr>\n",
       "  </thead>\n",
       "  <tbody>\n",
       "    <tr>\n",
       "      <th>0</th>\n",
       "      <td>1.867719</td>\n",
       "      <td>-0.995874</td>\n",
       "      <td>-0.501778</td>\n",
       "      <td>-0.673743</td>\n",
       "      <td>0.132320</td>\n",
       "      <td>-0.680346</td>\n",
       "      <td>-0.583609</td>\n",
       "      <td>-0.982508</td>\n",
       "      <td>-0.164250</td>\n",
       "      <td>1.984845</td>\n",
       "      <td>...</td>\n",
       "      <td>2.0</td>\n",
       "      <td>0</td>\n",
       "      <td>1</td>\n",
       "      <td>0</td>\n",
       "      <td>0</td>\n",
       "      <td>0</td>\n",
       "      <td>1</td>\n",
       "      <td>0</td>\n",
       "      <td>0</td>\n",
       "      <td>C</td>\n",
       "    </tr>\n",
       "    <tr>\n",
       "      <th>1</th>\n",
       "      <td>-0.298014</td>\n",
       "      <td>-0.881071</td>\n",
       "      <td>-0.447462</td>\n",
       "      <td>1.454269</td>\n",
       "      <td>-1.770508</td>\n",
       "      <td>-0.641761</td>\n",
       "      <td>0.002771</td>\n",
       "      <td>1.126982</td>\n",
       "      <td>0.093545</td>\n",
       "      <td>-0.352261</td>\n",
       "      <td>...</td>\n",
       "      <td>3.0</td>\n",
       "      <td>0</td>\n",
       "      <td>1</td>\n",
       "      <td>0</td>\n",
       "      <td>0</td>\n",
       "      <td>0</td>\n",
       "      <td>1</td>\n",
       "      <td>0</td>\n",
       "      <td>0</td>\n",
       "      <td>C</td>\n",
       "    </tr>\n",
       "    <tr>\n",
       "      <th>2</th>\n",
       "      <td>0.439912</td>\n",
       "      <td>-0.611379</td>\n",
       "      <td>-0.556094</td>\n",
       "      <td>-1.270488</td>\n",
       "      <td>0.160720</td>\n",
       "      <td>-0.435979</td>\n",
       "      <td>-0.523194</td>\n",
       "      <td>-0.100930</td>\n",
       "      <td>-1.235090</td>\n",
       "      <td>-1.761234</td>\n",
       "      <td>...</td>\n",
       "      <td>3.0</td>\n",
       "      <td>1</td>\n",
       "      <td>1</td>\n",
       "      <td>0</td>\n",
       "      <td>0</td>\n",
       "      <td>1</td>\n",
       "      <td>1</td>\n",
       "      <td>0</td>\n",
       "      <td>0</td>\n",
       "      <td>C</td>\n",
       "    </tr>\n",
       "    <tr>\n",
       "      <th>3</th>\n",
       "      <td>1.158801</td>\n",
       "      <td>0.523017</td>\n",
       "      <td>-0.556094</td>\n",
       "      <td>-0.268408</td>\n",
       "      <td>0.274322</td>\n",
       "      <td>-0.616039</td>\n",
       "      <td>-0.594778</td>\n",
       "      <td>-0.888053</td>\n",
       "      <td>-0.580688</td>\n",
       "      <td>0.005573</td>\n",
       "      <td>...</td>\n",
       "      <td>3.0</td>\n",
       "      <td>0</td>\n",
       "      <td>1</td>\n",
       "      <td>0</td>\n",
       "      <td>0</td>\n",
       "      <td>0</td>\n",
       "      <td>1</td>\n",
       "      <td>0</td>\n",
       "      <td>0</td>\n",
       "      <td>C</td>\n",
       "    </tr>\n",
       "    <tr>\n",
       "      <th>4</th>\n",
       "      <td>0.252258</td>\n",
       "      <td>0.517018</td>\n",
       "      <td>-0.447462</td>\n",
       "      <td>-0.690632</td>\n",
       "      <td>-0.208485</td>\n",
       "      <td>-0.474563</td>\n",
       "      <td>-0.503394</td>\n",
       "      <td>-1.013993</td>\n",
       "      <td>-1.016956</td>\n",
       "      <td>-1.202118</td>\n",
       "      <td>...</td>\n",
       "      <td>4.0</td>\n",
       "      <td>0</td>\n",
       "      <td>1</td>\n",
       "      <td>0</td>\n",
       "      <td>1</td>\n",
       "      <td>0</td>\n",
       "      <td>1</td>\n",
       "      <td>0</td>\n",
       "      <td>0</td>\n",
       "      <td>D</td>\n",
       "    </tr>\n",
       "    <tr>\n",
       "      <th>5</th>\n",
       "      <td>0.502464</td>\n",
       "      <td>0.223329</td>\n",
       "      <td>-0.528936</td>\n",
       "      <td>-0.268408</td>\n",
       "      <td>-0.151684</td>\n",
       "      <td>-0.603177</td>\n",
       "      <td>-0.376472</td>\n",
       "      <td>0.276889</td>\n",
       "      <td>-0.957465</td>\n",
       "      <td>0.855430</td>\n",
       "      <td>...</td>\n",
       "      <td>2.0</td>\n",
       "      <td>1</td>\n",
       "      <td>1</td>\n",
       "      <td>0</td>\n",
       "      <td>0</td>\n",
       "      <td>0</td>\n",
       "      <td>1</td>\n",
       "      <td>0</td>\n",
       "      <td>0</td>\n",
       "      <td>C</td>\n",
       "    </tr>\n",
       "    <tr>\n",
       "      <th>6</th>\n",
       "      <td>1.968345</td>\n",
       "      <td>0.187879</td>\n",
       "      <td>-0.556094</td>\n",
       "      <td>-0.521743</td>\n",
       "      <td>0.529926</td>\n",
       "      <td>-0.448840</td>\n",
       "      <td>-0.300319</td>\n",
       "      <td>-0.856568</td>\n",
       "      <td>-1.116108</td>\n",
       "      <td>-1.135024</td>\n",
       "      <td>...</td>\n",
       "      <td>3.0</td>\n",
       "      <td>1</td>\n",
       "      <td>1</td>\n",
       "      <td>0</td>\n",
       "      <td>0</td>\n",
       "      <td>0</td>\n",
       "      <td>1</td>\n",
       "      <td>0</td>\n",
       "      <td>0</td>\n",
       "      <td>C</td>\n",
       "    </tr>\n",
       "    <tr>\n",
       "      <th>7</th>\n",
       "      <td>-0.207360</td>\n",
       "      <td>-0.595017</td>\n",
       "      <td>-0.393146</td>\n",
       "      <td>-0.133296</td>\n",
       "      <td>-0.946896</td>\n",
       "      <td>-0.307364</td>\n",
       "      <td>-0.158166</td>\n",
       "      <td>0.150950</td>\n",
       "      <td>-1.036786</td>\n",
       "      <td>-0.218073</td>\n",
       "      <td>...</td>\n",
       "      <td>3.0</td>\n",
       "      <td>1</td>\n",
       "      <td>1</td>\n",
       "      <td>0</td>\n",
       "      <td>1</td>\n",
       "      <td>1</td>\n",
       "      <td>1</td>\n",
       "      <td>0</td>\n",
       "      <td>0</td>\n",
       "      <td>C</td>\n",
       "    </tr>\n",
       "    <tr>\n",
       "      <th>8</th>\n",
       "      <td>-0.225491</td>\n",
       "      <td>-1.235297</td>\n",
       "      <td>-0.121567</td>\n",
       "      <td>-0.116407</td>\n",
       "      <td>-0.577691</td>\n",
       "      <td>-0.616039</td>\n",
       "      <td>-0.446533</td>\n",
       "      <td>0.213919</td>\n",
       "      <td>0.490153</td>\n",
       "      <td>-0.184526</td>\n",
       "      <td>...</td>\n",
       "      <td>2.0</td>\n",
       "      <td>0</td>\n",
       "      <td>1</td>\n",
       "      <td>0</td>\n",
       "      <td>0</td>\n",
       "      <td>0</td>\n",
       "      <td>1</td>\n",
       "      <td>0</td>\n",
       "      <td>0</td>\n",
       "      <td>C</td>\n",
       "    </tr>\n",
       "    <tr>\n",
       "      <th>9</th>\n",
       "      <td>0.214183</td>\n",
       "      <td>0.223329</td>\n",
       "      <td>-0.556094</td>\n",
       "      <td>-0.335964</td>\n",
       "      <td>0.615127</td>\n",
       "      <td>-0.731791</td>\n",
       "      <td>-0.376472</td>\n",
       "      <td>-1.171417</td>\n",
       "      <td>-0.005607</td>\n",
       "      <td>-0.184526</td>\n",
       "      <td>...</td>\n",
       "      <td>2.0</td>\n",
       "      <td>1</td>\n",
       "      <td>1</td>\n",
       "      <td>0</td>\n",
       "      <td>0</td>\n",
       "      <td>0</td>\n",
       "      <td>1</td>\n",
       "      <td>0</td>\n",
       "      <td>0</td>\n",
       "      <td>C</td>\n",
       "    </tr>\n",
       "  </tbody>\n",
       "</table>\n",
       "<p>10 rows × 21 columns</p>\n",
       "</div>"
      ],
      "text/plain": [
       "     N_Days       Age  Bilirubin  Cholesterol   Albumin    Copper  Alk_Phos  \\\n",
       "0  1.867719 -0.995874  -0.501778    -0.673743  0.132320 -0.680346 -0.583609   \n",
       "1 -0.298014 -0.881071  -0.447462     1.454269 -1.770508 -0.641761  0.002771   \n",
       "2  0.439912 -0.611379  -0.556094    -1.270488  0.160720 -0.435979 -0.523194   \n",
       "3  1.158801  0.523017  -0.556094    -0.268408  0.274322 -0.616039 -0.594778   \n",
       "4  0.252258  0.517018  -0.447462    -0.690632 -0.208485 -0.474563 -0.503394   \n",
       "5  0.502464  0.223329  -0.528936    -0.268408 -0.151684 -0.603177 -0.376472   \n",
       "6  1.968345  0.187879  -0.556094    -0.521743  0.529926 -0.448840 -0.300319   \n",
       "7 -0.207360 -0.595017  -0.393146    -0.133296 -0.946896 -0.307364 -0.158166   \n",
       "8 -0.225491 -1.235297  -0.121567    -0.116407 -0.577691 -0.616039 -0.446533   \n",
       "9  0.214183  0.223329  -0.556094    -0.335964  0.615127 -0.731791 -0.376472   \n",
       "\n",
       "       SGOT  Tryglicerides  Platelets  ...  Stage  Drug_Placebo  Sex_F  \\\n",
       "0 -0.982508      -0.164250   1.984845  ...    2.0             0      1   \n",
       "1  1.126982       0.093545  -0.352261  ...    3.0             0      1   \n",
       "2 -0.100930      -1.235090  -1.761234  ...    3.0             1      1   \n",
       "3 -0.888053      -0.580688   0.005573  ...    3.0             0      1   \n",
       "4 -1.013993      -1.016956  -1.202118  ...    4.0             0      1   \n",
       "5  0.276889      -0.957465   0.855430  ...    2.0             1      1   \n",
       "6 -0.856568      -1.116108  -1.135024  ...    3.0             1      1   \n",
       "7  0.150950      -1.036786  -0.218073  ...    3.0             1      1   \n",
       "8  0.213919       0.490153  -0.184526  ...    2.0             0      1   \n",
       "9 -1.171417      -0.005607  -0.184526  ...    2.0             1      1   \n",
       "\n",
       "   Ascites_Y  Hepatomegaly_Y  Spiders_Y  Edema_N  Edema_S  Edema_Y  Status  \n",
       "0          0               0          0        1        0        0       C  \n",
       "1          0               0          0        1        0        0       C  \n",
       "2          0               0          1        1        0        0       C  \n",
       "3          0               0          0        1        0        0       C  \n",
       "4          0               1          0        1        0        0       D  \n",
       "5          0               0          0        1        0        0       C  \n",
       "6          0               0          0        1        0        0       C  \n",
       "7          0               1          1        1        0        0       C  \n",
       "8          0               0          0        1        0        0       C  \n",
       "9          0               0          0        1        0        0       C  \n",
       "\n",
       "[10 rows x 21 columns]"
      ]
     },
     "execution_count": 101,
     "metadata": {},
     "output_type": "execute_result"
    }
   ],
   "source": [
    "test_df = pd.read_csv('./data/test_ds.csv')\n",
    "test_df = preprocess(test_df)\n",
    "test_df.head(10)"
   ]
  },
  {
   "cell_type": "code",
   "execution_count": 102,
   "metadata": {},
   "outputs": [],
   "source": [
    "X_test = test_df.drop(['Status'], axis=1)\n",
    "y_test = test_df[['Status']]"
   ]
  },
  {
   "cell_type": "code",
   "execution_count": 103,
   "metadata": {},
   "outputs": [
    {
     "data": {
      "text/plain": [
       "[array(['C', 'CL', 'D'], dtype=object)]"
      ]
     },
     "execution_count": 103,
     "metadata": {},
     "output_type": "execute_result"
    }
   ],
   "source": [
    "onehot_enc_test = OneHotEncoder(sparse_output=False).fit(y_test)\n",
    "onehot_enc_test.categories_"
   ]
  },
  {
   "cell_type": "code",
   "execution_count": 104,
   "metadata": {},
   "outputs": [],
   "source": [
    "y_test = onehot_enc_test.transform(y_test)"
   ]
  },
  {
   "cell_type": "code",
   "execution_count": 105,
   "metadata": {},
   "outputs": [],
   "source": [
    "# convert pandas DataFrame (X) and numpy array (y) into PyTorch tensors\n",
    "X_test = torch.tensor(X_test.values, dtype=torch.float32)\n",
    "y_test = torch.tensor(y_test, dtype=torch.float32)"
   ]
  },
  {
   "cell_type": "code",
   "execution_count": 106,
   "metadata": {},
   "outputs": [
    {
     "name": "stdout",
     "output_type": "stream",
     "text": [
      "torch.Size([1581, 20])\n",
      "torch.Size([1581, 3])\n"
     ]
    }
   ],
   "source": [
    "print(X_test.shape)\n",
    "print(y_test.shape)"
   ]
  },
  {
   "cell_type": "code",
   "execution_count": 81,
   "metadata": {},
   "outputs": [],
   "source": [
    "# model = MulticlassLO()\n",
    "# model.load_state_dict(torch.load('./models/multiclass_lo.pth'))"
   ]
  },
  {
   "cell_type": "code",
   "execution_count": 107,
   "metadata": {},
   "outputs": [
    {
     "name": "stdout",
     "output_type": "stream",
     "text": [
      "Test (training) Dataset: Cross-entropy=0.74, Accuracy=80.9%\n"
     ]
    }
   ],
   "source": [
    "model.eval()\n",
    "y_pred = model(X_test)\n",
    "ce = loss_fn(y_pred, y_test)\n",
    "acc = (torch.argmax(y_pred, 1) == torch.argmax(y_test, 1)).float().mean()\n",
    "\n",
    "ce = float(ce)\n",
    "acc = float(acc)\n",
    "print(f\"Test (training) Dataset: Cross-entropy={ce:.2f}, Accuracy={acc*100:.1f}%\")"
   ]
  },
  {
   "cell_type": "markdown",
   "metadata": {},
   "source": [
    "# Prediction on the Test Dataset\n",
    "_The non-labelled official test dataset from Kaggle_"
   ]
  },
  {
   "cell_type": "code",
   "execution_count": 108,
   "metadata": {},
   "outputs": [
    {
     "data": {
      "text/html": [
       "<div>\n",
       "<style scoped>\n",
       "    .dataframe tbody tr th:only-of-type {\n",
       "        vertical-align: middle;\n",
       "    }\n",
       "\n",
       "    .dataframe tbody tr th {\n",
       "        vertical-align: top;\n",
       "    }\n",
       "\n",
       "    .dataframe thead th {\n",
       "        text-align: right;\n",
       "    }\n",
       "</style>\n",
       "<table border=\"1\" class=\"dataframe\">\n",
       "  <thead>\n",
       "    <tr style=\"text-align: right;\">\n",
       "      <th></th>\n",
       "      <th>id</th>\n",
       "      <th>N_Days</th>\n",
       "      <th>Drug</th>\n",
       "      <th>Age</th>\n",
       "      <th>Sex</th>\n",
       "      <th>Ascites</th>\n",
       "      <th>Hepatomegaly</th>\n",
       "      <th>Spiders</th>\n",
       "      <th>Edema</th>\n",
       "      <th>Bilirubin</th>\n",
       "      <th>Cholesterol</th>\n",
       "      <th>Albumin</th>\n",
       "      <th>Copper</th>\n",
       "      <th>Alk_Phos</th>\n",
       "      <th>SGOT</th>\n",
       "      <th>Tryglicerides</th>\n",
       "      <th>Platelets</th>\n",
       "      <th>Prothrombin</th>\n",
       "      <th>Stage</th>\n",
       "    </tr>\n",
       "  </thead>\n",
       "  <tbody>\n",
       "    <tr>\n",
       "      <th>0</th>\n",
       "      <td>7905</td>\n",
       "      <td>3839</td>\n",
       "      <td>D-penicillamine</td>\n",
       "      <td>19724</td>\n",
       "      <td>F</td>\n",
       "      <td>N</td>\n",
       "      <td>Y</td>\n",
       "      <td>N</td>\n",
       "      <td>N</td>\n",
       "      <td>1.2</td>\n",
       "      <td>546.0</td>\n",
       "      <td>3.37</td>\n",
       "      <td>65.0</td>\n",
       "      <td>1636.0</td>\n",
       "      <td>151.90</td>\n",
       "      <td>90.0</td>\n",
       "      <td>430.0</td>\n",
       "      <td>10.6</td>\n",
       "      <td>2.0</td>\n",
       "    </tr>\n",
       "    <tr>\n",
       "      <th>1</th>\n",
       "      <td>7906</td>\n",
       "      <td>2468</td>\n",
       "      <td>D-penicillamine</td>\n",
       "      <td>14975</td>\n",
       "      <td>F</td>\n",
       "      <td>N</td>\n",
       "      <td>N</td>\n",
       "      <td>N</td>\n",
       "      <td>N</td>\n",
       "      <td>1.1</td>\n",
       "      <td>660.0</td>\n",
       "      <td>4.22</td>\n",
       "      <td>94.0</td>\n",
       "      <td>1257.0</td>\n",
       "      <td>151.90</td>\n",
       "      <td>155.0</td>\n",
       "      <td>227.0</td>\n",
       "      <td>10.0</td>\n",
       "      <td>2.0</td>\n",
       "    </tr>\n",
       "    <tr>\n",
       "      <th>2</th>\n",
       "      <td>7907</td>\n",
       "      <td>51</td>\n",
       "      <td>Placebo</td>\n",
       "      <td>13149</td>\n",
       "      <td>F</td>\n",
       "      <td>N</td>\n",
       "      <td>Y</td>\n",
       "      <td>N</td>\n",
       "      <td>Y</td>\n",
       "      <td>2.0</td>\n",
       "      <td>151.0</td>\n",
       "      <td>2.96</td>\n",
       "      <td>46.0</td>\n",
       "      <td>961.0</td>\n",
       "      <td>69.75</td>\n",
       "      <td>101.0</td>\n",
       "      <td>213.0</td>\n",
       "      <td>13.0</td>\n",
       "      <td>4.0</td>\n",
       "    </tr>\n",
       "    <tr>\n",
       "      <th>3</th>\n",
       "      <td>7908</td>\n",
       "      <td>2330</td>\n",
       "      <td>D-penicillamine</td>\n",
       "      <td>20510</td>\n",
       "      <td>F</td>\n",
       "      <td>N</td>\n",
       "      <td>N</td>\n",
       "      <td>N</td>\n",
       "      <td>N</td>\n",
       "      <td>0.6</td>\n",
       "      <td>293.0</td>\n",
       "      <td>3.85</td>\n",
       "      <td>40.0</td>\n",
       "      <td>554.0</td>\n",
       "      <td>125.55</td>\n",
       "      <td>56.0</td>\n",
       "      <td>270.0</td>\n",
       "      <td>10.6</td>\n",
       "      <td>2.0</td>\n",
       "    </tr>\n",
       "    <tr>\n",
       "      <th>4</th>\n",
       "      <td>7909</td>\n",
       "      <td>1615</td>\n",
       "      <td>D-penicillamine</td>\n",
       "      <td>21904</td>\n",
       "      <td>F</td>\n",
       "      <td>N</td>\n",
       "      <td>Y</td>\n",
       "      <td>N</td>\n",
       "      <td>N</td>\n",
       "      <td>1.4</td>\n",
       "      <td>277.0</td>\n",
       "      <td>2.97</td>\n",
       "      <td>121.0</td>\n",
       "      <td>1110.0</td>\n",
       "      <td>125.00</td>\n",
       "      <td>126.0</td>\n",
       "      <td>221.0</td>\n",
       "      <td>9.8</td>\n",
       "      <td>1.0</td>\n",
       "    </tr>\n",
       "  </tbody>\n",
       "</table>\n",
       "</div>"
      ],
      "text/plain": [
       "     id  N_Days             Drug    Age Sex Ascites Hepatomegaly Spiders  \\\n",
       "0  7905    3839  D-penicillamine  19724   F       N            Y       N   \n",
       "1  7906    2468  D-penicillamine  14975   F       N            N       N   \n",
       "2  7907      51          Placebo  13149   F       N            Y       N   \n",
       "3  7908    2330  D-penicillamine  20510   F       N            N       N   \n",
       "4  7909    1615  D-penicillamine  21904   F       N            Y       N   \n",
       "\n",
       "  Edema  Bilirubin  Cholesterol  Albumin  Copper  Alk_Phos    SGOT  \\\n",
       "0     N        1.2        546.0     3.37    65.0    1636.0  151.90   \n",
       "1     N        1.1        660.0     4.22    94.0    1257.0  151.90   \n",
       "2     Y        2.0        151.0     2.96    46.0     961.0   69.75   \n",
       "3     N        0.6        293.0     3.85    40.0     554.0  125.55   \n",
       "4     N        1.4        277.0     2.97   121.0    1110.0  125.00   \n",
       "\n",
       "   Tryglicerides  Platelets  Prothrombin  Stage  \n",
       "0           90.0      430.0         10.6    2.0  \n",
       "1          155.0      227.0         10.0    2.0  \n",
       "2          101.0      213.0         13.0    4.0  \n",
       "3           56.0      270.0         10.6    2.0  \n",
       "4          126.0      221.0          9.8    1.0  "
      ]
     },
     "execution_count": 108,
     "metadata": {},
     "output_type": "execute_result"
    }
   ],
   "source": [
    "kaggle_test_df = pd.read_csv('./data/test.csv')\n",
    "kaggle_test_df.head(5)"
   ]
  },
  {
   "cell_type": "code",
   "execution_count": 109,
   "metadata": {},
   "outputs": [],
   "source": [
    "def preprocess_X(X_df:  pd.DataFrame) -> pd.DataFrame:\n",
    "    X = X_df.drop(['id'], axis=1)\n",
    "\n",
    "    # One-hot encoding\n",
    "    X_1h = pd.get_dummies(X,\n",
    "                          columns=['Drug', 'Sex', 'Ascites',\n",
    "                                   'Hepatomegaly', 'Spiders', 'Edema'],\n",
    "                          dtype=np.uint8)\n",
    "    X_1h.drop(['Drug_D-penicillamine', 'Sex_M', 'Ascites_N',\n",
    "              'Hepatomegaly_N', 'Spiders_N'], axis=1, inplace=True)\n",
    "\n",
    "    # Standard Scaler\n",
    "    X_encoded = X_1h[['Stage', 'Drug_Placebo', 'Sex_F', 'Ascites_Y',\n",
    "                      'Hepatomegaly_Y', 'Spiders_Y', 'Edema_N', 'Edema_S', 'Edema_Y']]\n",
    "    X_std = X_1h.drop(['Stage', 'Drug_Placebo', 'Sex_F', 'Ascites_Y',\n",
    "                       'Hepatomegaly_Y', 'Spiders_Y', 'Edema_N', 'Edema_S', 'Edema_Y'], axis=1)\n",
    "\n",
    "    std_scaler = StandardScaler()\n",
    "    std_scaled_data = std_scaler.fit_transform(X_std)\n",
    "    X_std = pd.DataFrame(\n",
    "        std_scaled_data, index=X_std.index, columns=X_std.columns)\n",
    "\n",
    "    processed_X_df = pd.concat([X_std, X_encoded], axis=1)\n",
    "\n",
    "    return processed_X_df"
   ]
  },
  {
   "cell_type": "code",
   "execution_count": 110,
   "metadata": {},
   "outputs": [
    {
     "data": {
      "text/html": [
       "<div>\n",
       "<style scoped>\n",
       "    .dataframe tbody tr th:only-of-type {\n",
       "        vertical-align: middle;\n",
       "    }\n",
       "\n",
       "    .dataframe tbody tr th {\n",
       "        vertical-align: top;\n",
       "    }\n",
       "\n",
       "    .dataframe thead th {\n",
       "        text-align: right;\n",
       "    }\n",
       "</style>\n",
       "<table border=\"1\" class=\"dataframe\">\n",
       "  <thead>\n",
       "    <tr style=\"text-align: right;\">\n",
       "      <th></th>\n",
       "      <th>N_Days</th>\n",
       "      <th>Age</th>\n",
       "      <th>Bilirubin</th>\n",
       "      <th>Cholesterol</th>\n",
       "      <th>Albumin</th>\n",
       "      <th>Copper</th>\n",
       "      <th>Alk_Phos</th>\n",
       "      <th>SGOT</th>\n",
       "      <th>Tryglicerides</th>\n",
       "      <th>Platelets</th>\n",
       "      <th>Prothrombin</th>\n",
       "      <th>Stage</th>\n",
       "      <th>Drug_Placebo</th>\n",
       "      <th>Sex_F</th>\n",
       "      <th>Ascites_Y</th>\n",
       "      <th>Hepatomegaly_Y</th>\n",
       "      <th>Spiders_Y</th>\n",
       "      <th>Edema_N</th>\n",
       "      <th>Edema_S</th>\n",
       "      <th>Edema_Y</th>\n",
       "    </tr>\n",
       "  </thead>\n",
       "  <tbody>\n",
       "    <tr>\n",
       "      <th>0</th>\n",
       "      <td>1.656608</td>\n",
       "      <td>0.342186</td>\n",
       "      <td>-0.363546</td>\n",
       "      <td>0.965540</td>\n",
       "      <td>-0.473636</td>\n",
       "      <td>-0.254101</td>\n",
       "      <td>-0.090552</td>\n",
       "      <td>0.782524</td>\n",
       "      <td>-0.480744</td>\n",
       "      <td>1.895231</td>\n",
       "      <td>-0.041463</td>\n",
       "      <td>2.0</td>\n",
       "      <td>0</td>\n",
       "      <td>1</td>\n",
       "      <td>0</td>\n",
       "      <td>1</td>\n",
       "      <td>0</td>\n",
       "      <td>1</td>\n",
       "      <td>0</td>\n",
       "      <td>0</td>\n",
       "    </tr>\n",
       "    <tr>\n",
       "      <th>1</th>\n",
       "      <td>0.395038</td>\n",
       "      <td>-0.983033</td>\n",
       "      <td>-0.389506</td>\n",
       "      <td>1.534346</td>\n",
       "      <td>1.921728</td>\n",
       "      <td>0.119925</td>\n",
       "      <td>-0.286401</td>\n",
       "      <td>0.782524</td>\n",
       "      <td>0.755049</td>\n",
       "      <td>-0.422762</td>\n",
       "      <td>-0.798430</td>\n",
       "      <td>2.0</td>\n",
       "      <td>0</td>\n",
       "      <td>1</td>\n",
       "      <td>0</td>\n",
       "      <td>0</td>\n",
       "      <td>0</td>\n",
       "      <td>1</td>\n",
       "      <td>0</td>\n",
       "      <td>0</td>\n",
       "    </tr>\n",
       "    <tr>\n",
       "      <th>2</th>\n",
       "      <td>-1.829045</td>\n",
       "      <td>-1.492582</td>\n",
       "      <td>-0.155863</td>\n",
       "      <td>-1.005321</td>\n",
       "      <td>-1.629046</td>\n",
       "      <td>-0.499153</td>\n",
       "      <td>-0.439359</td>\n",
       "      <td>-0.895372</td>\n",
       "      <td>-0.271610</td>\n",
       "      <td>-0.582624</td>\n",
       "      <td>2.986409</td>\n",
       "      <td>4.0</td>\n",
       "      <td>1</td>\n",
       "      <td>1</td>\n",
       "      <td>0</td>\n",
       "      <td>1</td>\n",
       "      <td>0</td>\n",
       "      <td>0</td>\n",
       "      <td>0</td>\n",
       "      <td>1</td>\n",
       "    </tr>\n",
       "    <tr>\n",
       "      <th>3</th>\n",
       "      <td>0.268052</td>\n",
       "      <td>0.561521</td>\n",
       "      <td>-0.519308</td>\n",
       "      <td>-0.296809</td>\n",
       "      <td>0.879041</td>\n",
       "      <td>-0.576538</td>\n",
       "      <td>-0.649677</td>\n",
       "      <td>0.244331</td>\n",
       "      <td>-1.127159</td>\n",
       "      <td>0.068241</td>\n",
       "      <td>-0.041463</td>\n",
       "      <td>2.0</td>\n",
       "      <td>0</td>\n",
       "      <td>1</td>\n",
       "      <td>0</td>\n",
       "      <td>0</td>\n",
       "      <td>0</td>\n",
       "      <td>1</td>\n",
       "      <td>0</td>\n",
       "      <td>0</td>\n",
       "    </tr>\n",
       "    <tr>\n",
       "      <th>4</th>\n",
       "      <td>-0.389878</td>\n",
       "      <td>0.950520</td>\n",
       "      <td>-0.311625</td>\n",
       "      <td>-0.376641</td>\n",
       "      <td>-1.600866</td>\n",
       "      <td>0.468156</td>\n",
       "      <td>-0.362363</td>\n",
       "      <td>0.233097</td>\n",
       "      <td>0.203695</td>\n",
       "      <td>-0.491274</td>\n",
       "      <td>-1.050753</td>\n",
       "      <td>1.0</td>\n",
       "      <td>0</td>\n",
       "      <td>1</td>\n",
       "      <td>0</td>\n",
       "      <td>1</td>\n",
       "      <td>0</td>\n",
       "      <td>1</td>\n",
       "      <td>0</td>\n",
       "      <td>0</td>\n",
       "    </tr>\n",
       "    <tr>\n",
       "      <th>...</th>\n",
       "      <td>...</td>\n",
       "      <td>...</td>\n",
       "      <td>...</td>\n",
       "      <td>...</td>\n",
       "      <td>...</td>\n",
       "      <td>...</td>\n",
       "      <td>...</td>\n",
       "      <td>...</td>\n",
       "      <td>...</td>\n",
       "      <td>...</td>\n",
       "      <td>...</td>\n",
       "      <td>...</td>\n",
       "      <td>...</td>\n",
       "      <td>...</td>\n",
       "      <td>...</td>\n",
       "      <td>...</td>\n",
       "      <td>...</td>\n",
       "      <td>...</td>\n",
       "      <td>...</td>\n",
       "      <td>...</td>\n",
       "    </tr>\n",
       "    <tr>\n",
       "      <th>5266</th>\n",
       "      <td>0.764951</td>\n",
       "      <td>-1.735358</td>\n",
       "      <td>-0.337585</td>\n",
       "      <td>-0.251903</td>\n",
       "      <td>-0.304551</td>\n",
       "      <td>-0.125127</td>\n",
       "      <td>-0.240927</td>\n",
       "      <td>0.641593</td>\n",
       "      <td>-1.355306</td>\n",
       "      <td>-0.948022</td>\n",
       "      <td>-0.041463</td>\n",
       "      <td>3.0</td>\n",
       "      <td>1</td>\n",
       "      <td>1</td>\n",
       "      <td>0</td>\n",
       "      <td>0</td>\n",
       "      <td>0</td>\n",
       "      <td>1</td>\n",
       "      <td>0</td>\n",
       "      <td>0</td>\n",
       "    </tr>\n",
       "    <tr>\n",
       "      <th>5267</th>\n",
       "      <td>-0.247250</td>\n",
       "      <td>1.759492</td>\n",
       "      <td>-0.545268</td>\n",
       "      <td>-0.666034</td>\n",
       "      <td>1.555379</td>\n",
       "      <td>0.468156</td>\n",
       "      <td>-0.593351</td>\n",
       "      <td>-0.705421</td>\n",
       "      <td>-0.404696</td>\n",
       "      <td>0.536407</td>\n",
       "      <td>-1.176914</td>\n",
       "      <td>3.0</td>\n",
       "      <td>1</td>\n",
       "      <td>1</td>\n",
       "      <td>0</td>\n",
       "      <td>0</td>\n",
       "      <td>0</td>\n",
       "      <td>1</td>\n",
       "      <td>0</td>\n",
       "      <td>0</td>\n",
       "    </tr>\n",
       "    <tr>\n",
       "      <th>5268</th>\n",
       "      <td>1.535144</td>\n",
       "      <td>-0.420743</td>\n",
       "      <td>-0.467387</td>\n",
       "      <td>-0.187039</td>\n",
       "      <td>1.555379</td>\n",
       "      <td>-0.924769</td>\n",
       "      <td>-0.090035</td>\n",
       "      <td>1.162425</td>\n",
       "      <td>-0.860989</td>\n",
       "      <td>1.849556</td>\n",
       "      <td>0.337021</td>\n",
       "      <td>3.0</td>\n",
       "      <td>0</td>\n",
       "      <td>1</td>\n",
       "      <td>0</td>\n",
       "      <td>1</td>\n",
       "      <td>0</td>\n",
       "      <td>1</td>\n",
       "      <td>0</td>\n",
       "      <td>0</td>\n",
       "    </tr>\n",
       "    <tr>\n",
       "      <th>5269</th>\n",
       "      <td>-0.757031</td>\n",
       "      <td>-1.876558</td>\n",
       "      <td>-0.493347</td>\n",
       "      <td>-0.117186</td>\n",
       "      <td>0.738137</td>\n",
       "      <td>-0.421768</td>\n",
       "      <td>-0.585599</td>\n",
       "      <td>-1.155788</td>\n",
       "      <td>0.203695</td>\n",
       "      <td>0.479314</td>\n",
       "      <td>-0.546108</td>\n",
       "      <td>1.0</td>\n",
       "      <td>1</td>\n",
       "      <td>1</td>\n",
       "      <td>0</td>\n",
       "      <td>0</td>\n",
       "      <td>0</td>\n",
       "      <td>1</td>\n",
       "      <td>0</td>\n",
       "      <td>0</td>\n",
       "    </tr>\n",
       "    <tr>\n",
       "      <th>5270</th>\n",
       "      <td>0.214682</td>\n",
       "      <td>0.865688</td>\n",
       "      <td>-0.155863</td>\n",
       "      <td>-0.601170</td>\n",
       "      <td>-0.332732</td>\n",
       "      <td>-0.860282</td>\n",
       "      <td>-0.090552</td>\n",
       "      <td>1.162425</td>\n",
       "      <td>-0.613830</td>\n",
       "      <td>-0.582624</td>\n",
       "      <td>3.743376</td>\n",
       "      <td>2.0</td>\n",
       "      <td>0</td>\n",
       "      <td>1</td>\n",
       "      <td>0</td>\n",
       "      <td>0</td>\n",
       "      <td>0</td>\n",
       "      <td>1</td>\n",
       "      <td>0</td>\n",
       "      <td>0</td>\n",
       "    </tr>\n",
       "  </tbody>\n",
       "</table>\n",
       "<p>5271 rows × 20 columns</p>\n",
       "</div>"
      ],
      "text/plain": [
       "        N_Days       Age  Bilirubin  Cholesterol   Albumin    Copper  \\\n",
       "0     1.656608  0.342186  -0.363546     0.965540 -0.473636 -0.254101   \n",
       "1     0.395038 -0.983033  -0.389506     1.534346  1.921728  0.119925   \n",
       "2    -1.829045 -1.492582  -0.155863    -1.005321 -1.629046 -0.499153   \n",
       "3     0.268052  0.561521  -0.519308    -0.296809  0.879041 -0.576538   \n",
       "4    -0.389878  0.950520  -0.311625    -0.376641 -1.600866  0.468156   \n",
       "...        ...       ...        ...          ...       ...       ...   \n",
       "5266  0.764951 -1.735358  -0.337585    -0.251903 -0.304551 -0.125127   \n",
       "5267 -0.247250  1.759492  -0.545268    -0.666034  1.555379  0.468156   \n",
       "5268  1.535144 -0.420743  -0.467387    -0.187039  1.555379 -0.924769   \n",
       "5269 -0.757031 -1.876558  -0.493347    -0.117186  0.738137 -0.421768   \n",
       "5270  0.214682  0.865688  -0.155863    -0.601170 -0.332732 -0.860282   \n",
       "\n",
       "      Alk_Phos      SGOT  Tryglicerides  Platelets  Prothrombin  Stage  \\\n",
       "0    -0.090552  0.782524      -0.480744   1.895231    -0.041463    2.0   \n",
       "1    -0.286401  0.782524       0.755049  -0.422762    -0.798430    2.0   \n",
       "2    -0.439359 -0.895372      -0.271610  -0.582624     2.986409    4.0   \n",
       "3    -0.649677  0.244331      -1.127159   0.068241    -0.041463    2.0   \n",
       "4    -0.362363  0.233097       0.203695  -0.491274    -1.050753    1.0   \n",
       "...        ...       ...            ...        ...          ...    ...   \n",
       "5266 -0.240927  0.641593      -1.355306  -0.948022    -0.041463    3.0   \n",
       "5267 -0.593351 -0.705421      -0.404696   0.536407    -1.176914    3.0   \n",
       "5268 -0.090035  1.162425      -0.860989   1.849556     0.337021    3.0   \n",
       "5269 -0.585599 -1.155788       0.203695   0.479314    -0.546108    1.0   \n",
       "5270 -0.090552  1.162425      -0.613830  -0.582624     3.743376    2.0   \n",
       "\n",
       "      Drug_Placebo  Sex_F  Ascites_Y  Hepatomegaly_Y  Spiders_Y  Edema_N  \\\n",
       "0                0      1          0               1          0        1   \n",
       "1                0      1          0               0          0        1   \n",
       "2                1      1          0               1          0        0   \n",
       "3                0      1          0               0          0        1   \n",
       "4                0      1          0               1          0        1   \n",
       "...            ...    ...        ...             ...        ...      ...   \n",
       "5266             1      1          0               0          0        1   \n",
       "5267             1      1          0               0          0        1   \n",
       "5268             0      1          0               1          0        1   \n",
       "5269             1      1          0               0          0        1   \n",
       "5270             0      1          0               0          0        1   \n",
       "\n",
       "      Edema_S  Edema_Y  \n",
       "0           0        0  \n",
       "1           0        0  \n",
       "2           0        1  \n",
       "3           0        0  \n",
       "4           0        0  \n",
       "...       ...      ...  \n",
       "5266        0        0  \n",
       "5267        0        0  \n",
       "5268        0        0  \n",
       "5269        0        0  \n",
       "5270        0        0  \n",
       "\n",
       "[5271 rows x 20 columns]"
      ]
     },
     "execution_count": 110,
     "metadata": {},
     "output_type": "execute_result"
    }
   ],
   "source": [
    "X_kaggle_test = preprocess_X(kaggle_test_df)\n",
    "X_kaggle_test"
   ]
  },
  {
   "cell_type": "code",
   "execution_count": 111,
   "metadata": {},
   "outputs": [],
   "source": [
    "# convert pandas DataFrame (X) and numpy array (y) into PyTorch tensors\n",
    "X_kaggle_test = torch.tensor(X_kaggle_test.values, dtype=torch.float32)"
   ]
  },
  {
   "cell_type": "code",
   "execution_count": 112,
   "metadata": {},
   "outputs": [
    {
     "data": {
      "text/plain": [
       "tensor([[9.8632e-01, 4.7884e-04, 1.3203e-02],\n",
       "        [9.8302e-01, 8.6955e-04, 1.6112e-02],\n",
       "        [1.5635e-02, 4.3543e-05, 9.8432e-01],\n",
       "        ...,\n",
       "        [9.9901e-01, 2.0583e-05, 9.6896e-04],\n",
       "        [9.9918e-01, 4.1421e-05, 7.7788e-04],\n",
       "        [1.4819e-01, 2.2790e-03, 8.4953e-01]], grad_fn=<SoftmaxBackward0>)"
      ]
     },
     "execution_count": 112,
     "metadata": {},
     "output_type": "execute_result"
    }
   ],
   "source": [
    "model.eval()\n",
    "y_kaggle_pred = model(X_kaggle_test)\n",
    "y_kaggle_pred"
   ]
  },
  {
   "cell_type": "code",
   "execution_count": 113,
   "metadata": {},
   "outputs": [],
   "source": [
    "def custom_function(x):\n",
    "    return max(min(x, 1 - 10**(-15)), 10**(-15))"
   ]
  },
  {
   "cell_type": "code",
   "execution_count": 115,
   "metadata": {},
   "outputs": [
    {
     "data": {
      "text/plain": [
       "tensor([[9.8632e-01, 4.7884e-04, 1.3203e-02],\n",
       "        [9.8302e-01, 8.6955e-04, 1.6112e-02],\n",
       "        [1.5635e-02, 4.3543e-05, 9.8432e-01],\n",
       "        ...,\n",
       "        [9.9901e-01, 2.0583e-05, 9.6896e-04],\n",
       "        [9.9918e-01, 4.1421e-05, 7.7788e-04],\n",
       "        [1.4819e-01, 2.2790e-03, 8.4953e-01]])"
      ]
     },
     "execution_count": 115,
     "metadata": {},
     "output_type": "execute_result"
    }
   ],
   "source": [
    "y_kaggle_pred.detach().apply_(custom_function)"
   ]
  },
  {
   "cell_type": "code",
   "execution_count": 117,
   "metadata": {},
   "outputs": [],
   "source": [
    "col_names = ['Status_C', 'Status_CL', 'Status_D']"
   ]
  },
  {
   "cell_type": "code",
   "execution_count": 121,
   "metadata": {},
   "outputs": [],
   "source": [
    "kaggle_res_df = pd.DataFrame(y_kaggle_pred.detach().numpy(), dtype=np.float32, columns=col_names)"
   ]
  },
  {
   "cell_type": "code",
   "execution_count": 122,
   "metadata": {},
   "outputs": [],
   "source": [
    "kaggle_res_df = pd.concat([kaggle_test_df[['id']], kaggle_res_df], axis=1)"
   ]
  },
  {
   "cell_type": "code",
   "execution_count": 123,
   "metadata": {},
   "outputs": [
    {
     "data": {
      "text/html": [
       "<div>\n",
       "<style scoped>\n",
       "    .dataframe tbody tr th:only-of-type {\n",
       "        vertical-align: middle;\n",
       "    }\n",
       "\n",
       "    .dataframe tbody tr th {\n",
       "        vertical-align: top;\n",
       "    }\n",
       "\n",
       "    .dataframe thead th {\n",
       "        text-align: right;\n",
       "    }\n",
       "</style>\n",
       "<table border=\"1\" class=\"dataframe\">\n",
       "  <thead>\n",
       "    <tr style=\"text-align: right;\">\n",
       "      <th></th>\n",
       "      <th>id</th>\n",
       "      <th>Status_C</th>\n",
       "      <th>Status_CL</th>\n",
       "      <th>Status_D</th>\n",
       "    </tr>\n",
       "  </thead>\n",
       "  <tbody>\n",
       "    <tr>\n",
       "      <th>0</th>\n",
       "      <td>7905</td>\n",
       "      <td>0.986318</td>\n",
       "      <td>0.000479</td>\n",
       "      <td>0.013203</td>\n",
       "    </tr>\n",
       "    <tr>\n",
       "      <th>1</th>\n",
       "      <td>7906</td>\n",
       "      <td>0.983019</td>\n",
       "      <td>0.000870</td>\n",
       "      <td>0.016112</td>\n",
       "    </tr>\n",
       "    <tr>\n",
       "      <th>2</th>\n",
       "      <td>7907</td>\n",
       "      <td>0.015635</td>\n",
       "      <td>0.000044</td>\n",
       "      <td>0.984321</td>\n",
       "    </tr>\n",
       "    <tr>\n",
       "      <th>3</th>\n",
       "      <td>7908</td>\n",
       "      <td>0.998028</td>\n",
       "      <td>0.000132</td>\n",
       "      <td>0.001841</td>\n",
       "    </tr>\n",
       "    <tr>\n",
       "      <th>4</th>\n",
       "      <td>7909</td>\n",
       "      <td>0.814857</td>\n",
       "      <td>0.003046</td>\n",
       "      <td>0.182098</td>\n",
       "    </tr>\n",
       "    <tr>\n",
       "      <th>...</th>\n",
       "      <td>...</td>\n",
       "      <td>...</td>\n",
       "      <td>...</td>\n",
       "      <td>...</td>\n",
       "    </tr>\n",
       "    <tr>\n",
       "      <th>5266</th>\n",
       "      <td>13171</td>\n",
       "      <td>0.997255</td>\n",
       "      <td>0.000045</td>\n",
       "      <td>0.002700</td>\n",
       "    </tr>\n",
       "    <tr>\n",
       "      <th>5267</th>\n",
       "      <td>13172</td>\n",
       "      <td>0.999258</td>\n",
       "      <td>0.000028</td>\n",
       "      <td>0.000714</td>\n",
       "    </tr>\n",
       "    <tr>\n",
       "      <th>5268</th>\n",
       "      <td>13173</td>\n",
       "      <td>0.999010</td>\n",
       "      <td>0.000021</td>\n",
       "      <td>0.000969</td>\n",
       "    </tr>\n",
       "    <tr>\n",
       "      <th>5269</th>\n",
       "      <td>13174</td>\n",
       "      <td>0.999181</td>\n",
       "      <td>0.000041</td>\n",
       "      <td>0.000778</td>\n",
       "    </tr>\n",
       "    <tr>\n",
       "      <th>5270</th>\n",
       "      <td>13175</td>\n",
       "      <td>0.148188</td>\n",
       "      <td>0.002279</td>\n",
       "      <td>0.849533</td>\n",
       "    </tr>\n",
       "  </tbody>\n",
       "</table>\n",
       "<p>5271 rows × 4 columns</p>\n",
       "</div>"
      ],
      "text/plain": [
       "         id  Status_C  Status_CL  Status_D\n",
       "0      7905  0.986318   0.000479  0.013203\n",
       "1      7906  0.983019   0.000870  0.016112\n",
       "2      7907  0.015635   0.000044  0.984321\n",
       "3      7908  0.998028   0.000132  0.001841\n",
       "4      7909  0.814857   0.003046  0.182098\n",
       "...     ...       ...        ...       ...\n",
       "5266  13171  0.997255   0.000045  0.002700\n",
       "5267  13172  0.999258   0.000028  0.000714\n",
       "5268  13173  0.999010   0.000021  0.000969\n",
       "5269  13174  0.999181   0.000041  0.000778\n",
       "5270  13175  0.148188   0.002279  0.849533\n",
       "\n",
       "[5271 rows x 4 columns]"
      ]
     },
     "execution_count": 123,
     "metadata": {},
     "output_type": "execute_result"
    }
   ],
   "source": [
    "kaggle_res_df"
   ]
  },
  {
   "cell_type": "code",
   "execution_count": 124,
   "metadata": {},
   "outputs": [],
   "source": [
    "kaggle_res_df.to_csv('./results/multiclass_lo_res.csv', index=False)"
   ]
  },
  {
   "cell_type": "code",
   "execution_count": null,
   "metadata": {},
   "outputs": [],
   "source": []
  }
 ],
 "metadata": {
  "kernelspec": {
   "display_name": "base",
   "language": "python",
   "name": "python3"
  },
  "language_info": {
   "codemirror_mode": {
    "name": "ipython",
    "version": 3
   },
   "file_extension": ".py",
   "mimetype": "text/x-python",
   "name": "python",
   "nbconvert_exporter": "python",
   "pygments_lexer": "ipython3",
   "version": "3.10.9"
  }
 },
 "nbformat": 4,
 "nbformat_minor": 2
}
