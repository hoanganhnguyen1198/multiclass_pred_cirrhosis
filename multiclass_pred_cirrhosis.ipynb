{
 "cells": [
  {
   "cell_type": "code",
   "execution_count": 2,
   "metadata": {},
   "outputs": [],
   "source": [
    "import pandas as pd\n",
    "import numpy as np\n",
    "import matplotlib.pyplot as plt\n",
    "from sklearn import preprocessing\n",
    "from sklearn.preprocessing import StandardScaler"
   ]
  },
  {
   "cell_type": "code",
   "execution_count": 68,
   "metadata": {},
   "outputs": [],
   "source": [
    "from sklearn.preprocessing import OneHotEncoder\n",
    "from sklearn.preprocessing import LabelEncoder\n",
    "from sklearn.model_selection import train_test_split\n",
    "import torch\n",
    "import torch.nn as nn\n",
    "import torch.optim as optim\n",
    "import tqdm\n",
    "import torch.nn.functional as F\n",
    "import copy\n",
    "from sklearn.metrics import classification_report"
   ]
  },
  {
   "cell_type": "code",
   "execution_count": 4,
   "metadata": {},
   "outputs": [],
   "source": [
    "import warnings\n",
    "warnings.filterwarnings('ignore')"
   ]
  },
  {
   "cell_type": "code",
   "execution_count": 1,
   "metadata": {},
   "outputs": [],
   "source": [
    "from imblearn.over_sampling import SMOTE"
   ]
  },
  {
   "cell_type": "markdown",
   "metadata": {},
   "source": [
    "# Get Data"
   ]
  },
  {
   "cell_type": "code",
   "execution_count": 69,
   "metadata": {},
   "outputs": [],
   "source": [
    "train_df = pd.read_csv('./data/train_ds_processed.csv')"
   ]
  },
  {
   "cell_type": "markdown",
   "metadata": {},
   "source": [
    "# Data Preparation"
   ]
  },
  {
   "cell_type": "markdown",
   "metadata": {},
   "source": [
    "## Pre-process:"
   ]
  },
  {
   "cell_type": "code",
   "execution_count": 70,
   "metadata": {},
   "outputs": [],
   "source": [
    "X = train_df.drop(['Status'], axis=1)\n",
    "y = train_df[['Status']]"
   ]
  },
  {
   "cell_type": "markdown",
   "metadata": {},
   "source": [
    "### Pre-process Functions"
   ]
  },
  {
   "cell_type": "code",
   "execution_count": 6,
   "metadata": {},
   "outputs": [],
   "source": [
    "def preprocess(df:  pd.DataFrame) -> pd.DataFrame:\n",
    "    X = df.drop(['id', 'Status'], axis=1)\n",
    "    y = df[['Status']]\n",
    "\n",
    "    # One-hot encoding\n",
    "    X_1h = pd.get_dummies(X,\n",
    "                          columns=['Drug', 'Sex', 'Ascites',\n",
    "                                   'Hepatomegaly', 'Spiders', 'Edema'],\n",
    "                          dtype=np.uint8)\n",
    "    X_1h.drop(['Drug_D-penicillamine', 'Sex_M', 'Ascites_N',\n",
    "              'Hepatomegaly_N', 'Spiders_N'], axis=1, inplace=True)\n",
    "\n",
    "    # Standard Scaler\n",
    "    X_encoded = X_1h[['Stage', 'Drug_Placebo', 'Sex_F', 'Ascites_Y',\n",
    "                      'Hepatomegaly_Y', 'Spiders_Y', 'Edema_N', 'Edema_S', 'Edema_Y']]\n",
    "    X_std = X_1h.drop(['Stage', 'Drug_Placebo', 'Sex_F', 'Ascites_Y',\n",
    "                       'Hepatomegaly_Y', 'Spiders_Y', 'Edema_N', 'Edema_S', 'Edema_Y'], axis=1)\n",
    "\n",
    "    std_scaler = StandardScaler()\n",
    "    std_scaled_data = std_scaler.fit_transform(X_std)\n",
    "    X_std = pd.DataFrame(\n",
    "        std_scaled_data, index=X_std.index, columns=X_std.columns)\n",
    "\n",
    "    processed_df = pd.concat([X_std, X_encoded, y], axis=1)\n",
    "\n",
    "    return processed_df"
   ]
  },
  {
   "cell_type": "code",
   "execution_count": 67,
   "metadata": {},
   "outputs": [],
   "source": [
    "def preprocess_X(X_df:  pd.DataFrame) -> pd.DataFrame:\n",
    "    X = X_df.drop(['id'], axis=1)\n",
    "\n",
    "    # One-hot encoding\n",
    "    X_1h = pd.get_dummies(X,\n",
    "                          columns=['Drug', 'Sex', 'Ascites',\n",
    "                                   'Hepatomegaly', 'Spiders', 'Edema'],\n",
    "                          dtype=np.uint8)\n",
    "    X_1h.drop(['Drug_D-penicillamine', 'Sex_M', 'Ascites_N',\n",
    "              'Hepatomegaly_N', 'Spiders_N'], axis=1, inplace=True)\n",
    "\n",
    "    # Standard Scaler\n",
    "    X_encoded = X_1h[['Stage', 'Drug_Placebo', 'Sex_F', 'Ascites_Y',\n",
    "                      'Hepatomegaly_Y', 'Spiders_Y', 'Edema_N', 'Edema_S', 'Edema_Y']]\n",
    "    X_std = X_1h.drop(['Stage', 'Drug_Placebo', 'Sex_F', 'Ascites_Y',\n",
    "                       'Hepatomegaly_Y', 'Spiders_Y', 'Edema_N', 'Edema_S', 'Edema_Y'], axis=1)\n",
    "\n",
    "    std_scaler = StandardScaler()\n",
    "    std_scaled_data = std_scaler.fit_transform(X_std)\n",
    "    X_std = pd.DataFrame(\n",
    "        std_scaled_data, index=X_std.index, columns=X_std.columns)\n",
    "\n",
    "    processed_X_df = pd.concat([X_std, X_encoded], axis=1)\n",
    "\n",
    "    return processed_X_df"
   ]
  },
  {
   "cell_type": "markdown",
   "metadata": {},
   "source": [
    "## Split Dataset"
   ]
  },
  {
   "cell_type": "code",
   "execution_count": 141,
   "metadata": {},
   "outputs": [],
   "source": [
    "# split\n",
    "X_train, X_valid, y_train, y_valid = train_test_split(X, y, train_size=0.7, shuffle=True)"
   ]
  },
  {
   "cell_type": "markdown",
   "metadata": {},
   "source": [
    "## Label Encoding for Re-sampling"
   ]
  },
  {
   "cell_type": "code",
   "execution_count": 142,
   "metadata": {},
   "outputs": [
    {
     "data": {
      "text/plain": [
       "array(['C', 'CL', 'D'], dtype=object)"
      ]
     },
     "execution_count": 142,
     "metadata": {},
     "output_type": "execute_result"
    }
   ],
   "source": [
    "label_enc = LabelEncoder().fit(y_train)\n",
    "label_enc.classes_"
   ]
  },
  {
   "cell_type": "code",
   "execution_count": 143,
   "metadata": {},
   "outputs": [],
   "source": [
    "y_train = label_enc.transform(y_train)"
   ]
  },
  {
   "cell_type": "markdown",
   "metadata": {},
   "source": [
    "## Handle Class Imbalance in the training set  \n",
    "_Re-sampling the training set using SMOTE_"
   ]
  },
  {
   "cell_type": "code",
   "execution_count": 75,
   "metadata": {},
   "outputs": [],
   "source": [
    "def count_class_samples(y):\n",
    "    # Count the occurrences of each class in y\n",
    "    class_counts = np.bincount(y)\n",
    "    for class_label, count in enumerate(class_counts):\n",
    "        print(f\"Class {class_label}: {count} samples\")"
   ]
  },
  {
   "cell_type": "code",
   "execution_count": 103,
   "metadata": {},
   "outputs": [],
   "source": [
    "def smote_training_data(X_train, y_train):\n",
    "    smote = SMOTE(random_state=84)\n",
    "    X_train_resampled, y_train_resampled = smote.fit_resample(X_train, y_train)\n",
    "    return X_train_resampled, y_train_resampled"
   ]
  },
  {
   "cell_type": "code",
   "execution_count": 76,
   "metadata": {},
   "outputs": [
    {
     "name": "stdout",
     "output_type": "stream",
     "text": [
      "Class 0: 2769 samples\n",
      "Class 1: 149 samples\n",
      "Class 2: 1508 samples\n"
     ]
    }
   ],
   "source": [
    "count_class_samples(y_train)"
   ]
  },
  {
   "cell_type": "code",
   "execution_count": 144,
   "metadata": {},
   "outputs": [],
   "source": [
    "X_train_resampled, y_train_resampled = smote_training_data(X_train, y_train)"
   ]
  },
  {
   "cell_type": "code",
   "execution_count": 145,
   "metadata": {},
   "outputs": [
    {
     "name": "stdout",
     "output_type": "stream",
     "text": [
      "Class 0: 2780 samples\n",
      "Class 1: 2780 samples\n",
      "Class 2: 2780 samples\n"
     ]
    }
   ],
   "source": [
    "count_class_samples(y_train_resampled)"
   ]
  },
  {
   "cell_type": "markdown",
   "metadata": {},
   "source": [
    "## Target Encoding for Model Training"
   ]
  },
  {
   "cell_type": "markdown",
   "metadata": {},
   "source": [
    "### Reverse Label Encoding\n",
    "Not deploy this encoding method for training due to the ordinal nature of encoded labels"
   ]
  },
  {
   "cell_type": "code",
   "execution_count": 146,
   "metadata": {},
   "outputs": [],
   "source": [
    "y_train_resampled = label_enc.inverse_transform(y_train_resampled)"
   ]
  },
  {
   "cell_type": "code",
   "execution_count": 147,
   "metadata": {},
   "outputs": [],
   "source": [
    "y_train_resampled = pd.DataFrame(y_train_resampled.squeeze(), columns=['Status'])"
   ]
  },
  {
   "cell_type": "markdown",
   "metadata": {},
   "source": [
    "### OneHot Encoding"
   ]
  },
  {
   "cell_type": "code",
   "execution_count": 148,
   "metadata": {},
   "outputs": [
    {
     "data": {
      "text/plain": [
       "[array(['C', 'CL', 'D'], dtype=object)]"
      ]
     },
     "execution_count": 148,
     "metadata": {},
     "output_type": "execute_result"
    }
   ],
   "source": [
    "onehot_enc = OneHotEncoder(sparse_output=False).fit(y)\n",
    "onehot_enc.categories_"
   ]
  },
  {
   "cell_type": "code",
   "execution_count": 149,
   "metadata": {},
   "outputs": [],
   "source": [
    "y_train_resampled = onehot_enc.transform(y_train_resampled)"
   ]
  },
  {
   "cell_type": "code",
   "execution_count": 150,
   "metadata": {},
   "outputs": [],
   "source": [
    "y_valid = onehot_enc.transform(y_valid)"
   ]
  },
  {
   "cell_type": "markdown",
   "metadata": {},
   "source": [
    "## Data Transforming\n",
    "Convert pandas DataFrame (X) and numpy array (y) into PyTorch tensors"
   ]
  },
  {
   "cell_type": "code",
   "execution_count": 151,
   "metadata": {},
   "outputs": [
    {
     "name": "stdout",
     "output_type": "stream",
     "text": [
      "X_train_resampled:\t torch.Size([8340, 20])\n",
      "y_train_resampled:\t torch.Size([8340, 3])\n"
     ]
    }
   ],
   "source": [
    "X_train_resampled = torch.tensor(X_train_resampled.values, dtype=torch.float32)\n",
    "y_train_resampled = torch.tensor(y_train_resampled, dtype=torch.float32)\n",
    "print(\"X_train_resampled:\\t\", X_train_resampled.shape)\n",
    "print(\"y_train_resampled:\\t\", y_train_resampled.shape)"
   ]
  },
  {
   "cell_type": "code",
   "execution_count": 152,
   "metadata": {},
   "outputs": [
    {
     "name": "stdout",
     "output_type": "stream",
     "text": [
      "X_valid:\t torch.Size([1898, 20])\n",
      "y_valid:\t torch.Size([1898, 3])\n"
     ]
    }
   ],
   "source": [
    "X_valid = torch.tensor(X_valid.values, dtype=torch.float32)\n",
    "y_valid = torch.tensor(y_valid, dtype=torch.float32)\n",
    "print(\"X_valid:\\t\", X_valid.shape)\n",
    "print(\"y_valid:\\t\", y_valid.shape)"
   ]
  },
  {
   "cell_type": "code",
   "execution_count": 165,
   "metadata": {},
   "outputs": [
    {
     "data": {
      "text/plain": [
       "(tensor([[0., 0., 1.],\n",
       "         [0., 1., 0.],\n",
       "         [1., 0., 0.]]),\n",
       " tensor([2780, 2780, 2780]))"
      ]
     },
     "execution_count": 165,
     "metadata": {},
     "output_type": "execute_result"
    }
   ],
   "source": [
    "y_train_resampled.unique(return_counts=True, dim=0)"
   ]
  },
  {
   "cell_type": "markdown",
   "metadata": {},
   "source": [
    "# Model Planning"
   ]
  },
  {
   "cell_type": "code",
   "execution_count": 174,
   "metadata": {},
   "outputs": [],
   "source": [
    "LEARNING_RATE = 0.0001\n",
    "N_EPOCHS = 200\n",
    "BATCH_SIZE = 20"
   ]
  },
  {
   "cell_type": "code",
   "execution_count": 175,
   "metadata": {},
   "outputs": [],
   "source": [
    "# Multiclass-classifier with only Linear layers\n",
    "class MulticlassLO(nn.Module):\n",
    "    def __init__(self):\n",
    "        super().__init__()\n",
    "        self.fc1 = nn.Linear(20, 40)\n",
    "        self.fc2 = nn.Linear(40, 10)\n",
    "        self.output = nn.Linear(10, 3)\n",
    "        \n",
    "    def forward(self, x):\n",
    "        x = F.relu(self.fc1(x))\n",
    "        x = F.relu(self.fc2(x))\n",
    "        x = self.output(x)\n",
    "        return torch.softmax(x, dim=1)"
   ]
  },
  {
   "cell_type": "code",
   "execution_count": 176,
   "metadata": {},
   "outputs": [],
   "source": [
    "model = MulticlassLO()"
   ]
  },
  {
   "cell_type": "code",
   "execution_count": 177,
   "metadata": {},
   "outputs": [],
   "source": [
    "loss_fn = nn.CrossEntropyLoss()"
   ]
  },
  {
   "cell_type": "code",
   "execution_count": 178,
   "metadata": {},
   "outputs": [],
   "source": [
    "optimizer = optim.Adam(model.parameters(), lr=LEARNING_RATE)"
   ]
  },
  {
   "cell_type": "markdown",
   "metadata": {},
   "source": [
    "# Model Training"
   ]
  },
  {
   "cell_type": "code",
   "execution_count": 179,
   "metadata": {},
   "outputs": [],
   "source": [
    "best_acc = - np.inf   # init to negative infinity\n",
    "best_weights = None\n",
    "train_loss_hist = []\n",
    "train_acc_hist = []\n",
    "valid_loss_hist = []\n",
    "valid_acc_hist = []"
   ]
  },
  {
   "cell_type": "code",
   "execution_count": 180,
   "metadata": {},
   "outputs": [],
   "source": [
    "batches_per_epoch = len(X_train_resampled) // BATCH_SIZE"
   ]
  },
  {
   "cell_type": "code",
   "execution_count": 181,
   "metadata": {},
   "outputs": [
    {
     "name": "stderr",
     "output_type": "stream",
     "text": [
      "Epoch 0: 100%|██████████| 417/417 [00:04<00:00, 97.77batch/s, acc=0.25, loss=1.1]  \n"
     ]
    },
    {
     "name": "stdout",
     "output_type": "stream",
     "text": [
      "Epoch 0 validation: Cross-entropy=1.11, Accuracy=9.2%\n"
     ]
    },
    {
     "name": "stderr",
     "output_type": "stream",
     "text": [
      "Epoch 1: 100%|██████████| 417/417 [00:03<00:00, 110.80batch/s, acc=0.75, loss=1]   \n"
     ]
    },
    {
     "name": "stdout",
     "output_type": "stream",
     "text": [
      "Epoch 1 validation: Cross-entropy=1.08, Accuracy=29.3%\n"
     ]
    },
    {
     "name": "stderr",
     "output_type": "stream",
     "text": [
      "Epoch 2: 100%|██████████| 417/417 [00:04<00:00, 96.24batch/s, acc=0.9, loss=0.855]  \n"
     ]
    },
    {
     "name": "stdout",
     "output_type": "stream",
     "text": [
      "Epoch 2 validation: Cross-entropy=1.02, Accuracy=51.2%\n"
     ]
    },
    {
     "name": "stderr",
     "output_type": "stream",
     "text": [
      "Epoch 3: 100%|██████████| 417/417 [00:04<00:00, 103.66batch/s, acc=0.9, loss=0.781] \n"
     ]
    },
    {
     "name": "stdout",
     "output_type": "stream",
     "text": [
      "Epoch 3 validation: Cross-entropy=0.98, Accuracy=60.4%\n"
     ]
    },
    {
     "name": "stderr",
     "output_type": "stream",
     "text": [
      "Epoch 4: 100%|██████████| 417/417 [00:04<00:00, 102.04batch/s, acc=0.9, loss=0.753] \n"
     ]
    },
    {
     "name": "stdout",
     "output_type": "stream",
     "text": [
      "Epoch 4 validation: Cross-entropy=0.95, Accuracy=62.1%\n"
     ]
    },
    {
     "name": "stderr",
     "output_type": "stream",
     "text": [
      "Epoch 5: 100%|██████████| 417/417 [00:03<00:00, 108.91batch/s, acc=0.9, loss=0.742] \n"
     ]
    },
    {
     "name": "stdout",
     "output_type": "stream",
     "text": [
      "Epoch 5 validation: Cross-entropy=0.94, Accuracy=61.6%\n"
     ]
    },
    {
     "name": "stderr",
     "output_type": "stream",
     "text": [
      "Epoch 6: 100%|██████████| 417/417 [00:03<00:00, 105.51batch/s, acc=0.85, loss=0.738]\n"
     ]
    },
    {
     "name": "stdout",
     "output_type": "stream",
     "text": [
      "Epoch 6 validation: Cross-entropy=0.94, Accuracy=61.1%\n"
     ]
    },
    {
     "name": "stderr",
     "output_type": "stream",
     "text": [
      "Epoch 7: 100%|██████████| 417/417 [00:04<00:00, 95.34batch/s, acc=0.85, loss=0.736] \n"
     ]
    },
    {
     "name": "stdout",
     "output_type": "stream",
     "text": [
      "Epoch 7 validation: Cross-entropy=0.93, Accuracy=60.6%\n"
     ]
    },
    {
     "name": "stderr",
     "output_type": "stream",
     "text": [
      "Epoch 8: 100%|██████████| 417/417 [00:04<00:00, 84.92batch/s, acc=0.8, loss=0.735]  \n"
     ]
    },
    {
     "name": "stdout",
     "output_type": "stream",
     "text": [
      "Epoch 8 validation: Cross-entropy=0.93, Accuracy=60.5%\n"
     ]
    },
    {
     "name": "stderr",
     "output_type": "stream",
     "text": [
      "Epoch 9: 100%|██████████| 417/417 [00:10<00:00, 39.10batch/s, acc=0.8, loss=0.734]  \n"
     ]
    },
    {
     "name": "stdout",
     "output_type": "stream",
     "text": [
      "Epoch 9 validation: Cross-entropy=0.93, Accuracy=60.7%\n"
     ]
    },
    {
     "name": "stderr",
     "output_type": "stream",
     "text": [
      "Epoch 10: 100%|██████████| 417/417 [00:04<00:00, 96.10batch/s, acc=0.8, loss=0.733]  \n"
     ]
    },
    {
     "name": "stdout",
     "output_type": "stream",
     "text": [
      "Epoch 10 validation: Cross-entropy=0.93, Accuracy=60.7%\n"
     ]
    },
    {
     "name": "stderr",
     "output_type": "stream",
     "text": [
      "Epoch 11: 100%|██████████| 417/417 [00:03<00:00, 105.04batch/s, acc=0.85, loss=0.733]\n"
     ]
    },
    {
     "name": "stdout",
     "output_type": "stream",
     "text": [
      "Epoch 11 validation: Cross-entropy=0.93, Accuracy=60.7%\n"
     ]
    },
    {
     "name": "stderr",
     "output_type": "stream",
     "text": [
      "Epoch 12: 100%|██████████| 417/417 [00:03<00:00, 107.50batch/s, acc=0.85, loss=0.732]\n"
     ]
    },
    {
     "name": "stdout",
     "output_type": "stream",
     "text": [
      "Epoch 12 validation: Cross-entropy=0.92, Accuracy=60.7%\n"
     ]
    },
    {
     "name": "stderr",
     "output_type": "stream",
     "text": [
      "Epoch 13: 100%|██████████| 417/417 [00:03<00:00, 110.66batch/s, acc=0.85, loss=0.731]\n"
     ]
    },
    {
     "name": "stdout",
     "output_type": "stream",
     "text": [
      "Epoch 13 validation: Cross-entropy=0.92, Accuracy=61.0%\n"
     ]
    },
    {
     "name": "stderr",
     "output_type": "stream",
     "text": [
      "Epoch 14: 100%|██████████| 417/417 [00:03<00:00, 110.50batch/s, acc=0.85, loss=0.73] \n"
     ]
    },
    {
     "name": "stdout",
     "output_type": "stream",
     "text": [
      "Epoch 14 validation: Cross-entropy=0.92, Accuracy=61.1%\n"
     ]
    },
    {
     "name": "stderr",
     "output_type": "stream",
     "text": [
      "Epoch 15: 100%|██████████| 417/417 [00:03<00:00, 105.52batch/s, acc=0.85, loss=0.73] \n"
     ]
    },
    {
     "name": "stdout",
     "output_type": "stream",
     "text": [
      "Epoch 15 validation: Cross-entropy=0.92, Accuracy=61.2%\n"
     ]
    },
    {
     "name": "stderr",
     "output_type": "stream",
     "text": [
      "Epoch 16: 100%|██████████| 417/417 [00:03<00:00, 110.21batch/s, acc=0.85, loss=0.729]\n"
     ]
    },
    {
     "name": "stdout",
     "output_type": "stream",
     "text": [
      "Epoch 16 validation: Cross-entropy=0.92, Accuracy=61.4%\n"
     ]
    },
    {
     "name": "stderr",
     "output_type": "stream",
     "text": [
      "Epoch 17: 100%|██████████| 417/417 [00:03<00:00, 108.32batch/s, acc=0.85, loss=0.728]\n"
     ]
    },
    {
     "name": "stdout",
     "output_type": "stream",
     "text": [
      "Epoch 17 validation: Cross-entropy=0.91, Accuracy=61.6%\n"
     ]
    },
    {
     "name": "stderr",
     "output_type": "stream",
     "text": [
      "Epoch 18: 100%|██████████| 417/417 [00:03<00:00, 109.39batch/s, acc=0.85, loss=0.727]\n"
     ]
    },
    {
     "name": "stdout",
     "output_type": "stream",
     "text": [
      "Epoch 18 validation: Cross-entropy=0.91, Accuracy=62.1%\n"
     ]
    },
    {
     "name": "stderr",
     "output_type": "stream",
     "text": [
      "Epoch 19: 100%|██████████| 417/417 [00:04<00:00, 102.58batch/s, acc=0.85, loss=0.727]\n"
     ]
    },
    {
     "name": "stdout",
     "output_type": "stream",
     "text": [
      "Epoch 19 validation: Cross-entropy=0.91, Accuracy=62.2%\n"
     ]
    },
    {
     "name": "stderr",
     "output_type": "stream",
     "text": [
      "Epoch 20: 100%|██████████| 417/417 [00:04<00:00, 104.07batch/s, acc=0.85, loss=0.726]\n"
     ]
    },
    {
     "name": "stdout",
     "output_type": "stream",
     "text": [
      "Epoch 20 validation: Cross-entropy=0.91, Accuracy=62.3%\n"
     ]
    },
    {
     "name": "stderr",
     "output_type": "stream",
     "text": [
      "Epoch 21: 100%|██████████| 417/417 [00:03<00:00, 108.09batch/s, acc=0.85, loss=0.725]\n"
     ]
    },
    {
     "name": "stdout",
     "output_type": "stream",
     "text": [
      "Epoch 21 validation: Cross-entropy=0.91, Accuracy=62.2%\n"
     ]
    },
    {
     "name": "stderr",
     "output_type": "stream",
     "text": [
      "Epoch 22: 100%|██████████| 417/417 [00:04<00:00, 103.71batch/s, acc=0.85, loss=0.724]\n"
     ]
    },
    {
     "name": "stdout",
     "output_type": "stream",
     "text": [
      "Epoch 22 validation: Cross-entropy=0.91, Accuracy=62.5%\n"
     ]
    },
    {
     "name": "stderr",
     "output_type": "stream",
     "text": [
      "Epoch 23: 100%|██████████| 417/417 [00:04<00:00, 104.23batch/s, acc=0.85, loss=0.723]\n"
     ]
    },
    {
     "name": "stdout",
     "output_type": "stream",
     "text": [
      "Epoch 23 validation: Cross-entropy=0.90, Accuracy=62.6%\n"
     ]
    },
    {
     "name": "stderr",
     "output_type": "stream",
     "text": [
      "Epoch 24: 100%|██████████| 417/417 [00:04<00:00, 95.82batch/s, acc=0.85, loss=0.722] \n"
     ]
    },
    {
     "name": "stdout",
     "output_type": "stream",
     "text": [
      "Epoch 24 validation: Cross-entropy=0.90, Accuracy=62.9%\n"
     ]
    },
    {
     "name": "stderr",
     "output_type": "stream",
     "text": [
      "Epoch 25: 100%|██████████| 417/417 [00:04<00:00, 83.67batch/s, acc=0.85, loss=0.721] \n"
     ]
    },
    {
     "name": "stdout",
     "output_type": "stream",
     "text": [
      "Epoch 25 validation: Cross-entropy=0.90, Accuracy=63.2%\n"
     ]
    },
    {
     "name": "stderr",
     "output_type": "stream",
     "text": [
      "Epoch 26: 100%|██████████| 417/417 [00:04<00:00, 95.01batch/s, acc=0.85, loss=0.72]  \n"
     ]
    },
    {
     "name": "stdout",
     "output_type": "stream",
     "text": [
      "Epoch 26 validation: Cross-entropy=0.90, Accuracy=63.4%\n"
     ]
    },
    {
     "name": "stderr",
     "output_type": "stream",
     "text": [
      "Epoch 27: 100%|██████████| 417/417 [00:04<00:00, 93.81batch/s, acc=0.85, loss=0.719] \n"
     ]
    },
    {
     "name": "stdout",
     "output_type": "stream",
     "text": [
      "Epoch 27 validation: Cross-entropy=0.90, Accuracy=63.5%\n"
     ]
    },
    {
     "name": "stderr",
     "output_type": "stream",
     "text": [
      "Epoch 28: 100%|██████████| 417/417 [00:04<00:00, 102.56batch/s, acc=0.85, loss=0.719]\n"
     ]
    },
    {
     "name": "stdout",
     "output_type": "stream",
     "text": [
      "Epoch 28 validation: Cross-entropy=0.90, Accuracy=63.8%\n"
     ]
    },
    {
     "name": "stderr",
     "output_type": "stream",
     "text": [
      "Epoch 29: 100%|██████████| 417/417 [00:04<00:00, 102.48batch/s, acc=0.85, loss=0.718]\n"
     ]
    },
    {
     "name": "stdout",
     "output_type": "stream",
     "text": [
      "Epoch 29 validation: Cross-entropy=0.90, Accuracy=64.0%\n"
     ]
    },
    {
     "name": "stderr",
     "output_type": "stream",
     "text": [
      "Epoch 30: 100%|██████████| 417/417 [00:03<00:00, 110.46batch/s, acc=0.85, loss=0.717]\n"
     ]
    },
    {
     "name": "stdout",
     "output_type": "stream",
     "text": [
      "Epoch 30 validation: Cross-entropy=0.90, Accuracy=64.1%\n"
     ]
    },
    {
     "name": "stderr",
     "output_type": "stream",
     "text": [
      "Epoch 31: 100%|██████████| 417/417 [00:03<00:00, 108.41batch/s, acc=0.85, loss=0.716]\n"
     ]
    },
    {
     "name": "stdout",
     "output_type": "stream",
     "text": [
      "Epoch 31 validation: Cross-entropy=0.89, Accuracy=64.4%\n"
     ]
    },
    {
     "name": "stderr",
     "output_type": "stream",
     "text": [
      "Epoch 32: 100%|██████████| 417/417 [00:03<00:00, 107.40batch/s, acc=0.85, loss=0.715]\n"
     ]
    },
    {
     "name": "stdout",
     "output_type": "stream",
     "text": [
      "Epoch 32 validation: Cross-entropy=0.89, Accuracy=64.2%\n"
     ]
    },
    {
     "name": "stderr",
     "output_type": "stream",
     "text": [
      "Epoch 33: 100%|██████████| 417/417 [00:04<00:00, 101.60batch/s, acc=0.85, loss=0.715]\n"
     ]
    },
    {
     "name": "stdout",
     "output_type": "stream",
     "text": [
      "Epoch 33 validation: Cross-entropy=0.89, Accuracy=64.3%\n"
     ]
    },
    {
     "name": "stderr",
     "output_type": "stream",
     "text": [
      "Epoch 34: 100%|██████████| 417/417 [00:03<00:00, 105.81batch/s, acc=0.85, loss=0.714]\n"
     ]
    },
    {
     "name": "stdout",
     "output_type": "stream",
     "text": [
      "Epoch 34 validation: Cross-entropy=0.89, Accuracy=64.3%\n"
     ]
    },
    {
     "name": "stderr",
     "output_type": "stream",
     "text": [
      "Epoch 35: 100%|██████████| 417/417 [00:03<00:00, 108.22batch/s, acc=0.85, loss=0.714]\n"
     ]
    },
    {
     "name": "stdout",
     "output_type": "stream",
     "text": [
      "Epoch 35 validation: Cross-entropy=0.89, Accuracy=64.4%\n"
     ]
    },
    {
     "name": "stderr",
     "output_type": "stream",
     "text": [
      "Epoch 36: 100%|██████████| 417/417 [00:03<00:00, 106.65batch/s, acc=0.85, loss=0.713]\n"
     ]
    },
    {
     "name": "stdout",
     "output_type": "stream",
     "text": [
      "Epoch 36 validation: Cross-entropy=0.89, Accuracy=64.6%\n"
     ]
    },
    {
     "name": "stderr",
     "output_type": "stream",
     "text": [
      "Epoch 37: 100%|██████████| 417/417 [00:03<00:00, 107.15batch/s, acc=0.85, loss=0.712]\n"
     ]
    },
    {
     "name": "stdout",
     "output_type": "stream",
     "text": [
      "Epoch 37 validation: Cross-entropy=0.89, Accuracy=64.6%\n"
     ]
    },
    {
     "name": "stderr",
     "output_type": "stream",
     "text": [
      "Epoch 38: 100%|██████████| 417/417 [00:04<00:00, 103.63batch/s, acc=0.85, loss=0.712]\n"
     ]
    },
    {
     "name": "stdout",
     "output_type": "stream",
     "text": [
      "Epoch 38 validation: Cross-entropy=0.89, Accuracy=64.7%\n"
     ]
    },
    {
     "name": "stderr",
     "output_type": "stream",
     "text": [
      "Epoch 39: 100%|██████████| 417/417 [00:03<00:00, 106.40batch/s, acc=0.85, loss=0.711]\n"
     ]
    },
    {
     "name": "stdout",
     "output_type": "stream",
     "text": [
      "Epoch 39 validation: Cross-entropy=0.89, Accuracy=64.8%\n"
     ]
    },
    {
     "name": "stderr",
     "output_type": "stream",
     "text": [
      "Epoch 40: 100%|██████████| 417/417 [00:03<00:00, 109.55batch/s, acc=0.85, loss=0.711]\n"
     ]
    },
    {
     "name": "stdout",
     "output_type": "stream",
     "text": [
      "Epoch 40 validation: Cross-entropy=0.89, Accuracy=65.0%\n"
     ]
    },
    {
     "name": "stderr",
     "output_type": "stream",
     "text": [
      "Epoch 41: 100%|██████████| 417/417 [00:04<00:00, 98.54batch/s, acc=0.85, loss=0.71]  \n"
     ]
    },
    {
     "name": "stdout",
     "output_type": "stream",
     "text": [
      "Epoch 41 validation: Cross-entropy=0.88, Accuracy=65.0%\n"
     ]
    },
    {
     "name": "stderr",
     "output_type": "stream",
     "text": [
      "Epoch 42: 100%|██████████| 417/417 [00:04<00:00, 100.29batch/s, acc=0.85, loss=0.71] \n"
     ]
    },
    {
     "name": "stdout",
     "output_type": "stream",
     "text": [
      "Epoch 42 validation: Cross-entropy=0.88, Accuracy=65.1%\n"
     ]
    },
    {
     "name": "stderr",
     "output_type": "stream",
     "text": [
      "Epoch 43: 100%|██████████| 417/417 [00:03<00:00, 105.94batch/s, acc=0.85, loss=0.709]\n"
     ]
    },
    {
     "name": "stdout",
     "output_type": "stream",
     "text": [
      "Epoch 43 validation: Cross-entropy=0.88, Accuracy=65.1%\n"
     ]
    },
    {
     "name": "stderr",
     "output_type": "stream",
     "text": [
      "Epoch 44: 100%|██████████| 417/417 [00:04<00:00, 99.67batch/s, acc=0.85, loss=0.709] \n"
     ]
    },
    {
     "name": "stdout",
     "output_type": "stream",
     "text": [
      "Epoch 44 validation: Cross-entropy=0.88, Accuracy=65.2%\n"
     ]
    },
    {
     "name": "stderr",
     "output_type": "stream",
     "text": [
      "Epoch 45: 100%|██████████| 417/417 [00:04<00:00, 103.42batch/s, acc=0.85, loss=0.708]\n"
     ]
    },
    {
     "name": "stdout",
     "output_type": "stream",
     "text": [
      "Epoch 45 validation: Cross-entropy=0.88, Accuracy=65.4%\n"
     ]
    },
    {
     "name": "stderr",
     "output_type": "stream",
     "text": [
      "Epoch 46: 100%|██████████| 417/417 [00:04<00:00, 104.06batch/s, acc=0.85, loss=0.708]\n"
     ]
    },
    {
     "name": "stdout",
     "output_type": "stream",
     "text": [
      "Epoch 46 validation: Cross-entropy=0.88, Accuracy=65.5%\n"
     ]
    },
    {
     "name": "stderr",
     "output_type": "stream",
     "text": [
      "Epoch 47: 100%|██████████| 417/417 [00:04<00:00, 99.29batch/s, acc=0.85, loss=0.708] \n"
     ]
    },
    {
     "name": "stdout",
     "output_type": "stream",
     "text": [
      "Epoch 47 validation: Cross-entropy=0.88, Accuracy=65.5%\n"
     ]
    },
    {
     "name": "stderr",
     "output_type": "stream",
     "text": [
      "Epoch 48: 100%|██████████| 417/417 [00:04<00:00, 102.01batch/s, acc=0.85, loss=0.707]\n"
     ]
    },
    {
     "name": "stdout",
     "output_type": "stream",
     "text": [
      "Epoch 48 validation: Cross-entropy=0.88, Accuracy=65.6%\n"
     ]
    },
    {
     "name": "stderr",
     "output_type": "stream",
     "text": [
      "Epoch 49: 100%|██████████| 417/417 [00:04<00:00, 103.86batch/s, acc=0.85, loss=0.707]\n"
     ]
    },
    {
     "name": "stdout",
     "output_type": "stream",
     "text": [
      "Epoch 49 validation: Cross-entropy=0.88, Accuracy=65.8%\n"
     ]
    },
    {
     "name": "stderr",
     "output_type": "stream",
     "text": [
      "Epoch 50: 100%|██████████| 417/417 [00:04<00:00, 102.31batch/s, acc=0.85, loss=0.706]\n"
     ]
    },
    {
     "name": "stdout",
     "output_type": "stream",
     "text": [
      "Epoch 50 validation: Cross-entropy=0.88, Accuracy=65.6%\n"
     ]
    },
    {
     "name": "stderr",
     "output_type": "stream",
     "text": [
      "Epoch 51: 100%|██████████| 417/417 [00:03<00:00, 107.57batch/s, acc=0.85, loss=0.706]\n"
     ]
    },
    {
     "name": "stdout",
     "output_type": "stream",
     "text": [
      "Epoch 51 validation: Cross-entropy=0.88, Accuracy=65.8%\n"
     ]
    },
    {
     "name": "stderr",
     "output_type": "stream",
     "text": [
      "Epoch 52: 100%|██████████| 417/417 [00:04<00:00, 95.91batch/s, acc=0.85, loss=0.706] \n"
     ]
    },
    {
     "name": "stdout",
     "output_type": "stream",
     "text": [
      "Epoch 52 validation: Cross-entropy=0.88, Accuracy=65.7%\n"
     ]
    },
    {
     "name": "stderr",
     "output_type": "stream",
     "text": [
      "Epoch 53: 100%|██████████| 417/417 [00:04<00:00, 99.25batch/s, acc=0.85, loss=0.705] \n"
     ]
    },
    {
     "name": "stdout",
     "output_type": "stream",
     "text": [
      "Epoch 53 validation: Cross-entropy=0.88, Accuracy=65.8%\n"
     ]
    },
    {
     "name": "stderr",
     "output_type": "stream",
     "text": [
      "Epoch 54: 100%|██████████| 417/417 [00:04<00:00, 104.18batch/s, acc=0.85, loss=0.705]\n"
     ]
    },
    {
     "name": "stdout",
     "output_type": "stream",
     "text": [
      "Epoch 54 validation: Cross-entropy=0.88, Accuracy=65.7%\n"
     ]
    },
    {
     "name": "stderr",
     "output_type": "stream",
     "text": [
      "Epoch 55: 100%|██████████| 417/417 [00:03<00:00, 104.54batch/s, acc=0.85, loss=0.704]\n"
     ]
    },
    {
     "name": "stdout",
     "output_type": "stream",
     "text": [
      "Epoch 55 validation: Cross-entropy=0.88, Accuracy=65.6%\n"
     ]
    },
    {
     "name": "stderr",
     "output_type": "stream",
     "text": [
      "Epoch 56: 100%|██████████| 417/417 [00:04<00:00, 96.80batch/s, acc=0.85, loss=0.704] \n"
     ]
    },
    {
     "name": "stdout",
     "output_type": "stream",
     "text": [
      "Epoch 56 validation: Cross-entropy=0.88, Accuracy=65.5%\n"
     ]
    },
    {
     "name": "stderr",
     "output_type": "stream",
     "text": [
      "Epoch 57: 100%|██████████| 417/417 [00:03<00:00, 106.28batch/s, acc=0.85, loss=0.704]\n"
     ]
    },
    {
     "name": "stdout",
     "output_type": "stream",
     "text": [
      "Epoch 57 validation: Cross-entropy=0.88, Accuracy=65.8%\n"
     ]
    },
    {
     "name": "stderr",
     "output_type": "stream",
     "text": [
      "Epoch 58: 100%|██████████| 417/417 [00:04<00:00, 100.80batch/s, acc=0.85, loss=0.703]\n"
     ]
    },
    {
     "name": "stdout",
     "output_type": "stream",
     "text": [
      "Epoch 58 validation: Cross-entropy=0.88, Accuracy=65.8%\n"
     ]
    },
    {
     "name": "stderr",
     "output_type": "stream",
     "text": [
      "Epoch 59: 100%|██████████| 417/417 [00:03<00:00, 104.45batch/s, acc=0.85, loss=0.703]\n"
     ]
    },
    {
     "name": "stdout",
     "output_type": "stream",
     "text": [
      "Epoch 59 validation: Cross-entropy=0.87, Accuracy=66.0%\n"
     ]
    },
    {
     "name": "stderr",
     "output_type": "stream",
     "text": [
      "Epoch 60: 100%|██████████| 417/417 [00:04<00:00, 104.10batch/s, acc=0.85, loss=0.703]\n"
     ]
    },
    {
     "name": "stdout",
     "output_type": "stream",
     "text": [
      "Epoch 60 validation: Cross-entropy=0.87, Accuracy=65.9%\n"
     ]
    },
    {
     "name": "stderr",
     "output_type": "stream",
     "text": [
      "Epoch 61: 100%|██████████| 417/417 [00:04<00:00, 102.97batch/s, acc=0.85, loss=0.702]\n"
     ]
    },
    {
     "name": "stdout",
     "output_type": "stream",
     "text": [
      "Epoch 61 validation: Cross-entropy=0.87, Accuracy=66.0%\n"
     ]
    },
    {
     "name": "stderr",
     "output_type": "stream",
     "text": [
      "Epoch 62: 100%|██████████| 417/417 [00:03<00:00, 105.88batch/s, acc=0.85, loss=0.702]\n"
     ]
    },
    {
     "name": "stdout",
     "output_type": "stream",
     "text": [
      "Epoch 62 validation: Cross-entropy=0.87, Accuracy=66.2%\n"
     ]
    },
    {
     "name": "stderr",
     "output_type": "stream",
     "text": [
      "Epoch 63: 100%|██████████| 417/417 [00:04<00:00, 87.74batch/s, acc=0.85, loss=0.701] \n"
     ]
    },
    {
     "name": "stdout",
     "output_type": "stream",
     "text": [
      "Epoch 63 validation: Cross-entropy=0.87, Accuracy=66.3%\n"
     ]
    },
    {
     "name": "stderr",
     "output_type": "stream",
     "text": [
      "Epoch 64: 100%|██████████| 417/417 [00:04<00:00, 98.38batch/s, acc=0.85, loss=0.701] \n"
     ]
    },
    {
     "name": "stdout",
     "output_type": "stream",
     "text": [
      "Epoch 64 validation: Cross-entropy=0.87, Accuracy=66.3%\n"
     ]
    },
    {
     "name": "stderr",
     "output_type": "stream",
     "text": [
      "Epoch 65: 100%|██████████| 417/417 [00:04<00:00, 88.08batch/s, acc=0.85, loss=0.7]   \n"
     ]
    },
    {
     "name": "stdout",
     "output_type": "stream",
     "text": [
      "Epoch 65 validation: Cross-entropy=0.87, Accuracy=66.4%\n"
     ]
    },
    {
     "name": "stderr",
     "output_type": "stream",
     "text": [
      "Epoch 66: 100%|██████████| 417/417 [00:04<00:00, 100.12batch/s, acc=0.85, loss=0.7]  \n"
     ]
    },
    {
     "name": "stdout",
     "output_type": "stream",
     "text": [
      "Epoch 66 validation: Cross-entropy=0.87, Accuracy=66.4%\n"
     ]
    },
    {
     "name": "stderr",
     "output_type": "stream",
     "text": [
      "Epoch 67: 100%|██████████| 417/417 [00:04<00:00, 97.60batch/s, acc=0.85, loss=0.699] \n"
     ]
    },
    {
     "name": "stdout",
     "output_type": "stream",
     "text": [
      "Epoch 67 validation: Cross-entropy=0.87, Accuracy=66.4%\n"
     ]
    },
    {
     "name": "stderr",
     "output_type": "stream",
     "text": [
      "Epoch 68: 100%|██████████| 417/417 [00:04<00:00, 92.83batch/s, acc=0.85, loss=0.699] \n"
     ]
    },
    {
     "name": "stdout",
     "output_type": "stream",
     "text": [
      "Epoch 68 validation: Cross-entropy=0.87, Accuracy=66.4%\n"
     ]
    },
    {
     "name": "stderr",
     "output_type": "stream",
     "text": [
      "Epoch 69: 100%|██████████| 417/417 [00:04<00:00, 86.30batch/s, acc=0.85, loss=0.698] \n"
     ]
    },
    {
     "name": "stdout",
     "output_type": "stream",
     "text": [
      "Epoch 69 validation: Cross-entropy=0.87, Accuracy=66.5%\n"
     ]
    },
    {
     "name": "stderr",
     "output_type": "stream",
     "text": [
      "Epoch 70: 100%|██████████| 417/417 [00:04<00:00, 94.37batch/s, acc=0.85, loss=0.698] \n"
     ]
    },
    {
     "name": "stdout",
     "output_type": "stream",
     "text": [
      "Epoch 70 validation: Cross-entropy=0.87, Accuracy=66.6%\n"
     ]
    },
    {
     "name": "stderr",
     "output_type": "stream",
     "text": [
      "Epoch 71: 100%|██████████| 417/417 [00:04<00:00, 102.77batch/s, acc=0.85, loss=0.697]\n"
     ]
    },
    {
     "name": "stdout",
     "output_type": "stream",
     "text": [
      "Epoch 71 validation: Cross-entropy=0.87, Accuracy=66.6%\n"
     ]
    },
    {
     "name": "stderr",
     "output_type": "stream",
     "text": [
      "Epoch 72: 100%|██████████| 417/417 [00:04<00:00, 95.59batch/s, acc=0.85, loss=0.697] \n"
     ]
    },
    {
     "name": "stdout",
     "output_type": "stream",
     "text": [
      "Epoch 72 validation: Cross-entropy=0.87, Accuracy=66.6%\n"
     ]
    },
    {
     "name": "stderr",
     "output_type": "stream",
     "text": [
      "Epoch 73: 100%|██████████| 417/417 [00:04<00:00, 97.75batch/s, acc=0.85, loss=0.696] \n"
     ]
    },
    {
     "name": "stdout",
     "output_type": "stream",
     "text": [
      "Epoch 73 validation: Cross-entropy=0.87, Accuracy=66.6%\n"
     ]
    },
    {
     "name": "stderr",
     "output_type": "stream",
     "text": [
      "Epoch 74: 100%|██████████| 417/417 [00:04<00:00, 95.87batch/s, acc=0.85, loss=0.696] \n"
     ]
    },
    {
     "name": "stdout",
     "output_type": "stream",
     "text": [
      "Epoch 74 validation: Cross-entropy=0.87, Accuracy=66.8%\n"
     ]
    },
    {
     "name": "stderr",
     "output_type": "stream",
     "text": [
      "Epoch 75: 100%|██████████| 417/417 [00:04<00:00, 97.17batch/s, acc=0.85, loss=0.695] \n"
     ]
    },
    {
     "name": "stdout",
     "output_type": "stream",
     "text": [
      "Epoch 75 validation: Cross-entropy=0.87, Accuracy=66.9%\n"
     ]
    },
    {
     "name": "stderr",
     "output_type": "stream",
     "text": [
      "Epoch 76: 100%|██████████| 417/417 [00:04<00:00, 100.47batch/s, acc=0.85, loss=0.695]\n"
     ]
    },
    {
     "name": "stdout",
     "output_type": "stream",
     "text": [
      "Epoch 76 validation: Cross-entropy=0.87, Accuracy=66.9%\n"
     ]
    },
    {
     "name": "stderr",
     "output_type": "stream",
     "text": [
      "Epoch 77: 100%|██████████| 417/417 [00:04<00:00, 93.44batch/s, acc=0.85, loss=0.694] \n"
     ]
    },
    {
     "name": "stdout",
     "output_type": "stream",
     "text": [
      "Epoch 77 validation: Cross-entropy=0.87, Accuracy=66.9%\n"
     ]
    },
    {
     "name": "stderr",
     "output_type": "stream",
     "text": [
      "Epoch 78: 100%|██████████| 417/417 [00:04<00:00, 101.12batch/s, acc=0.85, loss=0.694]\n"
     ]
    },
    {
     "name": "stdout",
     "output_type": "stream",
     "text": [
      "Epoch 78 validation: Cross-entropy=0.87, Accuracy=66.9%\n"
     ]
    },
    {
     "name": "stderr",
     "output_type": "stream",
     "text": [
      "Epoch 79: 100%|██████████| 417/417 [00:04<00:00, 97.32batch/s, acc=0.85, loss=0.694] \n"
     ]
    },
    {
     "name": "stdout",
     "output_type": "stream",
     "text": [
      "Epoch 79 validation: Cross-entropy=0.87, Accuracy=66.9%\n"
     ]
    },
    {
     "name": "stderr",
     "output_type": "stream",
     "text": [
      "Epoch 80: 100%|██████████| 417/417 [00:04<00:00, 97.90batch/s, acc=0.85, loss=0.693] \n"
     ]
    },
    {
     "name": "stdout",
     "output_type": "stream",
     "text": [
      "Epoch 80 validation: Cross-entropy=0.87, Accuracy=66.9%\n"
     ]
    },
    {
     "name": "stderr",
     "output_type": "stream",
     "text": [
      "Epoch 81: 100%|██████████| 417/417 [00:04<00:00, 99.43batch/s, acc=0.85, loss=0.693] \n"
     ]
    },
    {
     "name": "stdout",
     "output_type": "stream",
     "text": [
      "Epoch 81 validation: Cross-entropy=0.87, Accuracy=66.9%\n"
     ]
    },
    {
     "name": "stderr",
     "output_type": "stream",
     "text": [
      "Epoch 82: 100%|██████████| 417/417 [00:04<00:00, 99.34batch/s, acc=0.85, loss=0.692] \n"
     ]
    },
    {
     "name": "stdout",
     "output_type": "stream",
     "text": [
      "Epoch 82 validation: Cross-entropy=0.87, Accuracy=66.9%\n"
     ]
    },
    {
     "name": "stderr",
     "output_type": "stream",
     "text": [
      "Epoch 83: 100%|██████████| 417/417 [00:03<00:00, 104.78batch/s, acc=0.85, loss=0.692]\n"
     ]
    },
    {
     "name": "stdout",
     "output_type": "stream",
     "text": [
      "Epoch 83 validation: Cross-entropy=0.87, Accuracy=67.1%\n"
     ]
    },
    {
     "name": "stderr",
     "output_type": "stream",
     "text": [
      "Epoch 84: 100%|██████████| 417/417 [00:03<00:00, 105.75batch/s, acc=0.85, loss=0.691]\n"
     ]
    },
    {
     "name": "stdout",
     "output_type": "stream",
     "text": [
      "Epoch 84 validation: Cross-entropy=0.87, Accuracy=67.1%\n"
     ]
    },
    {
     "name": "stderr",
     "output_type": "stream",
     "text": [
      "Epoch 85: 100%|██████████| 417/417 [00:03<00:00, 107.97batch/s, acc=0.85, loss=0.691]\n"
     ]
    },
    {
     "name": "stdout",
     "output_type": "stream",
     "text": [
      "Epoch 85 validation: Cross-entropy=0.87, Accuracy=67.1%\n"
     ]
    },
    {
     "name": "stderr",
     "output_type": "stream",
     "text": [
      "Epoch 86: 100%|██████████| 417/417 [00:04<00:00, 103.46batch/s, acc=0.85, loss=0.69] \n"
     ]
    },
    {
     "name": "stdout",
     "output_type": "stream",
     "text": [
      "Epoch 86 validation: Cross-entropy=0.86, Accuracy=67.1%\n"
     ]
    },
    {
     "name": "stderr",
     "output_type": "stream",
     "text": [
      "Epoch 87: 100%|██████████| 417/417 [00:03<00:00, 107.87batch/s, acc=0.85, loss=0.69] \n"
     ]
    },
    {
     "name": "stdout",
     "output_type": "stream",
     "text": [
      "Epoch 87 validation: Cross-entropy=0.86, Accuracy=67.2%\n"
     ]
    },
    {
     "name": "stderr",
     "output_type": "stream",
     "text": [
      "Epoch 88: 100%|██████████| 417/417 [00:04<00:00, 103.14batch/s, acc=0.85, loss=0.689]\n"
     ]
    },
    {
     "name": "stdout",
     "output_type": "stream",
     "text": [
      "Epoch 88 validation: Cross-entropy=0.86, Accuracy=67.3%\n"
     ]
    },
    {
     "name": "stderr",
     "output_type": "stream",
     "text": [
      "Epoch 89: 100%|██████████| 417/417 [00:04<00:00, 95.24batch/s, acc=0.85, loss=0.689] \n"
     ]
    },
    {
     "name": "stdout",
     "output_type": "stream",
     "text": [
      "Epoch 89 validation: Cross-entropy=0.86, Accuracy=67.3%\n"
     ]
    },
    {
     "name": "stderr",
     "output_type": "stream",
     "text": [
      "Epoch 90: 100%|██████████| 417/417 [00:04<00:00, 99.68batch/s, acc=0.85, loss=0.688] \n"
     ]
    },
    {
     "name": "stdout",
     "output_type": "stream",
     "text": [
      "Epoch 90 validation: Cross-entropy=0.86, Accuracy=67.5%\n"
     ]
    },
    {
     "name": "stderr",
     "output_type": "stream",
     "text": [
      "Epoch 91: 100%|██████████| 417/417 [00:03<00:00, 104.95batch/s, acc=0.85, loss=0.688]\n"
     ]
    },
    {
     "name": "stdout",
     "output_type": "stream",
     "text": [
      "Epoch 91 validation: Cross-entropy=0.86, Accuracy=67.6%\n"
     ]
    },
    {
     "name": "stderr",
     "output_type": "stream",
     "text": [
      "Epoch 92: 100%|██████████| 417/417 [00:04<00:00, 101.13batch/s, acc=0.85, loss=0.687]\n"
     ]
    },
    {
     "name": "stdout",
     "output_type": "stream",
     "text": [
      "Epoch 92 validation: Cross-entropy=0.86, Accuracy=67.8%\n"
     ]
    },
    {
     "name": "stderr",
     "output_type": "stream",
     "text": [
      "Epoch 93: 100%|██████████| 417/417 [00:04<00:00, 93.92batch/s, acc=0.85, loss=0.686] \n"
     ]
    },
    {
     "name": "stdout",
     "output_type": "stream",
     "text": [
      "Epoch 93 validation: Cross-entropy=0.86, Accuracy=67.8%\n"
     ]
    },
    {
     "name": "stderr",
     "output_type": "stream",
     "text": [
      "Epoch 94: 100%|██████████| 417/417 [00:03<00:00, 105.55batch/s, acc=0.85, loss=0.686]\n"
     ]
    },
    {
     "name": "stdout",
     "output_type": "stream",
     "text": [
      "Epoch 94 validation: Cross-entropy=0.86, Accuracy=67.9%\n"
     ]
    },
    {
     "name": "stderr",
     "output_type": "stream",
     "text": [
      "Epoch 95: 100%|██████████| 417/417 [00:04<00:00, 97.70batch/s, acc=0.85, loss=0.685] \n"
     ]
    },
    {
     "name": "stdout",
     "output_type": "stream",
     "text": [
      "Epoch 95 validation: Cross-entropy=0.86, Accuracy=68.0%\n"
     ]
    },
    {
     "name": "stderr",
     "output_type": "stream",
     "text": [
      "Epoch 96: 100%|██████████| 417/417 [00:04<00:00, 104.25batch/s, acc=0.85, loss=0.685]\n"
     ]
    },
    {
     "name": "stdout",
     "output_type": "stream",
     "text": [
      "Epoch 96 validation: Cross-entropy=0.86, Accuracy=68.0%\n"
     ]
    },
    {
     "name": "stderr",
     "output_type": "stream",
     "text": [
      "Epoch 97: 100%|██████████| 417/417 [00:04<00:00, 96.93batch/s, acc=0.85, loss=0.684] \n"
     ]
    },
    {
     "name": "stdout",
     "output_type": "stream",
     "text": [
      "Epoch 97 validation: Cross-entropy=0.86, Accuracy=68.1%\n"
     ]
    },
    {
     "name": "stderr",
     "output_type": "stream",
     "text": [
      "Epoch 98: 100%|██████████| 417/417 [00:04<00:00, 89.33batch/s, acc=0.85, loss=0.684] \n"
     ]
    },
    {
     "name": "stdout",
     "output_type": "stream",
     "text": [
      "Epoch 98 validation: Cross-entropy=0.86, Accuracy=68.1%\n"
     ]
    },
    {
     "name": "stderr",
     "output_type": "stream",
     "text": [
      "Epoch 99: 100%|██████████| 417/417 [00:04<00:00, 96.89batch/s, acc=0.85, loss=0.683] \n"
     ]
    },
    {
     "name": "stdout",
     "output_type": "stream",
     "text": [
      "Epoch 99 validation: Cross-entropy=0.86, Accuracy=68.1%\n"
     ]
    },
    {
     "name": "stderr",
     "output_type": "stream",
     "text": [
      "Epoch 100: 100%|██████████| 417/417 [00:04<00:00, 90.56batch/s, acc=0.85, loss=0.682] \n"
     ]
    },
    {
     "name": "stdout",
     "output_type": "stream",
     "text": [
      "Epoch 100 validation: Cross-entropy=0.86, Accuracy=68.2%\n"
     ]
    },
    {
     "name": "stderr",
     "output_type": "stream",
     "text": [
      "Epoch 101: 100%|██████████| 417/417 [00:04<00:00, 98.22batch/s, acc=0.85, loss=0.682] \n"
     ]
    },
    {
     "name": "stdout",
     "output_type": "stream",
     "text": [
      "Epoch 101 validation: Cross-entropy=0.86, Accuracy=68.3%\n"
     ]
    },
    {
     "name": "stderr",
     "output_type": "stream",
     "text": [
      "Epoch 102: 100%|██████████| 417/417 [00:04<00:00, 97.71batch/s, acc=0.85, loss=0.681] \n"
     ]
    },
    {
     "name": "stdout",
     "output_type": "stream",
     "text": [
      "Epoch 102 validation: Cross-entropy=0.86, Accuracy=68.3%\n"
     ]
    },
    {
     "name": "stderr",
     "output_type": "stream",
     "text": [
      "Epoch 103: 100%|██████████| 417/417 [00:03<00:00, 106.08batch/s, acc=0.85, loss=0.681]\n"
     ]
    },
    {
     "name": "stdout",
     "output_type": "stream",
     "text": [
      "Epoch 103 validation: Cross-entropy=0.86, Accuracy=68.4%\n"
     ]
    },
    {
     "name": "stderr",
     "output_type": "stream",
     "text": [
      "Epoch 104: 100%|██████████| 417/417 [00:04<00:00, 99.27batch/s, acc=0.85, loss=0.68]  \n"
     ]
    },
    {
     "name": "stdout",
     "output_type": "stream",
     "text": [
      "Epoch 104 validation: Cross-entropy=0.86, Accuracy=68.4%\n"
     ]
    },
    {
     "name": "stderr",
     "output_type": "stream",
     "text": [
      "Epoch 105: 100%|██████████| 417/417 [00:04<00:00, 83.97batch/s, acc=0.85, loss=0.68]  \n"
     ]
    },
    {
     "name": "stdout",
     "output_type": "stream",
     "text": [
      "Epoch 105 validation: Cross-entropy=0.86, Accuracy=68.4%\n"
     ]
    },
    {
     "name": "stderr",
     "output_type": "stream",
     "text": [
      "Epoch 106: 100%|██████████| 417/417 [00:04<00:00, 100.38batch/s, acc=0.85, loss=0.679]\n"
     ]
    },
    {
     "name": "stdout",
     "output_type": "stream",
     "text": [
      "Epoch 106 validation: Cross-entropy=0.86, Accuracy=68.5%\n"
     ]
    },
    {
     "name": "stderr",
     "output_type": "stream",
     "text": [
      "Epoch 107: 100%|██████████| 417/417 [00:04<00:00, 96.45batch/s, acc=0.9, loss=0.678]  \n"
     ]
    },
    {
     "name": "stdout",
     "output_type": "stream",
     "text": [
      "Epoch 107 validation: Cross-entropy=0.86, Accuracy=68.5%\n"
     ]
    },
    {
     "name": "stderr",
     "output_type": "stream",
     "text": [
      "Epoch 108: 100%|██████████| 417/417 [00:04<00:00, 91.69batch/s, acc=0.9, loss=0.678]  \n"
     ]
    },
    {
     "name": "stdout",
     "output_type": "stream",
     "text": [
      "Epoch 108 validation: Cross-entropy=0.86, Accuracy=68.5%\n"
     ]
    },
    {
     "name": "stderr",
     "output_type": "stream",
     "text": [
      "Epoch 109: 100%|██████████| 417/417 [00:04<00:00, 99.56batch/s, acc=0.9, loss=0.677]  \n"
     ]
    },
    {
     "name": "stdout",
     "output_type": "stream",
     "text": [
      "Epoch 109 validation: Cross-entropy=0.86, Accuracy=68.7%\n"
     ]
    },
    {
     "name": "stderr",
     "output_type": "stream",
     "text": [
      "Epoch 110: 100%|██████████| 417/417 [00:04<00:00, 92.83batch/s, acc=0.9, loss=0.677]  \n"
     ]
    },
    {
     "name": "stdout",
     "output_type": "stream",
     "text": [
      "Epoch 110 validation: Cross-entropy=0.86, Accuracy=68.7%\n"
     ]
    },
    {
     "name": "stderr",
     "output_type": "stream",
     "text": [
      "Epoch 111: 100%|██████████| 417/417 [00:04<00:00, 99.26batch/s, acc=0.9, loss=0.676]  \n"
     ]
    },
    {
     "name": "stdout",
     "output_type": "stream",
     "text": [
      "Epoch 111 validation: Cross-entropy=0.86, Accuracy=68.7%\n"
     ]
    },
    {
     "name": "stderr",
     "output_type": "stream",
     "text": [
      "Epoch 112: 100%|██████████| 417/417 [00:04<00:00, 95.54batch/s, acc=0.9, loss=0.676]  \n"
     ]
    },
    {
     "name": "stdout",
     "output_type": "stream",
     "text": [
      "Epoch 112 validation: Cross-entropy=0.86, Accuracy=68.7%\n"
     ]
    },
    {
     "name": "stderr",
     "output_type": "stream",
     "text": [
      "Epoch 113: 100%|██████████| 417/417 [00:04<00:00, 91.88batch/s, acc=0.9, loss=0.675]  \n"
     ]
    },
    {
     "name": "stdout",
     "output_type": "stream",
     "text": [
      "Epoch 113 validation: Cross-entropy=0.86, Accuracy=68.5%\n"
     ]
    },
    {
     "name": "stderr",
     "output_type": "stream",
     "text": [
      "Epoch 114: 100%|██████████| 417/417 [00:04<00:00, 98.38batch/s, acc=0.9, loss=0.674]  \n"
     ]
    },
    {
     "name": "stdout",
     "output_type": "stream",
     "text": [
      "Epoch 114 validation: Cross-entropy=0.86, Accuracy=68.7%\n"
     ]
    },
    {
     "name": "stderr",
     "output_type": "stream",
     "text": [
      "Epoch 115: 100%|██████████| 417/417 [00:04<00:00, 91.98batch/s, acc=0.9, loss=0.674]  \n"
     ]
    },
    {
     "name": "stdout",
     "output_type": "stream",
     "text": [
      "Epoch 115 validation: Cross-entropy=0.86, Accuracy=68.8%\n"
     ]
    },
    {
     "name": "stderr",
     "output_type": "stream",
     "text": [
      "Epoch 116: 100%|██████████| 417/417 [00:04<00:00, 96.46batch/s, acc=0.9, loss=0.673]  \n"
     ]
    },
    {
     "name": "stdout",
     "output_type": "stream",
     "text": [
      "Epoch 116 validation: Cross-entropy=0.86, Accuracy=68.8%\n"
     ]
    },
    {
     "name": "stderr",
     "output_type": "stream",
     "text": [
      "Epoch 117: 100%|██████████| 417/417 [00:04<00:00, 96.86batch/s, acc=0.9, loss=0.673]  \n"
     ]
    },
    {
     "name": "stdout",
     "output_type": "stream",
     "text": [
      "Epoch 117 validation: Cross-entropy=0.86, Accuracy=69.0%\n"
     ]
    },
    {
     "name": "stderr",
     "output_type": "stream",
     "text": [
      "Epoch 118: 100%|██████████| 417/417 [00:04<00:00, 95.32batch/s, acc=0.9, loss=0.672]  \n"
     ]
    },
    {
     "name": "stdout",
     "output_type": "stream",
     "text": [
      "Epoch 118 validation: Cross-entropy=0.86, Accuracy=69.0%\n"
     ]
    },
    {
     "name": "stderr",
     "output_type": "stream",
     "text": [
      "Epoch 119: 100%|██████████| 417/417 [00:05<00:00, 82.28batch/s, acc=0.9, loss=0.672]  \n"
     ]
    },
    {
     "name": "stdout",
     "output_type": "stream",
     "text": [
      "Epoch 119 validation: Cross-entropy=0.86, Accuracy=69.1%\n"
     ]
    },
    {
     "name": "stderr",
     "output_type": "stream",
     "text": [
      "Epoch 120: 100%|██████████| 417/417 [00:04<00:00, 99.33batch/s, acc=0.9, loss=0.672]  \n"
     ]
    },
    {
     "name": "stdout",
     "output_type": "stream",
     "text": [
      "Epoch 120 validation: Cross-entropy=0.86, Accuracy=69.0%\n"
     ]
    },
    {
     "name": "stderr",
     "output_type": "stream",
     "text": [
      "Epoch 121: 100%|██████████| 417/417 [00:04<00:00, 93.37batch/s, acc=0.9, loss=0.671]  \n"
     ]
    },
    {
     "name": "stdout",
     "output_type": "stream",
     "text": [
      "Epoch 121 validation: Cross-entropy=0.86, Accuracy=68.9%\n"
     ]
    },
    {
     "name": "stderr",
     "output_type": "stream",
     "text": [
      "Epoch 122: 100%|██████████| 417/417 [00:04<00:00, 86.32batch/s, acc=0.9, loss=0.671]  \n"
     ]
    },
    {
     "name": "stdout",
     "output_type": "stream",
     "text": [
      "Epoch 122 validation: Cross-entropy=0.86, Accuracy=68.9%\n"
     ]
    },
    {
     "name": "stderr",
     "output_type": "stream",
     "text": [
      "Epoch 123: 100%|██████████| 417/417 [00:04<00:00, 94.66batch/s, acc=0.9, loss=0.67]   \n"
     ]
    },
    {
     "name": "stdout",
     "output_type": "stream",
     "text": [
      "Epoch 123 validation: Cross-entropy=0.86, Accuracy=69.0%\n"
     ]
    },
    {
     "name": "stderr",
     "output_type": "stream",
     "text": [
      "Epoch 124: 100%|██████████| 417/417 [00:04<00:00, 103.76batch/s, acc=0.9, loss=0.67]  \n"
     ]
    },
    {
     "name": "stdout",
     "output_type": "stream",
     "text": [
      "Epoch 124 validation: Cross-entropy=0.86, Accuracy=69.1%\n"
     ]
    },
    {
     "name": "stderr",
     "output_type": "stream",
     "text": [
      "Epoch 125: 100%|██████████| 417/417 [00:04<00:00, 100.52batch/s, acc=0.9, loss=0.669] \n"
     ]
    },
    {
     "name": "stdout",
     "output_type": "stream",
     "text": [
      "Epoch 125 validation: Cross-entropy=0.86, Accuracy=69.0%\n"
     ]
    },
    {
     "name": "stderr",
     "output_type": "stream",
     "text": [
      "Epoch 126: 100%|██████████| 417/417 [00:04<00:00, 102.02batch/s, acc=0.9, loss=0.669] \n"
     ]
    },
    {
     "name": "stdout",
     "output_type": "stream",
     "text": [
      "Epoch 126 validation: Cross-entropy=0.86, Accuracy=69.1%\n"
     ]
    },
    {
     "name": "stderr",
     "output_type": "stream",
     "text": [
      "Epoch 127: 100%|██████████| 417/417 [00:04<00:00, 102.18batch/s, acc=0.9, loss=0.668] \n"
     ]
    },
    {
     "name": "stdout",
     "output_type": "stream",
     "text": [
      "Epoch 127 validation: Cross-entropy=0.85, Accuracy=69.1%\n"
     ]
    },
    {
     "name": "stderr",
     "output_type": "stream",
     "text": [
      "Epoch 128: 100%|██████████| 417/417 [00:04<00:00, 96.68batch/s, acc=0.9, loss=0.668]  \n"
     ]
    },
    {
     "name": "stdout",
     "output_type": "stream",
     "text": [
      "Epoch 128 validation: Cross-entropy=0.85, Accuracy=69.1%\n"
     ]
    },
    {
     "name": "stderr",
     "output_type": "stream",
     "text": [
      "Epoch 129: 100%|██████████| 417/417 [00:04<00:00, 96.32batch/s, acc=0.9, loss=0.668]  \n"
     ]
    },
    {
     "name": "stdout",
     "output_type": "stream",
     "text": [
      "Epoch 129 validation: Cross-entropy=0.85, Accuracy=69.1%\n"
     ]
    },
    {
     "name": "stderr",
     "output_type": "stream",
     "text": [
      "Epoch 130: 100%|██████████| 417/417 [00:04<00:00, 98.95batch/s, acc=0.9, loss=0.667]  \n"
     ]
    },
    {
     "name": "stdout",
     "output_type": "stream",
     "text": [
      "Epoch 130 validation: Cross-entropy=0.85, Accuracy=69.2%\n"
     ]
    },
    {
     "name": "stderr",
     "output_type": "stream",
     "text": [
      "Epoch 131: 100%|██████████| 417/417 [00:04<00:00, 98.23batch/s, acc=0.9, loss=0.667]  \n"
     ]
    },
    {
     "name": "stdout",
     "output_type": "stream",
     "text": [
      "Epoch 131 validation: Cross-entropy=0.85, Accuracy=69.2%\n"
     ]
    },
    {
     "name": "stderr",
     "output_type": "stream",
     "text": [
      "Epoch 132: 100%|██████████| 417/417 [00:04<00:00, 97.85batch/s, acc=0.9, loss=0.667]  \n"
     ]
    },
    {
     "name": "stdout",
     "output_type": "stream",
     "text": [
      "Epoch 132 validation: Cross-entropy=0.85, Accuracy=69.2%\n"
     ]
    },
    {
     "name": "stderr",
     "output_type": "stream",
     "text": [
      "Epoch 133: 100%|██████████| 417/417 [00:06<00:00, 60.29batch/s, acc=0.9, loss=0.666]  \n"
     ]
    },
    {
     "name": "stdout",
     "output_type": "stream",
     "text": [
      "Epoch 133 validation: Cross-entropy=0.85, Accuracy=69.2%\n"
     ]
    },
    {
     "name": "stderr",
     "output_type": "stream",
     "text": [
      "Epoch 134: 100%|██████████| 417/417 [00:07<00:00, 58.43batch/s, acc=0.9, loss=0.666]  \n"
     ]
    },
    {
     "name": "stdout",
     "output_type": "stream",
     "text": [
      "Epoch 134 validation: Cross-entropy=0.85, Accuracy=69.2%\n"
     ]
    },
    {
     "name": "stderr",
     "output_type": "stream",
     "text": [
      "Epoch 135: 100%|██████████| 417/417 [00:03<00:00, 107.04batch/s, acc=0.9, loss=0.666] \n"
     ]
    },
    {
     "name": "stdout",
     "output_type": "stream",
     "text": [
      "Epoch 135 validation: Cross-entropy=0.85, Accuracy=69.3%\n"
     ]
    },
    {
     "name": "stderr",
     "output_type": "stream",
     "text": [
      "Epoch 136: 100%|██████████| 417/417 [00:07<00:00, 52.95batch/s, acc=0.9, loss=0.666]  \n"
     ]
    },
    {
     "name": "stdout",
     "output_type": "stream",
     "text": [
      "Epoch 136 validation: Cross-entropy=0.85, Accuracy=69.3%\n"
     ]
    },
    {
     "name": "stderr",
     "output_type": "stream",
     "text": [
      "Epoch 137: 100%|██████████| 417/417 [00:08<00:00, 48.53batch/s, acc=0.9, loss=0.665]  \n"
     ]
    },
    {
     "name": "stdout",
     "output_type": "stream",
     "text": [
      "Epoch 137 validation: Cross-entropy=0.85, Accuracy=69.2%\n"
     ]
    },
    {
     "name": "stderr",
     "output_type": "stream",
     "text": [
      "Epoch 138: 100%|██████████| 417/417 [00:06<00:00, 65.43batch/s, acc=0.9, loss=0.665]  \n"
     ]
    },
    {
     "name": "stdout",
     "output_type": "stream",
     "text": [
      "Epoch 138 validation: Cross-entropy=0.85, Accuracy=69.1%\n"
     ]
    },
    {
     "name": "stderr",
     "output_type": "stream",
     "text": [
      "Epoch 139: 100%|██████████| 417/417 [00:04<00:00, 84.31batch/s, acc=0.9, loss=0.665]  \n"
     ]
    },
    {
     "name": "stdout",
     "output_type": "stream",
     "text": [
      "Epoch 139 validation: Cross-entropy=0.85, Accuracy=69.2%\n"
     ]
    },
    {
     "name": "stderr",
     "output_type": "stream",
     "text": [
      "Epoch 140: 100%|██████████| 417/417 [00:04<00:00, 86.19batch/s, acc=0.9, loss=0.664]  \n"
     ]
    },
    {
     "name": "stdout",
     "output_type": "stream",
     "text": [
      "Epoch 140 validation: Cross-entropy=0.85, Accuracy=69.2%\n"
     ]
    },
    {
     "name": "stderr",
     "output_type": "stream",
     "text": [
      "Epoch 141: 100%|██████████| 417/417 [00:03<00:00, 113.26batch/s, acc=0.9, loss=0.664] \n"
     ]
    },
    {
     "name": "stdout",
     "output_type": "stream",
     "text": [
      "Epoch 141 validation: Cross-entropy=0.85, Accuracy=69.2%\n"
     ]
    },
    {
     "name": "stderr",
     "output_type": "stream",
     "text": [
      "Epoch 142: 100%|██████████| 417/417 [00:06<00:00, 60.25batch/s, acc=0.9, loss=0.664]  \n"
     ]
    },
    {
     "name": "stdout",
     "output_type": "stream",
     "text": [
      "Epoch 142 validation: Cross-entropy=0.85, Accuracy=69.3%\n"
     ]
    },
    {
     "name": "stderr",
     "output_type": "stream",
     "text": [
      "Epoch 143: 100%|██████████| 417/417 [00:06<00:00, 69.38batch/s, acc=0.9, loss=0.664]  \n"
     ]
    },
    {
     "name": "stdout",
     "output_type": "stream",
     "text": [
      "Epoch 143 validation: Cross-entropy=0.85, Accuracy=69.3%\n"
     ]
    },
    {
     "name": "stderr",
     "output_type": "stream",
     "text": [
      "Epoch 144: 100%|██████████| 417/417 [00:04<00:00, 103.18batch/s, acc=0.9, loss=0.663] \n"
     ]
    },
    {
     "name": "stdout",
     "output_type": "stream",
     "text": [
      "Epoch 144 validation: Cross-entropy=0.85, Accuracy=69.3%\n"
     ]
    },
    {
     "name": "stderr",
     "output_type": "stream",
     "text": [
      "Epoch 145: 100%|██████████| 417/417 [00:04<00:00, 101.41batch/s, acc=0.9, loss=0.663] \n"
     ]
    },
    {
     "name": "stdout",
     "output_type": "stream",
     "text": [
      "Epoch 145 validation: Cross-entropy=0.85, Accuracy=69.3%\n"
     ]
    },
    {
     "name": "stderr",
     "output_type": "stream",
     "text": [
      "Epoch 146: 100%|██████████| 417/417 [00:03<00:00, 110.30batch/s, acc=0.9, loss=0.663] \n"
     ]
    },
    {
     "name": "stdout",
     "output_type": "stream",
     "text": [
      "Epoch 146 validation: Cross-entropy=0.85, Accuracy=69.3%\n"
     ]
    },
    {
     "name": "stderr",
     "output_type": "stream",
     "text": [
      "Epoch 147: 100%|██████████| 417/417 [00:03<00:00, 110.76batch/s, acc=0.9, loss=0.663] \n"
     ]
    },
    {
     "name": "stdout",
     "output_type": "stream",
     "text": [
      "Epoch 147 validation: Cross-entropy=0.85, Accuracy=69.3%\n"
     ]
    },
    {
     "name": "stderr",
     "output_type": "stream",
     "text": [
      "Epoch 148: 100%|██████████| 417/417 [00:04<00:00, 102.65batch/s, acc=0.9, loss=0.662] \n"
     ]
    },
    {
     "name": "stdout",
     "output_type": "stream",
     "text": [
      "Epoch 148 validation: Cross-entropy=0.85, Accuracy=69.3%\n"
     ]
    },
    {
     "name": "stderr",
     "output_type": "stream",
     "text": [
      "Epoch 149: 100%|██████████| 417/417 [00:03<00:00, 109.37batch/s, acc=0.9, loss=0.662] \n"
     ]
    },
    {
     "name": "stdout",
     "output_type": "stream",
     "text": [
      "Epoch 149 validation: Cross-entropy=0.85, Accuracy=69.3%\n"
     ]
    },
    {
     "name": "stderr",
     "output_type": "stream",
     "text": [
      "Epoch 150: 100%|██████████| 417/417 [00:03<00:00, 113.91batch/s, acc=0.9, loss=0.662] \n"
     ]
    },
    {
     "name": "stdout",
     "output_type": "stream",
     "text": [
      "Epoch 150 validation: Cross-entropy=0.85, Accuracy=69.4%\n"
     ]
    },
    {
     "name": "stderr",
     "output_type": "stream",
     "text": [
      "Epoch 151: 100%|██████████| 417/417 [00:04<00:00, 99.01batch/s, acc=0.9, loss=0.662]  \n"
     ]
    },
    {
     "name": "stdout",
     "output_type": "stream",
     "text": [
      "Epoch 151 validation: Cross-entropy=0.85, Accuracy=69.4%\n"
     ]
    },
    {
     "name": "stderr",
     "output_type": "stream",
     "text": [
      "Epoch 152: 100%|██████████| 417/417 [00:04<00:00, 87.02batch/s, acc=0.9, loss=0.662]  \n"
     ]
    },
    {
     "name": "stdout",
     "output_type": "stream",
     "text": [
      "Epoch 152 validation: Cross-entropy=0.85, Accuracy=69.4%\n"
     ]
    },
    {
     "name": "stderr",
     "output_type": "stream",
     "text": [
      "Epoch 153: 100%|██████████| 417/417 [00:04<00:00, 96.86batch/s, acc=0.9, loss=0.661]  \n"
     ]
    },
    {
     "name": "stdout",
     "output_type": "stream",
     "text": [
      "Epoch 153 validation: Cross-entropy=0.85, Accuracy=69.4%\n"
     ]
    },
    {
     "name": "stderr",
     "output_type": "stream",
     "text": [
      "Epoch 154: 100%|██████████| 417/417 [00:03<00:00, 110.07batch/s, acc=0.9, loss=0.661] \n"
     ]
    },
    {
     "name": "stdout",
     "output_type": "stream",
     "text": [
      "Epoch 154 validation: Cross-entropy=0.85, Accuracy=69.4%\n"
     ]
    },
    {
     "name": "stderr",
     "output_type": "stream",
     "text": [
      "Epoch 155: 100%|██████████| 417/417 [00:03<00:00, 110.57batch/s, acc=0.9, loss=0.661] \n"
     ]
    },
    {
     "name": "stdout",
     "output_type": "stream",
     "text": [
      "Epoch 155 validation: Cross-entropy=0.85, Accuracy=69.4%\n"
     ]
    },
    {
     "name": "stderr",
     "output_type": "stream",
     "text": [
      "Epoch 156: 100%|██████████| 417/417 [00:04<00:00, 94.72batch/s, acc=0.9, loss=0.661]  \n"
     ]
    },
    {
     "name": "stdout",
     "output_type": "stream",
     "text": [
      "Epoch 156 validation: Cross-entropy=0.85, Accuracy=69.5%\n"
     ]
    },
    {
     "name": "stderr",
     "output_type": "stream",
     "text": [
      "Epoch 157: 100%|██████████| 417/417 [00:03<00:00, 108.21batch/s, acc=0.9, loss=0.661] \n"
     ]
    },
    {
     "name": "stdout",
     "output_type": "stream",
     "text": [
      "Epoch 157 validation: Cross-entropy=0.85, Accuracy=69.5%\n"
     ]
    },
    {
     "name": "stderr",
     "output_type": "stream",
     "text": [
      "Epoch 158: 100%|██████████| 417/417 [00:03<00:00, 110.52batch/s, acc=0.9, loss=0.66]  \n"
     ]
    },
    {
     "name": "stdout",
     "output_type": "stream",
     "text": [
      "Epoch 158 validation: Cross-entropy=0.85, Accuracy=69.5%\n"
     ]
    },
    {
     "name": "stderr",
     "output_type": "stream",
     "text": [
      "Epoch 159: 100%|██████████| 417/417 [00:03<00:00, 106.20batch/s, acc=0.9, loss=0.66]  \n"
     ]
    },
    {
     "name": "stdout",
     "output_type": "stream",
     "text": [
      "Epoch 159 validation: Cross-entropy=0.85, Accuracy=69.5%\n"
     ]
    },
    {
     "name": "stderr",
     "output_type": "stream",
     "text": [
      "Epoch 160: 100%|██████████| 417/417 [00:03<00:00, 110.00batch/s, acc=0.9, loss=0.66]  \n"
     ]
    },
    {
     "name": "stdout",
     "output_type": "stream",
     "text": [
      "Epoch 160 validation: Cross-entropy=0.85, Accuracy=69.5%\n"
     ]
    },
    {
     "name": "stderr",
     "output_type": "stream",
     "text": [
      "Epoch 161: 100%|██████████| 417/417 [00:03<00:00, 110.42batch/s, acc=0.9, loss=0.66]  \n"
     ]
    },
    {
     "name": "stdout",
     "output_type": "stream",
     "text": [
      "Epoch 161 validation: Cross-entropy=0.85, Accuracy=69.5%\n"
     ]
    },
    {
     "name": "stderr",
     "output_type": "stream",
     "text": [
      "Epoch 162: 100%|██████████| 417/417 [00:03<00:00, 108.13batch/s, acc=0.9, loss=0.66]  \n"
     ]
    },
    {
     "name": "stdout",
     "output_type": "stream",
     "text": [
      "Epoch 162 validation: Cross-entropy=0.85, Accuracy=69.6%\n"
     ]
    },
    {
     "name": "stderr",
     "output_type": "stream",
     "text": [
      "Epoch 163: 100%|██████████| 417/417 [00:03<00:00, 113.42batch/s, acc=0.9, loss=0.66]  \n"
     ]
    },
    {
     "name": "stdout",
     "output_type": "stream",
     "text": [
      "Epoch 163 validation: Cross-entropy=0.85, Accuracy=69.6%\n"
     ]
    },
    {
     "name": "stderr",
     "output_type": "stream",
     "text": [
      "Epoch 164: 100%|██████████| 417/417 [00:03<00:00, 106.86batch/s, acc=0.9, loss=0.66]  \n"
     ]
    },
    {
     "name": "stdout",
     "output_type": "stream",
     "text": [
      "Epoch 164 validation: Cross-entropy=0.85, Accuracy=69.5%\n"
     ]
    },
    {
     "name": "stderr",
     "output_type": "stream",
     "text": [
      "Epoch 165: 100%|██████████| 417/417 [00:03<00:00, 108.00batch/s, acc=0.9, loss=0.66]  \n"
     ]
    },
    {
     "name": "stdout",
     "output_type": "stream",
     "text": [
      "Epoch 165 validation: Cross-entropy=0.85, Accuracy=69.6%\n"
     ]
    },
    {
     "name": "stderr",
     "output_type": "stream",
     "text": [
      "Epoch 166: 100%|██████████| 417/417 [00:03<00:00, 106.51batch/s, acc=0.9, loss=0.659] \n"
     ]
    },
    {
     "name": "stdout",
     "output_type": "stream",
     "text": [
      "Epoch 166 validation: Cross-entropy=0.85, Accuracy=69.5%\n"
     ]
    },
    {
     "name": "stderr",
     "output_type": "stream",
     "text": [
      "Epoch 167: 100%|██████████| 417/417 [00:04<00:00, 90.19batch/s, acc=0.9, loss=0.659]  \n"
     ]
    },
    {
     "name": "stdout",
     "output_type": "stream",
     "text": [
      "Epoch 167 validation: Cross-entropy=0.85, Accuracy=69.5%\n"
     ]
    },
    {
     "name": "stderr",
     "output_type": "stream",
     "text": [
      "Epoch 168: 100%|██████████| 417/417 [00:03<00:00, 107.59batch/s, acc=0.9, loss=0.659] \n"
     ]
    },
    {
     "name": "stdout",
     "output_type": "stream",
     "text": [
      "Epoch 168 validation: Cross-entropy=0.85, Accuracy=69.5%\n"
     ]
    },
    {
     "name": "stderr",
     "output_type": "stream",
     "text": [
      "Epoch 169: 100%|██████████| 417/417 [00:03<00:00, 104.96batch/s, acc=0.9, loss=0.659] \n"
     ]
    },
    {
     "name": "stdout",
     "output_type": "stream",
     "text": [
      "Epoch 169 validation: Cross-entropy=0.85, Accuracy=69.6%\n"
     ]
    },
    {
     "name": "stderr",
     "output_type": "stream",
     "text": [
      "Epoch 170: 100%|██████████| 417/417 [00:03<00:00, 112.00batch/s, acc=0.9, loss=0.659] \n"
     ]
    },
    {
     "name": "stdout",
     "output_type": "stream",
     "text": [
      "Epoch 170 validation: Cross-entropy=0.85, Accuracy=69.6%\n"
     ]
    },
    {
     "name": "stderr",
     "output_type": "stream",
     "text": [
      "Epoch 171: 100%|██████████| 417/417 [00:03<00:00, 107.12batch/s, acc=0.9, loss=0.659] \n"
     ]
    },
    {
     "name": "stdout",
     "output_type": "stream",
     "text": [
      "Epoch 171 validation: Cross-entropy=0.85, Accuracy=69.7%\n"
     ]
    },
    {
     "name": "stderr",
     "output_type": "stream",
     "text": [
      "Epoch 172: 100%|██████████| 417/417 [00:03<00:00, 107.70batch/s, acc=0.9, loss=0.659] \n"
     ]
    },
    {
     "name": "stdout",
     "output_type": "stream",
     "text": [
      "Epoch 172 validation: Cross-entropy=0.85, Accuracy=69.7%\n"
     ]
    },
    {
     "name": "stderr",
     "output_type": "stream",
     "text": [
      "Epoch 173: 100%|██████████| 417/417 [00:03<00:00, 113.32batch/s, acc=0.9, loss=0.659] \n"
     ]
    },
    {
     "name": "stdout",
     "output_type": "stream",
     "text": [
      "Epoch 173 validation: Cross-entropy=0.85, Accuracy=69.7%\n"
     ]
    },
    {
     "name": "stderr",
     "output_type": "stream",
     "text": [
      "Epoch 174: 100%|██████████| 417/417 [00:03<00:00, 109.82batch/s, acc=0.9, loss=0.659] \n"
     ]
    },
    {
     "name": "stdout",
     "output_type": "stream",
     "text": [
      "Epoch 174 validation: Cross-entropy=0.85, Accuracy=69.8%\n"
     ]
    },
    {
     "name": "stderr",
     "output_type": "stream",
     "text": [
      "Epoch 175: 100%|██████████| 417/417 [00:03<00:00, 109.28batch/s, acc=0.9, loss=0.659] \n"
     ]
    },
    {
     "name": "stdout",
     "output_type": "stream",
     "text": [
      "Epoch 175 validation: Cross-entropy=0.85, Accuracy=69.8%\n"
     ]
    },
    {
     "name": "stderr",
     "output_type": "stream",
     "text": [
      "Epoch 176: 100%|██████████| 417/417 [00:03<00:00, 110.63batch/s, acc=0.9, loss=0.659] \n"
     ]
    },
    {
     "name": "stdout",
     "output_type": "stream",
     "text": [
      "Epoch 176 validation: Cross-entropy=0.85, Accuracy=69.8%\n"
     ]
    },
    {
     "name": "stderr",
     "output_type": "stream",
     "text": [
      "Epoch 177: 100%|██████████| 417/417 [00:03<00:00, 106.88batch/s, acc=0.9, loss=0.658] \n"
     ]
    },
    {
     "name": "stdout",
     "output_type": "stream",
     "text": [
      "Epoch 177 validation: Cross-entropy=0.85, Accuracy=69.8%\n"
     ]
    },
    {
     "name": "stderr",
     "output_type": "stream",
     "text": [
      "Epoch 178: 100%|██████████| 417/417 [00:03<00:00, 107.30batch/s, acc=0.9, loss=0.658] \n"
     ]
    },
    {
     "name": "stdout",
     "output_type": "stream",
     "text": [
      "Epoch 178 validation: Cross-entropy=0.85, Accuracy=69.8%\n"
     ]
    },
    {
     "name": "stderr",
     "output_type": "stream",
     "text": [
      "Epoch 179: 100%|██████████| 417/417 [00:03<00:00, 111.71batch/s, acc=0.9, loss=0.658] \n"
     ]
    },
    {
     "name": "stdout",
     "output_type": "stream",
     "text": [
      "Epoch 179 validation: Cross-entropy=0.85, Accuracy=69.8%\n"
     ]
    },
    {
     "name": "stderr",
     "output_type": "stream",
     "text": [
      "Epoch 180: 100%|██████████| 417/417 [00:03<00:00, 112.59batch/s, acc=0.9, loss=0.658] \n"
     ]
    },
    {
     "name": "stdout",
     "output_type": "stream",
     "text": [
      "Epoch 180 validation: Cross-entropy=0.85, Accuracy=69.9%\n"
     ]
    },
    {
     "name": "stderr",
     "output_type": "stream",
     "text": [
      "Epoch 181: 100%|██████████| 417/417 [00:03<00:00, 110.47batch/s, acc=0.9, loss=0.658] \n"
     ]
    },
    {
     "name": "stdout",
     "output_type": "stream",
     "text": [
      "Epoch 181 validation: Cross-entropy=0.84, Accuracy=69.9%\n"
     ]
    },
    {
     "name": "stderr",
     "output_type": "stream",
     "text": [
      "Epoch 182: 100%|██████████| 417/417 [00:04<00:00, 94.39batch/s, acc=0.9, loss=0.658]  \n"
     ]
    },
    {
     "name": "stdout",
     "output_type": "stream",
     "text": [
      "Epoch 182 validation: Cross-entropy=0.84, Accuracy=69.8%\n"
     ]
    },
    {
     "name": "stderr",
     "output_type": "stream",
     "text": [
      "Epoch 183: 100%|██████████| 417/417 [00:03<00:00, 107.04batch/s, acc=0.9, loss=0.658] \n"
     ]
    },
    {
     "name": "stdout",
     "output_type": "stream",
     "text": [
      "Epoch 183 validation: Cross-entropy=0.84, Accuracy=69.8%\n"
     ]
    },
    {
     "name": "stderr",
     "output_type": "stream",
     "text": [
      "Epoch 184: 100%|██████████| 417/417 [00:03<00:00, 108.94batch/s, acc=0.9, loss=0.658] \n"
     ]
    },
    {
     "name": "stdout",
     "output_type": "stream",
     "text": [
      "Epoch 184 validation: Cross-entropy=0.84, Accuracy=69.8%\n"
     ]
    },
    {
     "name": "stderr",
     "output_type": "stream",
     "text": [
      "Epoch 185: 100%|██████████| 417/417 [00:03<00:00, 112.28batch/s, acc=0.9, loss=0.658] \n"
     ]
    },
    {
     "name": "stdout",
     "output_type": "stream",
     "text": [
      "Epoch 185 validation: Cross-entropy=0.84, Accuracy=69.8%\n"
     ]
    },
    {
     "name": "stderr",
     "output_type": "stream",
     "text": [
      "Epoch 186: 100%|██████████| 417/417 [00:04<00:00, 103.78batch/s, acc=0.9, loss=0.658] \n"
     ]
    },
    {
     "name": "stdout",
     "output_type": "stream",
     "text": [
      "Epoch 186 validation: Cross-entropy=0.84, Accuracy=69.8%\n"
     ]
    },
    {
     "name": "stderr",
     "output_type": "stream",
     "text": [
      "Epoch 187: 100%|██████████| 417/417 [00:03<00:00, 105.63batch/s, acc=0.9, loss=0.658] \n"
     ]
    },
    {
     "name": "stdout",
     "output_type": "stream",
     "text": [
      "Epoch 187 validation: Cross-entropy=0.84, Accuracy=69.8%\n"
     ]
    },
    {
     "name": "stderr",
     "output_type": "stream",
     "text": [
      "Epoch 188: 100%|██████████| 417/417 [00:04<00:00, 101.79batch/s, acc=0.9, loss=0.658] \n"
     ]
    },
    {
     "name": "stdout",
     "output_type": "stream",
     "text": [
      "Epoch 188 validation: Cross-entropy=0.84, Accuracy=70.0%\n"
     ]
    },
    {
     "name": "stderr",
     "output_type": "stream",
     "text": [
      "Epoch 189: 100%|██████████| 417/417 [00:04<00:00, 102.95batch/s, acc=0.9, loss=0.658] \n"
     ]
    },
    {
     "name": "stdout",
     "output_type": "stream",
     "text": [
      "Epoch 189 validation: Cross-entropy=0.84, Accuracy=70.0%\n"
     ]
    },
    {
     "name": "stderr",
     "output_type": "stream",
     "text": [
      "Epoch 190: 100%|██████████| 417/417 [00:04<00:00, 103.29batch/s, acc=0.9, loss=0.658] \n"
     ]
    },
    {
     "name": "stdout",
     "output_type": "stream",
     "text": [
      "Epoch 190 validation: Cross-entropy=0.84, Accuracy=70.0%\n"
     ]
    },
    {
     "name": "stderr",
     "output_type": "stream",
     "text": [
      "Epoch 191: 100%|██████████| 417/417 [00:03<00:00, 109.43batch/s, acc=0.9, loss=0.658] \n"
     ]
    },
    {
     "name": "stdout",
     "output_type": "stream",
     "text": [
      "Epoch 191 validation: Cross-entropy=0.84, Accuracy=70.0%\n"
     ]
    },
    {
     "name": "stderr",
     "output_type": "stream",
     "text": [
      "Epoch 192: 100%|██████████| 417/417 [00:04<00:00, 103.58batch/s, acc=0.9, loss=0.657] \n"
     ]
    },
    {
     "name": "stdout",
     "output_type": "stream",
     "text": [
      "Epoch 192 validation: Cross-entropy=0.84, Accuracy=70.0%\n"
     ]
    },
    {
     "name": "stderr",
     "output_type": "stream",
     "text": [
      "Epoch 193: 100%|██████████| 417/417 [00:03<00:00, 109.41batch/s, acc=0.9, loss=0.657] \n"
     ]
    },
    {
     "name": "stdout",
     "output_type": "stream",
     "text": [
      "Epoch 193 validation: Cross-entropy=0.84, Accuracy=70.0%\n"
     ]
    },
    {
     "name": "stderr",
     "output_type": "stream",
     "text": [
      "Epoch 194: 100%|██████████| 417/417 [00:03<00:00, 108.27batch/s, acc=0.9, loss=0.657] \n"
     ]
    },
    {
     "name": "stdout",
     "output_type": "stream",
     "text": [
      "Epoch 194 validation: Cross-entropy=0.84, Accuracy=70.1%\n"
     ]
    },
    {
     "name": "stderr",
     "output_type": "stream",
     "text": [
      "Epoch 195: 100%|██████████| 417/417 [00:03<00:00, 105.18batch/s, acc=0.9, loss=0.657] \n"
     ]
    },
    {
     "name": "stdout",
     "output_type": "stream",
     "text": [
      "Epoch 195 validation: Cross-entropy=0.84, Accuracy=70.1%\n"
     ]
    },
    {
     "name": "stderr",
     "output_type": "stream",
     "text": [
      "Epoch 196: 100%|██████████| 417/417 [00:03<00:00, 105.08batch/s, acc=0.9, loss=0.657] \n"
     ]
    },
    {
     "name": "stdout",
     "output_type": "stream",
     "text": [
      "Epoch 196 validation: Cross-entropy=0.84, Accuracy=70.1%\n"
     ]
    },
    {
     "name": "stderr",
     "output_type": "stream",
     "text": [
      "Epoch 197: 100%|██████████| 417/417 [00:03<00:00, 109.17batch/s, acc=0.9, loss=0.657] \n"
     ]
    },
    {
     "name": "stdout",
     "output_type": "stream",
     "text": [
      "Epoch 197 validation: Cross-entropy=0.84, Accuracy=70.1%\n"
     ]
    },
    {
     "name": "stderr",
     "output_type": "stream",
     "text": [
      "Epoch 198: 100%|██████████| 417/417 [00:03<00:00, 104.42batch/s, acc=0.9, loss=0.657] \n"
     ]
    },
    {
     "name": "stdout",
     "output_type": "stream",
     "text": [
      "Epoch 198 validation: Cross-entropy=0.84, Accuracy=70.1%\n"
     ]
    },
    {
     "name": "stderr",
     "output_type": "stream",
     "text": [
      "Epoch 199: 100%|██████████| 417/417 [00:03<00:00, 111.39batch/s, acc=0.9, loss=0.657] \n"
     ]
    },
    {
     "name": "stdout",
     "output_type": "stream",
     "text": [
      "Epoch 199 validation: Cross-entropy=0.84, Accuracy=70.1%\n"
     ]
    }
   ],
   "source": [
    "for epoch in range(N_EPOCHS):\n",
    "    epoch_loss = []\n",
    "    epoch_acc = []\n",
    "    \n",
    "    # Set model in training mode and run through each batch\n",
    "    model.train()\n",
    "    with tqdm.trange(batches_per_epoch, unit=\"batch\", mininterval=0) as bar:\n",
    "        bar.set_description(f\"Epoch {epoch}\")\n",
    "        for i in bar:\n",
    "            # Take a batch\n",
    "            start = i * BATCH_SIZE\n",
    "            X_batch = X_train_resampled[start:start+BATCH_SIZE]\n",
    "            y_batch = y_train_resampled[start:start+BATCH_SIZE]\n",
    "            # Forward pass\n",
    "            y_pred = model(X_batch)\n",
    "            loss = loss_fn(y_pred, y_batch)\n",
    "            # Backward pass\n",
    "            optimizer.zero_grad()\n",
    "            loss.backward()\n",
    "            # Update weights\n",
    "            optimizer.step()\n",
    "            # Compute and store metrics\n",
    "            acc = (torch.argmax(y_pred, 1) == torch.argmax(y_batch, 1)).float().mean()\n",
    "            epoch_loss.append(float(loss))\n",
    "            epoch_acc.append(float(acc))\n",
    "            bar.set_postfix(\n",
    "                loss=float(loss),\n",
    "                acc=float(acc)\n",
    "            )\n",
    "    \n",
    "    # Set model in evaluation mode and run through the test set\n",
    "    model.eval()\n",
    "    y_pred = model(X_valid)\n",
    "    ce = loss_fn(y_pred, y_valid)\n",
    "    acc = (torch.argmax(y_pred, 1) == torch.argmax(y_valid, 1)).float().mean()\n",
    "    ce = float(ce)\n",
    "    acc = float(acc)\n",
    "    train_loss_hist.append(np.mean(epoch_loss))\n",
    "    train_acc_hist.append(np.mean(epoch_acc))\n",
    "    valid_loss_hist.append(ce)\n",
    "    valid_acc_hist.append(acc)\n",
    "    if acc > best_acc:\n",
    "        best_acc = acc\n",
    "        best_weights = copy.deepcopy(model.state_dict())\n",
    "    print(f\"Epoch {epoch} validation: Cross-entropy={ce:.2f}, Accuracy={acc*100:.1f}%\")"
   ]
  },
  {
   "cell_type": "code",
   "execution_count": 182,
   "metadata": {},
   "outputs": [
    {
     "data": {
      "image/png": "[encoded data removed]",
      "text/plain": [
       "<Figure size 640x480 with 1 Axes>"
      ]
     },
     "metadata": {},
     "output_type": "display_data"
    },
    {
     "data": {
      "image/png": "[encoded data removed]",
      "text/plain": [
       "<Figure size 640x480 with 1 Axes>"
      ]
     },
     "metadata": {},
     "output_type": "display_data"
    }
   ],
   "source": [
    "# Plot the loss and accuracy\n",
    "plt.plot(train_loss_hist, label=\"train\")\n",
    "plt.plot(valid_loss_hist, label=\"valid\")\n",
    "plt.xlabel(\"epochs\")\n",
    "plt.ylabel(\"cross entropy\")\n",
    "plt.legend()\n",
    "plt.show()\n",
    " \n",
    "plt.plot(train_acc_hist, label=\"train\")\n",
    "plt.plot(valid_acc_hist, label=\"valid\")\n",
    "plt.xlabel(\"epochs\")\n",
    "plt.ylabel(\"accuracy\")\n",
    "plt.legend()\n",
    "plt.show()"
   ]
  },
  {
   "cell_type": "code",
   "execution_count": 183,
   "metadata": {},
   "outputs": [
    {
     "name": "stdout",
     "output_type": "stream",
     "text": [
      "Valid (training) Dataset: Cross-entropy=0.84, Accuracy=70.1%\n"
     ]
    }
   ],
   "source": [
    "# Restore best model\n",
    "model.load_state_dict(best_weights)\n",
    "\n",
    "# Evaluate best model\n",
    "model.eval()\n",
    "y_pred = model(X_valid)\n",
    "ce = loss_fn(y_pred, y_valid)\n",
    "acc = (torch.argmax(y_pred, 1) == torch.argmax(y_valid, 1)).float().mean()\n",
    "\n",
    "ce = float(ce)\n",
    "acc = float(acc)\n",
    "print(f\"Valid (training) Dataset: Cross-entropy={ce:.2f}, Accuracy={acc*100:.1f}%\")"
   ]
  },
  {
   "cell_type": "code",
   "execution_count": 184,
   "metadata": {},
   "outputs": [
    {
     "name": "stdout",
     "output_type": "stream",
     "text": [
      "              precision    recall  f1-score   support\n",
      "\n",
      "           C       0.89      0.69      0.78      1192\n",
      "          CL       0.11      0.52      0.18        64\n",
      "           D       0.71      0.74      0.73       642\n",
      "\n",
      "    accuracy                           0.70      1898\n",
      "   macro avg       0.57      0.65      0.56      1898\n",
      "weighted avg       0.80      0.70      0.74      1898\n",
      "\n"
     ]
    }
   ],
   "source": [
    "print(classification_report(torch.argmax(y_valid, 1), torch.argmax(y_pred, 1), target_names=['C', 'CL', 'D']))"
   ]
  },
  {
   "cell_type": "markdown",
   "metadata": {},
   "source": [
    "## Save Model"
   ]
  },
  {
   "cell_type": "code",
   "execution_count": 100,
   "metadata": {},
   "outputs": [],
   "source": [
    "# Restore best model\n",
    "model.load_state_dict(best_weights)\n",
    "\n",
    "torch.save(model.state_dict(), './models/multiclass_lo.pth')"
   ]
  },
  {
   "cell_type": "markdown",
   "metadata": {},
   "source": [
    "# Test Model"
   ]
  },
  {
   "cell_type": "code",
   "execution_count": 7,
   "metadata": {},
   "outputs": [
    {
     "data": {
      "text/html": [
       "<div>\n",
       "<style scoped>\n",
       "    .dataframe tbody tr th:only-of-type {\n",
       "        vertical-align: middle;\n",
       "    }\n",
       "\n",
       "    .dataframe tbody tr th {\n",
       "        vertical-align: top;\n",
       "    }\n",
       "\n",
       "    .dataframe thead th {\n",
       "        text-align: right;\n",
       "    }\n",
       "</style>\n",
       "<table border=\"1\" class=\"dataframe\">\n",
       "  <thead>\n",
       "    <tr style=\"text-align: right;\">\n",
       "      <th></th>\n",
       "      <th>N_Days</th>\n",
       "      <th>Age</th>\n",
       "      <th>Bilirubin</th>\n",
       "      <th>Cholesterol</th>\n",
       "      <th>Albumin</th>\n",
       "      <th>Copper</th>\n",
       "      <th>Alk_Phos</th>\n",
       "      <th>SGOT</th>\n",
       "      <th>Tryglicerides</th>\n",
       "      <th>Platelets</th>\n",
       "      <th>...</th>\n",
       "      <th>Stage</th>\n",
       "      <th>Drug_Placebo</th>\n",
       "      <th>Sex_F</th>\n",
       "      <th>Ascites_Y</th>\n",
       "      <th>Hepatomegaly_Y</th>\n",
       "      <th>Spiders_Y</th>\n",
       "      <th>Edema_N</th>\n",
       "      <th>Edema_S</th>\n",
       "      <th>Edema_Y</th>\n",
       "      <th>Status</th>\n",
       "    </tr>\n",
       "  </thead>\n",
       "  <tbody>\n",
       "    <tr>\n",
       "      <th>0</th>\n",
       "      <td>1.867719</td>\n",
       "      <td>-0.995874</td>\n",
       "      <td>-0.501778</td>\n",
       "      <td>-0.673743</td>\n",
       "      <td>0.132320</td>\n",
       "      <td>-0.680346</td>\n",
       "      <td>-0.583609</td>\n",
       "      <td>-0.982508</td>\n",
       "      <td>-0.164250</td>\n",
       "      <td>1.984845</td>\n",
       "      <td>...</td>\n",
       "      <td>2.0</td>\n",
       "      <td>0</td>\n",
       "      <td>1</td>\n",
       "      <td>0</td>\n",
       "      <td>0</td>\n",
       "      <td>0</td>\n",
       "      <td>1</td>\n",
       "      <td>0</td>\n",
       "      <td>0</td>\n",
       "      <td>C</td>\n",
       "    </tr>\n",
       "    <tr>\n",
       "      <th>1</th>\n",
       "      <td>-0.298014</td>\n",
       "      <td>-0.881071</td>\n",
       "      <td>-0.447462</td>\n",
       "      <td>1.454269</td>\n",
       "      <td>-1.770508</td>\n",
       "      <td>-0.641761</td>\n",
       "      <td>0.002771</td>\n",
       "      <td>1.126982</td>\n",
       "      <td>0.093545</td>\n",
       "      <td>-0.352261</td>\n",
       "      <td>...</td>\n",
       "      <td>3.0</td>\n",
       "      <td>0</td>\n",
       "      <td>1</td>\n",
       "      <td>0</td>\n",
       "      <td>0</td>\n",
       "      <td>0</td>\n",
       "      <td>1</td>\n",
       "      <td>0</td>\n",
       "      <td>0</td>\n",
       "      <td>C</td>\n",
       "    </tr>\n",
       "    <tr>\n",
       "      <th>2</th>\n",
       "      <td>0.439912</td>\n",
       "      <td>-0.611379</td>\n",
       "      <td>-0.556094</td>\n",
       "      <td>-1.270488</td>\n",
       "      <td>0.160720</td>\n",
       "      <td>-0.435979</td>\n",
       "      <td>-0.523194</td>\n",
       "      <td>-0.100930</td>\n",
       "      <td>-1.235090</td>\n",
       "      <td>-1.761234</td>\n",
       "      <td>...</td>\n",
       "      <td>3.0</td>\n",
       "      <td>1</td>\n",
       "      <td>1</td>\n",
       "      <td>0</td>\n",
       "      <td>0</td>\n",
       "      <td>1</td>\n",
       "      <td>1</td>\n",
       "      <td>0</td>\n",
       "      <td>0</td>\n",
       "      <td>C</td>\n",
       "    </tr>\n",
       "    <tr>\n",
       "      <th>3</th>\n",
       "      <td>1.158801</td>\n",
       "      <td>0.523017</td>\n",
       "      <td>-0.556094</td>\n",
       "      <td>-0.268408</td>\n",
       "      <td>0.274322</td>\n",
       "      <td>-0.616039</td>\n",
       "      <td>-0.594778</td>\n",
       "      <td>-0.888053</td>\n",
       "      <td>-0.580688</td>\n",
       "      <td>0.005573</td>\n",
       "      <td>...</td>\n",
       "      <td>3.0</td>\n",
       "      <td>0</td>\n",
       "      <td>1</td>\n",
       "      <td>0</td>\n",
       "      <td>0</td>\n",
       "      <td>0</td>\n",
       "      <td>1</td>\n",
       "      <td>0</td>\n",
       "      <td>0</td>\n",
       "      <td>C</td>\n",
       "    </tr>\n",
       "    <tr>\n",
       "      <th>4</th>\n",
       "      <td>0.252258</td>\n",
       "      <td>0.517018</td>\n",
       "      <td>-0.447462</td>\n",
       "      <td>-0.690632</td>\n",
       "      <td>-0.208485</td>\n",
       "      <td>-0.474563</td>\n",
       "      <td>-0.503394</td>\n",
       "      <td>-1.013993</td>\n",
       "      <td>-1.016956</td>\n",
       "      <td>-1.202118</td>\n",
       "      <td>...</td>\n",
       "      <td>4.0</td>\n",
       "      <td>0</td>\n",
       "      <td>1</td>\n",
       "      <td>0</td>\n",
       "      <td>1</td>\n",
       "      <td>0</td>\n",
       "      <td>1</td>\n",
       "      <td>0</td>\n",
       "      <td>0</td>\n",
       "      <td>D</td>\n",
       "    </tr>\n",
       "  </tbody>\n",
       "</table>\n",
       "<p>5 rows × 21 columns</p>\n",
       "</div>"
      ],
      "text/plain": [
       "     N_Days       Age  Bilirubin  Cholesterol   Albumin    Copper  Alk_Phos  \\\n",
       "0  1.867719 -0.995874  -0.501778    -0.673743  0.132320 -0.680346 -0.583609   \n",
       "1 -0.298014 -0.881071  -0.447462     1.454269 -1.770508 -0.641761  0.002771   \n",
       "2  0.439912 -0.611379  -0.556094    -1.270488  0.160720 -0.435979 -0.523194   \n",
       "3  1.158801  0.523017  -0.556094    -0.268408  0.274322 -0.616039 -0.594778   \n",
       "4  0.252258  0.517018  -0.447462    -0.690632 -0.208485 -0.474563 -0.503394   \n",
       "\n",
       "       SGOT  Tryglicerides  Platelets  ...  Stage  Drug_Placebo  Sex_F  \\\n",
       "0 -0.982508      -0.164250   1.984845  ...    2.0             0      1   \n",
       "1  1.126982       0.093545  -0.352261  ...    3.0             0      1   \n",
       "2 -0.100930      -1.235090  -1.761234  ...    3.0             1      1   \n",
       "3 -0.888053      -0.580688   0.005573  ...    3.0             0      1   \n",
       "4 -1.013993      -1.016956  -1.202118  ...    4.0             0      1   \n",
       "\n",
       "   Ascites_Y  Hepatomegaly_Y  Spiders_Y  Edema_N  Edema_S  Edema_Y  Status  \n",
       "0          0               0          0        1        0        0       C  \n",
       "1          0               0          0        1        0        0       C  \n",
       "2          0               0          1        1        0        0       C  \n",
       "3          0               0          0        1        0        0       C  \n",
       "4          0               1          0        1        0        0       D  \n",
       "\n",
       "[5 rows x 21 columns]"
      ]
     },
     "execution_count": 7,
     "metadata": {},
     "output_type": "execute_result"
    }
   ],
   "source": [
    "test_df = pd.read_csv('./data/test_ds.csv')\n",
    "test_df = preprocess(test_df)\n",
    "test_df.head(5)"
   ]
  },
  {
   "cell_type": "code",
   "execution_count": 15,
   "metadata": {},
   "outputs": [],
   "source": [
    "X_test = test_df.drop(['Status'], axis=1)\n",
    "y_test = test_df[['Status']]"
   ]
  },
  {
   "cell_type": "code",
   "execution_count": 16,
   "metadata": {},
   "outputs": [
    {
     "name": "stdout",
     "output_type": "stream",
     "text": [
      "[array(['C', 'CL', 'D'], dtype=object)]\n"
     ]
    }
   ],
   "source": [
    "# Encode Target\n",
    "onehot_enc_test = OneHotEncoder(sparse_output=False).fit(y_test)\n",
    "print(onehot_enc_test.categories_)\n",
    "y_test = onehot_enc_test.transform(y_test)"
   ]
  },
  {
   "cell_type": "code",
   "execution_count": 17,
   "metadata": {},
   "outputs": [
    {
     "name": "stdout",
     "output_type": "stream",
     "text": [
      "torch.Size([1581, 20])\n",
      "torch.Size([1581, 3])\n"
     ]
    }
   ],
   "source": [
    "# convert pandas DataFrame (X) and numpy array (y) into PyTorch tensors\n",
    "X_test = torch.tensor(X_test.values, dtype=torch.float32)\n",
    "y_test = torch.tensor(y_test, dtype=torch.float32)\n",
    "print(X_test.shape)\n",
    "print(y_test.shape)"
   ]
  },
  {
   "cell_type": "code",
   "execution_count": 20,
   "metadata": {},
   "outputs": [
    {
     "data": {
      "text/plain": [
       "<All keys matched successfully>"
      ]
     },
     "execution_count": 20,
     "metadata": {},
     "output_type": "execute_result"
    }
   ],
   "source": [
    "# Load the model\n",
    "model = MulticlassLO()\n",
    "model.load_state_dict(torch.load('./models/multiclass_lo.pth'))"
   ]
  },
  {
   "cell_type": "code",
   "execution_count": 29,
   "metadata": {},
   "outputs": [
    {
     "name": "stdout",
     "output_type": "stream",
     "text": [
      "Test (training) Dataset: Cross-entropy=0.74, Accuracy=80.9%\n"
     ]
    }
   ],
   "source": [
    "model.eval()\n",
    "y_pred = model(X_test)\n",
    "ce = loss_fn(y_pred, y_test)\n",
    "acc = (torch.argmax(y_pred, 1) == torch.argmax(y_test, 1)).float().mean()\n",
    "\n",
    "ce = float(ce)\n",
    "acc = float(acc)\n",
    "print(f\"Test (training) Dataset: Cross-entropy={ce:.2f}, Accuracy={acc*100:.1f}%\")"
   ]
  },
  {
   "cell_type": "code",
   "execution_count": 33,
   "metadata": {},
   "outputs": [
    {
     "name": "stdout",
     "output_type": "stream",
     "text": [
      "              precision    recall  f1-score   support\n",
      "\n",
      "           C       0.84      0.90      0.87       993\n",
      "          CL       0.00      0.00      0.00        55\n",
      "           D       0.75      0.72      0.73       533\n",
      "\n",
      "    accuracy                           0.81      1581\n",
      "   macro avg       0.53      0.54      0.53      1581\n",
      "weighted avg       0.78      0.81      0.79      1581\n",
      "\n"
     ]
    }
   ],
   "source": [
    "print(classification_report(torch.argmax(y_test, 1), torch.argmax(y_pred, 1), target_names=['C', 'CL', 'D']))"
   ]
  },
  {
   "cell_type": "markdown",
   "metadata": {},
   "source": [
    "# Prediction on the Test Dataset\n",
    "_The non-labelled official test dataset from Kaggle_"
   ]
  },
  {
   "cell_type": "code",
   "execution_count": 6,
   "metadata": {},
   "outputs": [
    {
     "data": {
      "text/html": [
       "<div>\n",
       "<style scoped>\n",
       "    .dataframe tbody tr th:only-of-type {\n",
       "        vertical-align: middle;\n",
       "    }\n",
       "\n",
       "    .dataframe tbody tr th {\n",
       "        vertical-align: top;\n",
       "    }\n",
       "\n",
       "    .dataframe thead th {\n",
       "        text-align: right;\n",
       "    }\n",
       "</style>\n",
       "<table border=\"1\" class=\"dataframe\">\n",
       "  <thead>\n",
       "    <tr style=\"text-align: right;\">\n",
       "      <th></th>\n",
       "      <th>id</th>\n",
       "      <th>N_Days</th>\n",
       "      <th>Drug</th>\n",
       "      <th>Age</th>\n",
       "      <th>Sex</th>\n",
       "      <th>Ascites</th>\n",
       "      <th>Hepatomegaly</th>\n",
       "      <th>Spiders</th>\n",
       "      <th>Edema</th>\n",
       "      <th>Bilirubin</th>\n",
       "      <th>Cholesterol</th>\n",
       "      <th>Albumin</th>\n",
       "      <th>Copper</th>\n",
       "      <th>Alk_Phos</th>\n",
       "      <th>SGOT</th>\n",
       "      <th>Tryglicerides</th>\n",
       "      <th>Platelets</th>\n",
       "      <th>Prothrombin</th>\n",
       "      <th>Stage</th>\n",
       "    </tr>\n",
       "  </thead>\n",
       "  <tbody>\n",
       "    <tr>\n",
       "      <th>0</th>\n",
       "      <td>7905</td>\n",
       "      <td>3839</td>\n",
       "      <td>D-penicillamine</td>\n",
       "      <td>19724</td>\n",
       "      <td>F</td>\n",
       "      <td>N</td>\n",
       "      <td>Y</td>\n",
       "      <td>N</td>\n",
       "      <td>N</td>\n",
       "      <td>1.2</td>\n",
       "      <td>546.0</td>\n",
       "      <td>3.37</td>\n",
       "      <td>65.0</td>\n",
       "      <td>1636.0</td>\n",
       "      <td>151.90</td>\n",
       "      <td>90.0</td>\n",
       "      <td>430.0</td>\n",
       "      <td>10.6</td>\n",
       "      <td>2.0</td>\n",
       "    </tr>\n",
       "    <tr>\n",
       "      <th>1</th>\n",
       "      <td>7906</td>\n",
       "      <td>2468</td>\n",
       "      <td>D-penicillamine</td>\n",
       "      <td>14975</td>\n",
       "      <td>F</td>\n",
       "      <td>N</td>\n",
       "      <td>N</td>\n",
       "      <td>N</td>\n",
       "      <td>N</td>\n",
       "      <td>1.1</td>\n",
       "      <td>660.0</td>\n",
       "      <td>4.22</td>\n",
       "      <td>94.0</td>\n",
       "      <td>1257.0</td>\n",
       "      <td>151.90</td>\n",
       "      <td>155.0</td>\n",
       "      <td>227.0</td>\n",
       "      <td>10.0</td>\n",
       "      <td>2.0</td>\n",
       "    </tr>\n",
       "    <tr>\n",
       "      <th>2</th>\n",
       "      <td>7907</td>\n",
       "      <td>51</td>\n",
       "      <td>Placebo</td>\n",
       "      <td>13149</td>\n",
       "      <td>F</td>\n",
       "      <td>N</td>\n",
       "      <td>Y</td>\n",
       "      <td>N</td>\n",
       "      <td>Y</td>\n",
       "      <td>2.0</td>\n",
       "      <td>151.0</td>\n",
       "      <td>2.96</td>\n",
       "      <td>46.0</td>\n",
       "      <td>961.0</td>\n",
       "      <td>69.75</td>\n",
       "      <td>101.0</td>\n",
       "      <td>213.0</td>\n",
       "      <td>13.0</td>\n",
       "      <td>4.0</td>\n",
       "    </tr>\n",
       "    <tr>\n",
       "      <th>3</th>\n",
       "      <td>7908</td>\n",
       "      <td>2330</td>\n",
       "      <td>D-penicillamine</td>\n",
       "      <td>20510</td>\n",
       "      <td>F</td>\n",
       "      <td>N</td>\n",
       "      <td>N</td>\n",
       "      <td>N</td>\n",
       "      <td>N</td>\n",
       "      <td>0.6</td>\n",
       "      <td>293.0</td>\n",
       "      <td>3.85</td>\n",
       "      <td>40.0</td>\n",
       "      <td>554.0</td>\n",
       "      <td>125.55</td>\n",
       "      <td>56.0</td>\n",
       "      <td>270.0</td>\n",
       "      <td>10.6</td>\n",
       "      <td>2.0</td>\n",
       "    </tr>\n",
       "    <tr>\n",
       "      <th>4</th>\n",
       "      <td>7909</td>\n",
       "      <td>1615</td>\n",
       "      <td>D-penicillamine</td>\n",
       "      <td>21904</td>\n",
       "      <td>F</td>\n",
       "      <td>N</td>\n",
       "      <td>Y</td>\n",
       "      <td>N</td>\n",
       "      <td>N</td>\n",
       "      <td>1.4</td>\n",
       "      <td>277.0</td>\n",
       "      <td>2.97</td>\n",
       "      <td>121.0</td>\n",
       "      <td>1110.0</td>\n",
       "      <td>125.00</td>\n",
       "      <td>126.0</td>\n",
       "      <td>221.0</td>\n",
       "      <td>9.8</td>\n",
       "      <td>1.0</td>\n",
       "    </tr>\n",
       "  </tbody>\n",
       "</table>\n",
       "</div>"
      ],
      "text/plain": [
       "     id  N_Days             Drug    Age Sex Ascites Hepatomegaly Spiders  \\\n",
       "0  7905    3839  D-penicillamine  19724   F       N            Y       N   \n",
       "1  7906    2468  D-penicillamine  14975   F       N            N       N   \n",
       "2  7907      51          Placebo  13149   F       N            Y       N   \n",
       "3  7908    2330  D-penicillamine  20510   F       N            N       N   \n",
       "4  7909    1615  D-penicillamine  21904   F       N            Y       N   \n",
       "\n",
       "  Edema  Bilirubin  Cholesterol  Albumin  Copper  Alk_Phos    SGOT  \\\n",
       "0     N        1.2        546.0     3.37    65.0    1636.0  151.90   \n",
       "1     N        1.1        660.0     4.22    94.0    1257.0  151.90   \n",
       "2     Y        2.0        151.0     2.96    46.0     961.0   69.75   \n",
       "3     N        0.6        293.0     3.85    40.0     554.0  125.55   \n",
       "4     N        1.4        277.0     2.97   121.0    1110.0  125.00   \n",
       "\n",
       "   Tryglicerides  Platelets  Prothrombin  Stage  \n",
       "0           90.0      430.0         10.6    2.0  \n",
       "1          155.0      227.0         10.0    2.0  \n",
       "2          101.0      213.0         13.0    4.0  \n",
       "3           56.0      270.0         10.6    2.0  \n",
       "4          126.0      221.0          9.8    1.0  "
      ]
     },
     "execution_count": 6,
     "metadata": {},
     "output_type": "execute_result"
    }
   ],
   "source": [
    "kaggle_test_df = pd.read_csv('./data/test.csv')\n",
    "kaggle_test_df.head(5)"
   ]
  },
  {
   "cell_type": "code",
   "execution_count": 7,
   "metadata": {},
   "outputs": [
    {
     "data": {
      "text/html": [
       "<div>\n",
       "<style scoped>\n",
       "    .dataframe tbody tr th:only-of-type {\n",
       "        vertical-align: middle;\n",
       "    }\n",
       "\n",
       "    .dataframe tbody tr th {\n",
       "        vertical-align: top;\n",
       "    }\n",
       "\n",
       "    .dataframe thead th {\n",
       "        text-align: right;\n",
       "    }\n",
       "</style>\n",
       "<table border=\"1\" class=\"dataframe\">\n",
       "  <thead>\n",
       "    <tr style=\"text-align: right;\">\n",
       "      <th></th>\n",
       "      <th>N_Days</th>\n",
       "      <th>Age</th>\n",
       "      <th>Bilirubin</th>\n",
       "      <th>Cholesterol</th>\n",
       "      <th>Albumin</th>\n",
       "      <th>Copper</th>\n",
       "      <th>Alk_Phos</th>\n",
       "      <th>SGOT</th>\n",
       "      <th>Tryglicerides</th>\n",
       "      <th>Platelets</th>\n",
       "      <th>Prothrombin</th>\n",
       "      <th>Stage</th>\n",
       "      <th>Drug_Placebo</th>\n",
       "      <th>Sex_F</th>\n",
       "      <th>Ascites_Y</th>\n",
       "      <th>Hepatomegaly_Y</th>\n",
       "      <th>Spiders_Y</th>\n",
       "      <th>Edema_N</th>\n",
       "      <th>Edema_S</th>\n",
       "      <th>Edema_Y</th>\n",
       "    </tr>\n",
       "  </thead>\n",
       "  <tbody>\n",
       "    <tr>\n",
       "      <th>0</th>\n",
       "      <td>1.656608</td>\n",
       "      <td>0.342186</td>\n",
       "      <td>-0.363546</td>\n",
       "      <td>0.965540</td>\n",
       "      <td>-0.473636</td>\n",
       "      <td>-0.254101</td>\n",
       "      <td>-0.090552</td>\n",
       "      <td>0.782524</td>\n",
       "      <td>-0.480744</td>\n",
       "      <td>1.895231</td>\n",
       "      <td>-0.041463</td>\n",
       "      <td>2.0</td>\n",
       "      <td>0</td>\n",
       "      <td>1</td>\n",
       "      <td>0</td>\n",
       "      <td>1</td>\n",
       "      <td>0</td>\n",
       "      <td>1</td>\n",
       "      <td>0</td>\n",
       "      <td>0</td>\n",
       "    </tr>\n",
       "    <tr>\n",
       "      <th>1</th>\n",
       "      <td>0.395038</td>\n",
       "      <td>-0.983033</td>\n",
       "      <td>-0.389506</td>\n",
       "      <td>1.534346</td>\n",
       "      <td>1.921728</td>\n",
       "      <td>0.119925</td>\n",
       "      <td>-0.286401</td>\n",
       "      <td>0.782524</td>\n",
       "      <td>0.755049</td>\n",
       "      <td>-0.422762</td>\n",
       "      <td>-0.798430</td>\n",
       "      <td>2.0</td>\n",
       "      <td>0</td>\n",
       "      <td>1</td>\n",
       "      <td>0</td>\n",
       "      <td>0</td>\n",
       "      <td>0</td>\n",
       "      <td>1</td>\n",
       "      <td>0</td>\n",
       "      <td>0</td>\n",
       "    </tr>\n",
       "    <tr>\n",
       "      <th>2</th>\n",
       "      <td>-1.829045</td>\n",
       "      <td>-1.492582</td>\n",
       "      <td>-0.155863</td>\n",
       "      <td>-1.005321</td>\n",
       "      <td>-1.629046</td>\n",
       "      <td>-0.499153</td>\n",
       "      <td>-0.439359</td>\n",
       "      <td>-0.895372</td>\n",
       "      <td>-0.271610</td>\n",
       "      <td>-0.582624</td>\n",
       "      <td>2.986409</td>\n",
       "      <td>4.0</td>\n",
       "      <td>1</td>\n",
       "      <td>1</td>\n",
       "      <td>0</td>\n",
       "      <td>1</td>\n",
       "      <td>0</td>\n",
       "      <td>0</td>\n",
       "      <td>0</td>\n",
       "      <td>1</td>\n",
       "    </tr>\n",
       "    <tr>\n",
       "      <th>3</th>\n",
       "      <td>0.268052</td>\n",
       "      <td>0.561521</td>\n",
       "      <td>-0.519308</td>\n",
       "      <td>-0.296809</td>\n",
       "      <td>0.879041</td>\n",
       "      <td>-0.576538</td>\n",
       "      <td>-0.649677</td>\n",
       "      <td>0.244331</td>\n",
       "      <td>-1.127159</td>\n",
       "      <td>0.068241</td>\n",
       "      <td>-0.041463</td>\n",
       "      <td>2.0</td>\n",
       "      <td>0</td>\n",
       "      <td>1</td>\n",
       "      <td>0</td>\n",
       "      <td>0</td>\n",
       "      <td>0</td>\n",
       "      <td>1</td>\n",
       "      <td>0</td>\n",
       "      <td>0</td>\n",
       "    </tr>\n",
       "    <tr>\n",
       "      <th>4</th>\n",
       "      <td>-0.389878</td>\n",
       "      <td>0.950520</td>\n",
       "      <td>-0.311625</td>\n",
       "      <td>-0.376641</td>\n",
       "      <td>-1.600866</td>\n",
       "      <td>0.468156</td>\n",
       "      <td>-0.362363</td>\n",
       "      <td>0.233097</td>\n",
       "      <td>0.203695</td>\n",
       "      <td>-0.491274</td>\n",
       "      <td>-1.050753</td>\n",
       "      <td>1.0</td>\n",
       "      <td>0</td>\n",
       "      <td>1</td>\n",
       "      <td>0</td>\n",
       "      <td>1</td>\n",
       "      <td>0</td>\n",
       "      <td>1</td>\n",
       "      <td>0</td>\n",
       "      <td>0</td>\n",
       "    </tr>\n",
       "    <tr>\n",
       "      <th>...</th>\n",
       "      <td>...</td>\n",
       "      <td>...</td>\n",
       "      <td>...</td>\n",
       "      <td>...</td>\n",
       "      <td>...</td>\n",
       "      <td>...</td>\n",
       "      <td>...</td>\n",
       "      <td>...</td>\n",
       "      <td>...</td>\n",
       "      <td>...</td>\n",
       "      <td>...</td>\n",
       "      <td>...</td>\n",
       "      <td>...</td>\n",
       "      <td>...</td>\n",
       "      <td>...</td>\n",
       "      <td>...</td>\n",
       "      <td>...</td>\n",
       "      <td>...</td>\n",
       "      <td>...</td>\n",
       "      <td>...</td>\n",
       "    </tr>\n",
       "    <tr>\n",
       "      <th>5266</th>\n",
       "      <td>0.764951</td>\n",
       "      <td>-1.735358</td>\n",
       "      <td>-0.337585</td>\n",
       "      <td>-0.251903</td>\n",
       "      <td>-0.304551</td>\n",
       "      <td>-0.125127</td>\n",
       "      <td>-0.240927</td>\n",
       "      <td>0.641593</td>\n",
       "      <td>-1.355306</td>\n",
       "      <td>-0.948022</td>\n",
       "      <td>-0.041463</td>\n",
       "      <td>3.0</td>\n",
       "      <td>1</td>\n",
       "      <td>1</td>\n",
       "      <td>0</td>\n",
       "      <td>0</td>\n",
       "      <td>0</td>\n",
       "      <td>1</td>\n",
       "      <td>0</td>\n",
       "      <td>0</td>\n",
       "    </tr>\n",
       "    <tr>\n",
       "      <th>5267</th>\n",
       "      <td>-0.247250</td>\n",
       "      <td>1.759492</td>\n",
       "      <td>-0.545268</td>\n",
       "      <td>-0.666034</td>\n",
       "      <td>1.555379</td>\n",
       "      <td>0.468156</td>\n",
       "      <td>-0.593351</td>\n",
       "      <td>-0.705421</td>\n",
       "      <td>-0.404696</td>\n",
       "      <td>0.536407</td>\n",
       "      <td>-1.176914</td>\n",
       "      <td>3.0</td>\n",
       "      <td>1</td>\n",
       "      <td>1</td>\n",
       "      <td>0</td>\n",
       "      <td>0</td>\n",
       "      <td>0</td>\n",
       "      <td>1</td>\n",
       "      <td>0</td>\n",
       "      <td>0</td>\n",
       "    </tr>\n",
       "    <tr>\n",
       "      <th>5268</th>\n",
       "      <td>1.535144</td>\n",
       "      <td>-0.420743</td>\n",
       "      <td>-0.467387</td>\n",
       "      <td>-0.187039</td>\n",
       "      <td>1.555379</td>\n",
       "      <td>-0.924769</td>\n",
       "      <td>-0.090035</td>\n",
       "      <td>1.162425</td>\n",
       "      <td>-0.860989</td>\n",
       "      <td>1.849556</td>\n",
       "      <td>0.337021</td>\n",
       "      <td>3.0</td>\n",
       "      <td>0</td>\n",
       "      <td>1</td>\n",
       "      <td>0</td>\n",
       "      <td>1</td>\n",
       "      <td>0</td>\n",
       "      <td>1</td>\n",
       "      <td>0</td>\n",
       "      <td>0</td>\n",
       "    </tr>\n",
       "    <tr>\n",
       "      <th>5269</th>\n",
       "      <td>-0.757031</td>\n",
       "      <td>-1.876558</td>\n",
       "      <td>-0.493347</td>\n",
       "      <td>-0.117186</td>\n",
       "      <td>0.738137</td>\n",
       "      <td>-0.421768</td>\n",
       "      <td>-0.585599</td>\n",
       "      <td>-1.155788</td>\n",
       "      <td>0.203695</td>\n",
       "      <td>0.479314</td>\n",
       "      <td>-0.546108</td>\n",
       "      <td>1.0</td>\n",
       "      <td>1</td>\n",
       "      <td>1</td>\n",
       "      <td>0</td>\n",
       "      <td>0</td>\n",
       "      <td>0</td>\n",
       "      <td>1</td>\n",
       "      <td>0</td>\n",
       "      <td>0</td>\n",
       "    </tr>\n",
       "    <tr>\n",
       "      <th>5270</th>\n",
       "      <td>0.214682</td>\n",
       "      <td>0.865688</td>\n",
       "      <td>-0.155863</td>\n",
       "      <td>-0.601170</td>\n",
       "      <td>-0.332732</td>\n",
       "      <td>-0.860282</td>\n",
       "      <td>-0.090552</td>\n",
       "      <td>1.162425</td>\n",
       "      <td>-0.613830</td>\n",
       "      <td>-0.582624</td>\n",
       "      <td>3.743376</td>\n",
       "      <td>2.0</td>\n",
       "      <td>0</td>\n",
       "      <td>1</td>\n",
       "      <td>0</td>\n",
       "      <td>0</td>\n",
       "      <td>0</td>\n",
       "      <td>1</td>\n",
       "      <td>0</td>\n",
       "      <td>0</td>\n",
       "    </tr>\n",
       "  </tbody>\n",
       "</table>\n",
       "<p>5271 rows × 20 columns</p>\n",
       "</div>"
      ],
      "text/plain": [
       "        N_Days       Age  Bilirubin  Cholesterol   Albumin    Copper  \\\n",
       "0     1.656608  0.342186  -0.363546     0.965540 -0.473636 -0.254101   \n",
       "1     0.395038 -0.983033  -0.389506     1.534346  1.921728  0.119925   \n",
       "2    -1.829045 -1.492582  -0.155863    -1.005321 -1.629046 -0.499153   \n",
       "3     0.268052  0.561521  -0.519308    -0.296809  0.879041 -0.576538   \n",
       "4    -0.389878  0.950520  -0.311625    -0.376641 -1.600866  0.468156   \n",
       "...        ...       ...        ...          ...       ...       ...   \n",
       "5266  0.764951 -1.735358  -0.337585    -0.251903 -0.304551 -0.125127   \n",
       "5267 -0.247250  1.759492  -0.545268    -0.666034  1.555379  0.468156   \n",
       "5268  1.535144 -0.420743  -0.467387    -0.187039  1.555379 -0.924769   \n",
       "5269 -0.757031 -1.876558  -0.493347    -0.117186  0.738137 -0.421768   \n",
       "5270  0.214682  0.865688  -0.155863    -0.601170 -0.332732 -0.860282   \n",
       "\n",
       "      Alk_Phos      SGOT  Tryglicerides  Platelets  Prothrombin  Stage  \\\n",
       "0    -0.090552  0.782524      -0.480744   1.895231    -0.041463    2.0   \n",
       "1    -0.286401  0.782524       0.755049  -0.422762    -0.798430    2.0   \n",
       "2    -0.439359 -0.895372      -0.271610  -0.582624     2.986409    4.0   \n",
       "3    -0.649677  0.244331      -1.127159   0.068241    -0.041463    2.0   \n",
       "4    -0.362363  0.233097       0.203695  -0.491274    -1.050753    1.0   \n",
       "...        ...       ...            ...        ...          ...    ...   \n",
       "5266 -0.240927  0.641593      -1.355306  -0.948022    -0.041463    3.0   \n",
       "5267 -0.593351 -0.705421      -0.404696   0.536407    -1.176914    3.0   \n",
       "5268 -0.090035  1.162425      -0.860989   1.849556     0.337021    3.0   \n",
       "5269 -0.585599 -1.155788       0.203695   0.479314    -0.546108    1.0   \n",
       "5270 -0.090552  1.162425      -0.613830  -0.582624     3.743376    2.0   \n",
       "\n",
       "      Drug_Placebo  Sex_F  Ascites_Y  Hepatomegaly_Y  Spiders_Y  Edema_N  \\\n",
       "0                0      1          0               1          0        1   \n",
       "1                0      1          0               0          0        1   \n",
       "2                1      1          0               1          0        0   \n",
       "3                0      1          0               0          0        1   \n",
       "4                0      1          0               1          0        1   \n",
       "...            ...    ...        ...             ...        ...      ...   \n",
       "5266             1      1          0               0          0        1   \n",
       "5267             1      1          0               0          0        1   \n",
       "5268             0      1          0               1          0        1   \n",
       "5269             1      1          0               0          0        1   \n",
       "5270             0      1          0               0          0        1   \n",
       "\n",
       "      Edema_S  Edema_Y  \n",
       "0           0        0  \n",
       "1           0        0  \n",
       "2           0        1  \n",
       "3           0        0  \n",
       "4           0        0  \n",
       "...       ...      ...  \n",
       "5266        0        0  \n",
       "5267        0        0  \n",
       "5268        0        0  \n",
       "5269        0        0  \n",
       "5270        0        0  \n",
       "\n",
       "[5271 rows x 20 columns]"
      ]
     },
     "execution_count": 7,
     "metadata": {},
     "output_type": "execute_result"
    }
   ],
   "source": [
    "X_kaggle_test = preprocess_X(kaggle_test_df)\n",
    "X_kaggle_test"
   ]
  },
  {
   "cell_type": "code",
   "execution_count": 8,
   "metadata": {},
   "outputs": [],
   "source": [
    "# convert pandas DataFrame (X) and numpy array (y) into PyTorch tensors\n",
    "X_kaggle_test = torch.tensor(X_kaggle_test.values, dtype=torch.float32)"
   ]
  },
  {
   "cell_type": "code",
   "execution_count": 11,
   "metadata": {},
   "outputs": [
    {
     "data": {
      "text/plain": [
       "<All keys matched successfully>"
      ]
     },
     "execution_count": 11,
     "metadata": {},
     "output_type": "execute_result"
    }
   ],
   "source": [
    "# # Load model\n",
    "# model = MulticlassLO()\n",
    "# model.load_state_dict(torch.load('./models/multiclass_lo.pth'))"
   ]
  },
  {
   "cell_type": "code",
   "execution_count": 12,
   "metadata": {},
   "outputs": [
    {
     "data": {
      "text/plain": [
       "tensor([[9.8632e-01, 4.7884e-04, 1.3203e-02],\n",
       "        [9.8302e-01, 8.6955e-04, 1.6112e-02],\n",
       "        [1.5635e-02, 4.3543e-05, 9.8432e-01],\n",
       "        ...,\n",
       "        [9.9901e-01, 2.0583e-05, 9.6896e-04],\n",
       "        [9.9918e-01, 4.1421e-05, 7.7788e-04],\n",
       "        [1.4819e-01, 2.2790e-03, 8.4953e-01]], grad_fn=<SoftmaxBackward0>)"
      ]
     },
     "execution_count": 12,
     "metadata": {},
     "output_type": "execute_result"
    }
   ],
   "source": [
    "model.eval()\n",
    "y_kaggle_pred = model(X_kaggle_test)\n",
    "y_kaggle_pred"
   ]
  },
  {
   "cell_type": "markdown",
   "metadata": {},
   "source": [
    "## Finalize the result"
   ]
  },
  {
   "cell_type": "code",
   "execution_count": 17,
   "metadata": {},
   "outputs": [],
   "source": [
    "def finalize_result(y_pred, id_col, columns_name) -> pd.DataFrame:\n",
    "\n",
    "    y_pred.detach().apply_(lambda x: max(min(x, 1 - 10**(-15)), 10**(-15)))\n",
    "    res_df = pd.DataFrame(y_pred.detach().numpy(), dtype=np.float32, columns=columns_name)\n",
    "\n",
    "    res_df = pd.concat([id_col, res_df], axis=1)\n",
    "    return res_df\n",
    "    "
   ]
  },
  {
   "cell_type": "code",
   "execution_count": 15,
   "metadata": {},
   "outputs": [],
   "source": [
    "col_names = ['Status_C', 'Status_CL', 'Status_D']"
   ]
  },
  {
   "cell_type": "code",
   "execution_count": 20,
   "metadata": {},
   "outputs": [
    {
     "data": {
      "text/html": [
       "<div>\n",
       "<style scoped>\n",
       "    .dataframe tbody tr th:only-of-type {\n",
       "        vertical-align: middle;\n",
       "    }\n",
       "\n",
       "    .dataframe tbody tr th {\n",
       "        vertical-align: top;\n",
       "    }\n",
       "\n",
       "    .dataframe thead th {\n",
       "        text-align: right;\n",
       "    }\n",
       "</style>\n",
       "<table border=\"1\" class=\"dataframe\">\n",
       "  <thead>\n",
       "    <tr style=\"text-align: right;\">\n",
       "      <th></th>\n",
       "      <th>id</th>\n",
       "      <th>Status_C</th>\n",
       "      <th>Status_CL</th>\n",
       "      <th>Status_D</th>\n",
       "    </tr>\n",
       "  </thead>\n",
       "  <tbody>\n",
       "    <tr>\n",
       "      <th>0</th>\n",
       "      <td>7905</td>\n",
       "      <td>0.986318</td>\n",
       "      <td>0.000479</td>\n",
       "      <td>0.013203</td>\n",
       "    </tr>\n",
       "    <tr>\n",
       "      <th>1</th>\n",
       "      <td>7906</td>\n",
       "      <td>0.983019</td>\n",
       "      <td>0.000870</td>\n",
       "      <td>0.016112</td>\n",
       "    </tr>\n",
       "    <tr>\n",
       "      <th>2</th>\n",
       "      <td>7907</td>\n",
       "      <td>0.015635</td>\n",
       "      <td>0.000044</td>\n",
       "      <td>0.984321</td>\n",
       "    </tr>\n",
       "    <tr>\n",
       "      <th>3</th>\n",
       "      <td>7908</td>\n",
       "      <td>0.998028</td>\n",
       "      <td>0.000132</td>\n",
       "      <td>0.001841</td>\n",
       "    </tr>\n",
       "    <tr>\n",
       "      <th>4</th>\n",
       "      <td>7909</td>\n",
       "      <td>0.814857</td>\n",
       "      <td>0.003046</td>\n",
       "      <td>0.182098</td>\n",
       "    </tr>\n",
       "    <tr>\n",
       "      <th>...</th>\n",
       "      <td>...</td>\n",
       "      <td>...</td>\n",
       "      <td>...</td>\n",
       "      <td>...</td>\n",
       "    </tr>\n",
       "    <tr>\n",
       "      <th>5266</th>\n",
       "      <td>13171</td>\n",
       "      <td>0.997255</td>\n",
       "      <td>0.000045</td>\n",
       "      <td>0.002700</td>\n",
       "    </tr>\n",
       "    <tr>\n",
       "      <th>5267</th>\n",
       "      <td>13172</td>\n",
       "      <td>0.999258</td>\n",
       "      <td>0.000028</td>\n",
       "      <td>0.000714</td>\n",
       "    </tr>\n",
       "    <tr>\n",
       "      <th>5268</th>\n",
       "      <td>13173</td>\n",
       "      <td>0.999010</td>\n",
       "      <td>0.000021</td>\n",
       "      <td>0.000969</td>\n",
       "    </tr>\n",
       "    <tr>\n",
       "      <th>5269</th>\n",
       "      <td>13174</td>\n",
       "      <td>0.999181</td>\n",
       "      <td>0.000041</td>\n",
       "      <td>0.000778</td>\n",
       "    </tr>\n",
       "    <tr>\n",
       "      <th>5270</th>\n",
       "      <td>13175</td>\n",
       "      <td>0.148188</td>\n",
       "      <td>0.002279</td>\n",
       "      <td>0.849533</td>\n",
       "    </tr>\n",
       "  </tbody>\n",
       "</table>\n",
       "<p>5271 rows × 4 columns</p>\n",
       "</div>"
      ],
      "text/plain": [
       "         id  Status_C  Status_CL  Status_D\n",
       "0      7905  0.986318   0.000479  0.013203\n",
       "1      7906  0.983019   0.000870  0.016112\n",
       "2      7907  0.015635   0.000044  0.984321\n",
       "3      7908  0.998028   0.000132  0.001841\n",
       "4      7909  0.814857   0.003046  0.182098\n",
       "...     ...       ...        ...       ...\n",
       "5266  13171  0.997255   0.000045  0.002700\n",
       "5267  13172  0.999258   0.000028  0.000714\n",
       "5268  13173  0.999010   0.000021  0.000969\n",
       "5269  13174  0.999181   0.000041  0.000778\n",
       "5270  13175  0.148188   0.002279  0.849533\n",
       "\n",
       "[5271 rows x 4 columns]"
      ]
     },
     "execution_count": 20,
     "metadata": {},
     "output_type": "execute_result"
    }
   ],
   "source": [
    "res_df = finalize_result(y_kaggle_pred, kaggle_test_df[['id']], columns_name=col_names)\n",
    "res_df"
   ]
  },
  {
   "cell_type": "markdown",
   "metadata": {},
   "source": [
    "## Save the result to .csv file"
   ]
  },
  {
   "cell_type": "code",
   "execution_count": 124,
   "metadata": {},
   "outputs": [],
   "source": [
    "res_df.to_csv('./results/multiclass_lo_res.csv', index=False)"
   ]
  }
 ],
 "metadata": {
  "kernelspec": {
   "display_name": "base",
   "language": "python",
   "name": "python3"
  },
  "language_info": {
   "codemirror_mode": {
    "name": "ipython",
    "version": 3
   },
   "file_extension": ".py",
   "mimetype": "text/x-python",
   "name": "python",
   "nbconvert_exporter": "python",
   "pygments_lexer": "ipython3",
   "version": "3.10.9"
  }
 },
 "nbformat": 4,
 "nbformat_minor": 2
}
